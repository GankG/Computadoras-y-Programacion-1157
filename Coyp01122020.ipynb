{
  "nbformat": 4,
  "nbformat_minor": 0,
  "metadata": {
    "colab": {
      "name": "Coyp01122020.ipynb",
      "provenance": [],
      "authorship_tag": "ABX9TyPzuH0BcHu2D1dvL8RNtCbS",
      "include_colab_link": true
    },
    "kernelspec": {
      "name": "python3",
      "display_name": "Python 3"
    }
  },
  "cells": [
    {
      "cell_type": "markdown",
      "metadata": {
        "id": "view-in-github",
        "colab_type": "text"
      },
      "source": [
        "<a href=\"https://colab.research.google.com/github/GankG/Computadoras-y-Programacion-1157/blob/google-collab/Coyp01122020.ipynb\" target=\"_parent\"><img src=\"https://colab.research.google.com/assets/colab-badge.svg\" alt=\"Open In Colab\"/></a>"
      ]
    },
    {
      "cell_type": "code",
      "metadata": {
        "colab": {
          "base_uri": "https://localhost:8080/"
        },
        "id": "PwoBgRqmYRCa",
        "outputId": "5a28f930-b827-4305-8809-14685d74d3aa"
      },
      "source": [
        "#Ejemplo 1\n",
        "#Pedir 3 numeros enteros y se debe de mostrar el mayor de los tres\n",
        "\n",
        "import array\n",
        "array.array('i')\n",
        "a = array.array('i',(0 for i in range(0, 3)))\n",
        "\n",
        "for i in range (0, 3):\n",
        " a[i] = int(input(f\"Ingresa el: {i+1} numero: \"))\n",
        "\n",
        "if a[0] > a[1] and a[0] > a[2]:\n",
        "  print(\"El numero mayor es: \", a[0])\n",
        "elif a[1] > a[2]:\n",
        "  print(\"El numero mayor es: \", a[1])\n",
        "else:\n",
        "  print(\"El numero mayor es: \", a[2])"
      ],
      "execution_count": 6,
      "outputs": [
        {
          "output_type": "stream",
          "text": [
            "Ingresa el: 1 numero: 5\n",
            "Ingresa el: 2 numero: 7\n",
            "Ingresa el: 3 numero: 15\n",
            "El numero mayor es:  15\n"
          ],
          "name": "stdout"
        }
      ]
    },
    {
      "cell_type": "code",
      "metadata": {
        "colab": {
          "base_uri": "https://localhost:8080/"
        },
        "id": "HFenPuHjZe07",
        "outputId": "3abcb9b5-dc60-4786-e8f1-004b106886bb"
      },
      "source": [
        "#Ejemplo 2\n",
        "nombre = str(input(\"Ingrese el nombre del trabajador: \"))\n",
        "horas = int(input(f\"¿Cuantas horas ha trabajado {nombre} esta semana? : \"))\n",
        "sueldo = float(input(f\"¿Cuanto se le paga a {nombre} por cada hora? : \"))\n",
        "pago = 0\n",
        "#Evaluar su sueldo\n",
        "\n",
        "if horas <= 40:\n",
        "  pago = horas * sueldo\n",
        "  print(\"El pago para \",nombre,\" es de: $\",pago)\n",
        "else:\n",
        "  extras = horas - 40\n",
        "  pago = 40 * sueldo\n",
        "  pago += (extras * sueldo)*2\n",
        "  print(\"El pago para \",nombre,\" es de: $\",pago)"
      ],
      "execution_count": 4,
      "outputs": [
        {
          "output_type": "stream",
          "text": [
            "Ingrese el nombre del trabajador: Juan\n",
            "¿Cuantas horas ha trabajado Juan esta semana? : 41\n",
            "¿Cuanto se le paga a Juan por cada hora? : 150\n",
            "El pago para  Juan  es de: $ 6300.0\n"
          ],
          "name": "stdout"
        }
      ]
    },
    {
      "cell_type": "code",
      "metadata": {
        "colab": {
          "base_uri": "https://localhost:8080/"
        },
        "id": "uDwGPHHWb5di",
        "outputId": "bb6fefe8-1662-4f5e-a8d6-b1d883d7bac4"
      },
      "source": [
        "#Ejemplo 3\n",
        "#Calcular el salario semanal de x trabajador\n",
        "#El salario semanal se calcula CON base a las horas semanales trabajadas\n",
        "#El pago por hora es variable (se pide por teclado)\n",
        "#Si las horas trabajadas superan las 40 horas, el pago por hora extra es:\n",
        "#Doble en el rango de 40 horas a 50 horas\n",
        "#Triple en el rango de 50 horas a 60 horas\n",
        "#Incentivo de $2000 si rebasa las 60 horas.\n",
        "\n",
        "#def horasExtra(horas):\n",
        "#  if horas >= 40:\n",
        "  \n",
        "#  return horas\n",
        "\n",
        "\n",
        "nombre = str(input(\"Ingrese el nombre del trabajador: \"))\n",
        "horas = int(input(f\"¿Cuantas horas ha trabajado {nombre} esta semana? : \"))\n",
        "sueldo = float(input(f\"¿Cuanto se le paga a {nombre} por cada hora? : \"))\n",
        "pago = horas * sueldo\n",
        "\n",
        "print (\"El pago base de \",nombre,\" es de: $\",pago)\n",
        "\n",
        "if horas >= 60:\n",
        "  horasextra = horas - 40\n",
        "  pago += ((sueldo * 2) * 10) + ((sueldo * 3) * 9) + 2000\n",
        "\n",
        "  print(f\"{nombre} tiene {horasextra} horas extra, lo que suma 60 o más horas, por lo que se le otorgara un bono de $2000.\")\n",
        "  print(f\"{nombre} igualmente tiene 9 horas extra al triple, estas se pagaran al triple. Esto es: ${9* (sueldo * 3)}\")\n",
        "  print(f\"Además tiene 10 horas al doble, las cuales tambien se añadiran. Esto es: ${10 * (sueldo * 2)}\")\n",
        "\n",
        "elif horas >= 51 and horas <= 60:\n",
        "  horasextra = horas - 50\n",
        "  pago += ((sueldo * 2) * 10) + ((sueldo * 3) * horasextra)\n",
        "\n",
        "  print(f\"{nombre} tiene {horasextra} horas extra al triple, estas se pagaran al triple. Esto es: ${horasextra * (sueldo * 3)}\")\n",
        "  print(f\"Además tiene 10 horas al doble, las cuales tambien se añadiran. Esto es: ${10 * (sueldo * 2)}\")\n",
        "\n",
        "elif horas >= 40 and horas <= 50:\n",
        "  horasextra = horas - 40\n",
        "  pago += horasextra * 2\n",
        "\n",
        "  print(f\"{nombre} tiene {horasextra} horas doble, estas se le pagaran al doble y se añadiran a su sueldo base. Esto es: ${horasextra * (sueldo * 2)}\")\n",
        "\n",
        "\n",
        "print(f\"El pago final para {nombre} es de: ${pago}\")\n"
      ],
      "execution_count": 27,
      "outputs": [
        {
          "output_type": "stream",
          "text": [
            "Ingrese el nombre del trabajador: Ryan\n",
            "¿Cuantas horas ha trabajado Ryan esta semana? : 60\n",
            "¿Cuanto se le paga a Ryan por cada hora? : 50\n",
            "El pago base de  Ryan  es de: $ 3000.0\n",
            "Ryan tiene 20 horas extra, lo que suma 60 o más horas, por lo que se le otorgara un bono de $2000.\n",
            "Ryan igualmente tiene 9 horas extra al triple, estas se pagaran al triple. Esto es: $1350.0\n",
            "Además tiene 10 horas al doble, las cuales tambien se añadiran. Esto es: $1000.0\n",
            "El pago final para Ryan es de: $7350.0\n"
          ],
          "name": "stdout"
        }
      ]
    },
    {
      "cell_type": "code",
      "metadata": {
        "colab": {
          "base_uri": "https://localhost:8080/"
        },
        "id": "ha9biFLKpigC",
        "outputId": "493f4a95-58e0-4c17-bea0-cffdba8f9001"
      },
      "source": [
        "#estructura for\n",
        "\n",
        "for estaciones in [\"Primavera\", \"Verano\", \"Otoño\", \"Invierno\", \"Venus\"]:\n",
        "  print(estaciones)"
      ],
      "execution_count": 26,
      "outputs": [
        {
          "output_type": "stream",
          "text": [
            "Primavera\n",
            "Verano\n",
            "Otoño\n",
            "Invierno\n",
            "Venus\n"
          ],
          "name": "stdout"
        }
      ]
    }
  ]
}