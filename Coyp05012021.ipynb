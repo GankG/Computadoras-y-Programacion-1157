{
  "nbformat": 4,
  "nbformat_minor": 0,
  "metadata": {
    "colab": {
      "name": "Coyp05012021.ipynb",
      "provenance": [],
      "authorship_tag": "ABX9TyOYDg1mLx5rKP300JNCupK3",
      "include_colab_link": true
    },
    "kernelspec": {
      "name": "python3",
      "display_name": "Python 3"
    }
  },
  "cells": [
    {
      "cell_type": "markdown",
      "metadata": {
        "id": "view-in-github",
        "colab_type": "text"
      },
      "source": [
        "<a href=\"https://colab.research.google.com/github/GankG/Computadoras-y-Programacion-1157/blob/google-collab/Coyp05012021.ipynb\" target=\"_parent\"><img src=\"https://colab.research.google.com/assets/colab-badge.svg\" alt=\"Open In Colab\"/></a>"
      ]
    },
    {
      "cell_type": "code",
      "metadata": {
        "colab": {
          "base_uri": "https://localhost:8080/"
        },
        "id": "guhmxELr5WnM",
        "outputId": "344ddbe5-d520-4277-f7f9-90d9f9ddfeb9"
      },
      "source": [
        "sueldos = [0.0 for x in range (7)]\r\n",
        "print(sueldos)\r\n",
        "sueldos[0] = 15.3\r\n",
        "sueldos[1] = 12.4\r\n",
        "sueldos[2] = 18.6\r\n",
        "sueldos[3] = 25.9\r\n",
        "sueldos[4] = 35.4\r\n",
        "sueldos[5] = 28.1\r\n",
        "sueldos[6] = 35.8\r\n",
        "print(sueldos)\r\n",
        "for i in range (0, 7):\r\n",
        "  sueldos[i] = i + 1 #float(input(f\"Introduzca el sueldo del {i + 1} empleado \"))\r\n",
        "print(sueldos)"
      ],
      "execution_count": 1,
      "outputs": [
        {
          "output_type": "stream",
          "text": [
            "[0.0, 0.0, 0.0, 0.0, 0.0, 0.0, 0.0]\n",
            "[15.3, 12.4, 18.6, 25.9, 35.4, 28.1, 35.8]\n",
            "[1, 2, 3, 4, 5, 6, 7]\n"
          ],
          "name": "stdout"
        }
      ]
    },
    {
      "cell_type": "code",
      "metadata": {
        "colab": {
          "base_uri": "https://localhost:8080/"
        },
        "id": "gs2YzT6k5gMY",
        "outputId": "c54f62bb-c596-43e4-a74f-294d320beeab"
      },
      "source": [
        "#problema 4.1\r\n",
        "MAXIMO = 7\r\n",
        "suma = 0.0\r\n",
        "sueldos = [0.0 for x in range (MAXIMO)]\r\n",
        "for i in range(MAXIMO):\r\n",
        "  sueldos[i]= float(input(f\"Introduzca el sueldo del empleado {i + 1}: $\")) \r\n",
        "\r\n",
        "for i in range(MAXIMO):\r\n",
        "  print(f\"Trabajador {i + 1}, gana: {sueldos[i]}\")\r\n",
        "\r\n",
        "for i in range(MAXIMO):\r\n",
        "  suma = suma + sueldos[i]\r\n",
        "\r\n",
        "prom = suma / MAXIMO\r\n",
        "print(f\"El promedio de sueldos es: {prom}\")\r\n",
        "\r\n",
        "for i in range(7):\r\n",
        "  if sueldos[i] > prom:\r\n",
        "    print(f\"El trabajador {i + 1} tiene un sueldo mayor al promedio, tiene de sueldo: ${sueldos[i]}\")"
      ],
      "execution_count": 2,
      "outputs": [
        {
          "output_type": "stream",
          "text": [
            "Introduzca el sueldo del empleado 1: $500\n",
            "Introduzca el sueldo del empleado 2: $600\n",
            "Introduzca el sueldo del empleado 3: $700\n",
            "Introduzca el sueldo del empleado 4: $800\n",
            "Introduzca el sueldo del empleado 5: $900\n",
            "Introduzca el sueldo del empleado 6: $1000\n",
            "Introduzca el sueldo del empleado 7: $1100\n",
            "Trabajador 1, gana: 500.0\n",
            "Trabajador 2, gana: 600.0\n",
            "Trabajador 3, gana: 700.0\n",
            "Trabajador 4, gana: 800.0\n",
            "Trabajador 5, gana: 900.0\n",
            "Trabajador 6, gana: 1000.0\n",
            "Trabajador 7, gana: 1100.0\n",
            "El promedio de sueldos es: 800.0\n",
            "El trabajador 5 tiene un sueldo mayor al promedio, tiene de sueldo: $900.0\n",
            "El trabajador 6 tiene un sueldo mayor al promedio, tiene de sueldo: $1000.0\n",
            "El trabajador 7 tiene un sueldo mayor al promedio, tiene de sueldo: $1100.0\n"
          ],
          "name": "stdout"
        }
      ]
    },
    {
      "cell_type": "code",
      "metadata": {
        "colab": {
          "base_uri": "https://localhost:8080/"
        },
        "id": "EC6gRwAR5orv",
        "outputId": "1f363fec-8b1b-496d-ef02-439eb83ec82f"
      },
      "source": [
        "numeros = [float(0) for x in range(5)]\r\n",
        "mayor, menor, suma, promedio = 0, 0, 0, 0\r\n",
        "for i in range (0, 5):\r\n",
        "  numeros[i] = float(input(f\"Introduzca el {i+1}° número: \"))\r\n",
        "  if i > 0:\r\n",
        "    if numeros[i] > mayor:\r\n",
        "      mayor = numeros[i]\r\n",
        "    if numeros[i] < menor:\r\n",
        "      menor = numeros[i]\r\n",
        "  else:\r\n",
        "    mayor = numeros[i]\r\n",
        "    menor = numeros[i]\r\n",
        "  suma += numeros[i]\r\n",
        "promedio = suma / 5\r\n",
        "\r\n",
        "print(f\"El número mayor es: {mayor}\")\r\n",
        "print(f\"El número menor es: {menor}\")\r\n",
        "print(f\"El promedio de los números es: {promedio}\")"
      ],
      "execution_count": 5,
      "outputs": [
        {
          "output_type": "stream",
          "text": [
            "Introduzca el 1° número: 5\n",
            "Introduzca el 2° número: 6\n",
            "Introduzca el 3° número: 7\n",
            "Introduzca el 4° número: 8\n",
            "Introduzca el 5° número: 9\n",
            "El número mayor es: 9.0\n",
            "El número menor es: 5.0\n",
            "El promedio de los números es: 7.0\n"
          ],
          "name": "stdout"
        }
      ]
    },
    {
      "cell_type": "code",
      "metadata": {
        "colab": {
          "base_uri": "https://localhost:8080/"
        },
        "id": "q0_Auly06NC0",
        "outputId": "75cf09ec-04c1-49ea-ee0a-f46ecb5e0b26"
      },
      "source": [
        "N = int(input(\"Ingrese el numero de elementos del arreglo: \"))\r\n",
        "VEC = []\r\n",
        "if 1 <= N and N <=500:\r\n",
        "  VEC = [0 for x in range(N)]\r\n",
        "  for I in range(N):\r\n",
        "    VEC[I]=int(input(\"Ingrese valor\" + str(I+1) + \":\"))\r\n",
        "  print(\"Lista de numero sin repeticiones: \")\r\n",
        "\r\n",
        "  I =0\r\n",
        "  while I<N:\r\n",
        "    print(VEC[I])\r\n",
        "    REPET = VEC[I]\r\n",
        "    while I < N and REPET == VEC[I]:\r\n",
        "      I = I +1\r\n",
        "    I = I + 1\r\n",
        "else: \r\n",
        "  print(\"EL numero de elementos del arreglo es incorrecto\")"
      ],
      "execution_count": 7,
      "outputs": [
        {
          "output_type": "stream",
          "text": [
            "Ingrese el numero de elementos del arreglo: 3\n",
            "Ingrese valor1:5\n",
            "Ingrese valor2:50\n",
            "Ingrese valor3:500\n",
            "Lista de numero sin repeticiones: \n",
            "5\n",
            "500\n"
          ],
          "name": "stdout"
        }
      ]
    }
  ]
}