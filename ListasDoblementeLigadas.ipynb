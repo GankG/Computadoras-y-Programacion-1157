{
  "nbformat": 4,
  "nbformat_minor": 0,
  "metadata": {
    "colab": {
      "name": "ListasDoblementeLigadas.ipynb",
      "provenance": [],
      "authorship_tag": "ABX9TyO1CV6Ma7CJYWngwrN6jSTD",
      "include_colab_link": true
    },
    "kernelspec": {
      "name": "python3",
      "display_name": "Python 3"
    },
    "language_info": {
      "name": "python"
    }
  },
  "cells": [
    {
      "cell_type": "markdown",
      "metadata": {
        "id": "view-in-github",
        "colab_type": "text"
      },
      "source": [
        "<a href=\"https://colab.research.google.com/github/GankG/Computadoras-y-Programacion-1157/blob/main/ListasDoblementeLigadas.ipynb\" target=\"_parent\"><img src=\"https://colab.research.google.com/assets/colab-badge.svg\" alt=\"Open In Colab\"/></a>"
      ]
    },
    {
      "cell_type": "code",
      "metadata": {
        "id": "boeLmE4kHWkJ"
      },
      "source": [
        "class Nodo:\n",
        "  def __init__(self, value, siguiente = None):\n",
        "    self.data = value\n",
        "    self.next = siguiente"
      ],
      "execution_count": 2,
      "outputs": []
    },
    {
      "cell_type": "code",
      "metadata": {
        "id": "FxVjMt80HW04"
      },
      "source": [
        "class NodoDoble:\n",
        "    def __init__( self, value, siguiente = None, previo = None ):\n",
        "        self.data = value\n",
        "        self.next = siguiente\n",
        "        self.prev = previo"
      ],
      "execution_count": 3,
      "outputs": []
    },
    {
      "cell_type": "code",
      "metadata": {
        "id": "l2pl8L2_HW8A"
      },
      "source": [
        "class DoubleLinkedList:\n",
        "    def __init__( self ):\n",
        "        self.head = None\n",
        "        self.tail = None\n",
        "        self.size = 0\n",
        "\n",
        "    def get_size( self ):\n",
        "        return self.size\n",
        "    \n",
        "    def is_empty( self ): \n",
        "        return self.size == 0\n",
        "    \n",
        "    def append( self, value ):\n",
        "        if self.is_empty():\n",
        "            self.head = NodoDoble( value )\n",
        "            self.tail = self.head\n",
        "        else:\n",
        "            self.tail.next = NodoDoble( value, None, self.tail )\n",
        "            self.tail = self.tail.next\n",
        "        self.size += 1\n",
        "    \n",
        "    def find_from_tail( self, value ):\n",
        "        curr_node = self.tail\n",
        "        cont = 0\n",
        "        while curr_node.data != value:\n",
        "            cont += 1\n",
        "            curr_node = curr_node.prev\n",
        "        \n",
        "        if curr_node.data == value:\n",
        "            print(f\"\\nEl nodo solicitado está en: {cont+1} entrando por -tail-\")\n",
        "\n",
        "    def find_from_head( self, value ):\n",
        "        curr_node = self.head\n",
        "        cont = 0\n",
        "        while curr_node.data != value:\n",
        "            cont += 1\n",
        "            curr_node = curr_node.next\n",
        "\n",
        "        if curr_node.data == value:\n",
        "            print(f\"\\nEl nodo solicitado está en: {cont+1} entrando por -head-\")\n",
        "\n",
        "    def remove_from_tail( self, value ):\n",
        "        curr_node = self.tail\n",
        "        while curr_node.data != value:\n",
        "            curr_node = curr_node.prev\n",
        "        \n",
        "        if curr_node.data == value:\n",
        "            curr_node.next.prev = curr_node.prev\n",
        "            curr_node.prev.next = curr_node.next\n",
        "        self.size += 1\n",
        "\n",
        "    def remove_from_head( self, value ):\n",
        "        curr_node = self.head\n",
        "        while curr_node.data != value:\n",
        "            curr_node = curr_node.next\n",
        "\n",
        "        if curr_node.data == value:\n",
        "            curr_node.prev.next = curr_node.next\n",
        "            curr_node.next.prev = curr_node.prev\n",
        "        self.size -= 1\n",
        "\n",
        "    def transversal( self ):\n",
        "        curr_node = self.head\n",
        "        while curr_node != None:\n",
        "            print(f\"| {curr_node.data} | -->\", end=\"\")\n",
        "            curr_node = curr_node.next\n",
        "        print(\"\")\n",
        "\n",
        "\n",
        "    def reverse_transversal( self ):\n",
        "        curr_node = self.tail\n",
        "        while curr_node != None:\n",
        "            print(f\"| {curr_node.data} | -->\", end=\"\")\n",
        "            curr_node = curr_node.prev\n",
        "        print(\"\")"
      ],
      "execution_count": 4,
      "outputs": []
    },
    {
      "cell_type": "code",
      "metadata": {
        "colab": {
          "base_uri": "https://localhost:8080/"
        },
        "id": "rZv7sNuDH4cS",
        "outputId": "34ddd7bb-4e69-42d4-bec1-8bf27ec86557"
      },
      "source": [
        "ldl = DoubleLinkedList()\n",
        "ldl.append(1)\n",
        "ldl.append(2)\n",
        "ldl.append(3)\n",
        "ldl.append(4)\n",
        "ldl.append(5)\n",
        "\n",
        "ldl.transversal()\n",
        "print(f\"\\nEstado de la Lista: {ldl.is_empty()}\")\n",
        "ldl.remove_from_head(2)\n",
        "\n",
        "print(\"\\nDespués de remove_from_head: \")\n",
        "ldl.transversal()\n",
        "\n",
        "ldl.remove_from_tail(3)\n",
        "print(\"\\nDespués de remove_from_tail\")\n",
        "ldl.transversal()\n",
        "\n",
        "print(f\"\\nTamaño de la Lista Doblemente Ligada: {ldl.get_size()}\")\n",
        "ldl.find_from_tail(1)\n",
        "ldl.find_from_head(4)\n",
        "\n",
        "print(\"\\nMétodo reverse_transversal:\")\n",
        "ldl.reverse_transversal()"
      ],
      "execution_count": 8,
      "outputs": [
        {
          "output_type": "stream",
          "name": "stdout",
          "text": [
            "| 1 | -->| 2 | -->| 3 | -->| 4 | -->| 5 | -->\n",
            "\n",
            "Estado de la Lista: False\n",
            "\n",
            "Después de remove_from_head: \n",
            "| 1 | -->| 3 | -->| 4 | -->| 5 | -->\n",
            "\n",
            "Después de remove_from_tail\n",
            "| 1 | -->| 4 | -->| 5 | -->\n",
            "\n",
            "Tamaño de la Lista Doblemente Ligada: 5\n",
            "El nodo solicitado está en: 3 entrando por -tail-\n",
            "El nodo solicitado está en: 2 entrando por -head-\n",
            "\n",
            "Método reverse_transversal:\n",
            "| 5 | -->| 4 | -->| 1 | -->\n"
          ]
        }
      ]
    }
  ]
}