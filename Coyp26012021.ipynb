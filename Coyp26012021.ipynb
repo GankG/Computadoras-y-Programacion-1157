{
  "nbformat": 4,
  "nbformat_minor": 0,
  "metadata": {
    "colab": {
      "name": "Coyp26012021.ipynb",
      "provenance": [],
      "authorship_tag": "ABX9TyPYSfgOX3K0O+J5wKFxYrMf",
      "include_colab_link": true
    },
    "kernelspec": {
      "name": "python3",
      "display_name": "Python 3"
    }
  },
  "cells": [
    {
      "cell_type": "markdown",
      "metadata": {
        "id": "view-in-github",
        "colab_type": "text"
      },
      "source": [
        "<a href=\"https://colab.research.google.com/github/GankG/Computadoras-y-Programacion-1157/blob/google-collab/Coyp26012021.ipynb\" target=\"_parent\"><img src=\"https://colab.research.google.com/assets/colab-badge.svg\" alt=\"Open In Colab\"/></a>"
      ]
    },
    {
      "cell_type": "markdown",
      "metadata": {
        "id": "WRWKpEtD_BOf"
      },
      "source": [
        "# Listas de Python 3\r\n",
        "1. Es una estructuira de datos lineal de 0 o n elementos.\r\n",
        "2. \"Equivalente\" a los arreglos.\r\n",
        "3. Pueden ser de diferente tipo de dato.[1,2,32,12] , [1, True, 2.34, \"Hola\"]\r\n",
        "4. Pueden ser anidados, listas de listas. [\"Melon\", [\"manzana roja\", manzana amarilla\"] ]\r\n",
        "5. Su selector es de la forma: [ int ]\r\n",
        "6. Son mutables."
      ]
    },
    {
      "cell_type": "code",
      "metadata": {
        "colab": {
          "base_uri": "https://localhost:8080/"
        },
        "id": "yqeFQ7Nj_SSx",
        "outputId": "6f41cb7a-3b4f-4407-ede2-26c5d0919179"
      },
      "source": [
        "# Ejemplos\r\n",
        "numeros = [4,2,45,7,83,3]\r\n",
        "print(numeros)\r\n",
        "print(numeros[2])\r\n",
        "\r\n",
        "# Una lista de 0 elementos\r\n",
        "colores=[] #list()\r\n",
        "type(colores) #averiguar de que tipo de dato es una variable con la funcio type\r\n",
        "dias = list()\r\n",
        "print(colores)\r\n",
        "print(dias)"
      ],
      "execution_count": 1,
      "outputs": [
        {
          "output_type": "stream",
          "text": [
            "[4, 2, 45, 7, 83, 3]\n",
            "45\n",
            "[]\n",
            "[]\n"
          ],
          "name": "stdout"
        }
      ]
    },
    {
      "cell_type": "code",
      "metadata": {
        "colab": {
          "base_uri": "https://localhost:8080/"
        },
        "id": "AtTfKlWk_WMQ",
        "outputId": "1e48eaf9-9d7c-46ad-d24c-3442b3352e98"
      },
      "source": [
        "#Pueden ser de diferente tipo de dato\r\n",
        "\r\n",
        "mi_lista = [1,2,3,\"Ryan\", False, 1.76, [552345653,44553412432,556677888]  ]\r\n",
        "print(mi_lista)\r\n",
        "print(mi_lista[5])\r\n",
        "print(mi_lista[6][1])\r\n",
        "print(mi_lista[3][3])\r\n",
        "print(mi_lista[3][ 3 : : ])\r\n",
        "print(mi_lista[3][ -1 :  : 1 ])\r\n",
        "mi_lista = [1,2,3,\"Ryan\", False, 1.76, [\"552345653\",\"44553412432\",\"556677888\"]  ]\r\n",
        "print(str(mi_lista[6][1]))"
      ],
      "execution_count": 3,
      "outputs": [
        {
          "output_type": "stream",
          "text": [
            "[1, 2, 3, 'Ryan', False, 1.76, [552345653, 44553412432, 556677888]]\n",
            "1.76\n",
            "44553412432\n",
            "n\n",
            "n\n",
            "n\n",
            "44553412432\n"
          ],
          "name": "stdout"
        }
      ]
    },
    {
      "cell_type": "code",
      "metadata": {
        "colab": {
          "base_uri": "https://localhost:8080/"
        },
        "id": "6nSj9Ofn_YSY",
        "outputId": "20a7905d-a471-482b-81e5-e7a41beb690f"
      },
      "source": [
        "frutas =[\"melon\",\"sandia\",\"kiwi\",\"aguacate\",\"mango\",\"platano\"]\r\n",
        "print(frutas)\r\n",
        "frutas[0] = \"Melón\"\r\n",
        "print(frutas)\r\n",
        "#frutas[1] = \"S\"\r\n",
        "#print(frutas)\r\n",
        "#frutas[1][0] = \"S\"\r\n",
        "frutas[1] = frutas[1].capitalize()\r\n",
        "print(frutas)"
      ],
      "execution_count": 4,
      "outputs": [
        {
          "output_type": "stream",
          "text": [
            "['melon', 'sandia', 'kiwi', 'aguacate', 'mango', 'platano']\n",
            "['Melón', 'sandia', 'kiwi', 'aguacate', 'mango', 'platano']\n",
            "['Melón', 'Sandia', 'kiwi', 'aguacate', 'mango', 'platano']\n"
          ],
          "name": "stdout"
        }
      ]
    },
    {
      "cell_type": "code",
      "metadata": {
        "colab": {
          "base_uri": "https://localhost:8080/"
        },
        "id": "KbUEfiuE_hiP",
        "outputId": "a3aee677-c328-4c37-863b-6e2de4535767"
      },
      "source": [
        "# Las listas son clases por lo tanto, tienen métodos.\r\n",
        "#ejemplo: Append, agrega un elemento al final\r\n",
        "frutas =[\"melon\",\"sandia\",\"kiwi\",\"aguacate\",\"mango\",\"platano\"]\r\n",
        "frutas.append(\"Fresa\")\r\n",
        "print(frutas)\r\n",
        "\r\n",
        "print(\"Ejemplo de copias\")\r\n",
        "otras_frutas = frutas.copy()\r\n",
        "print(frutas)\r\n",
        "print(otras_frutas)\r\n",
        "otras_frutas[0] = \"chico zapote\"\r\n",
        "print(otras_frutas)\r\n",
        "print(frutas)\r\n",
        "print(\"------------------\")\r\n",
        "\r\n",
        "print(\"Ejemplo de extend\")\r\n",
        "\r\n",
        "colores = [\"rojo\",\"verde\",\"azul\"]\r\n",
        "frutas.extend(colores)\r\n",
        "print(frutas)\r\n",
        "\r\n",
        "print(\"Ejemplo Insert\")\r\n",
        "print(f\"tamaño de la lista = { len(frutas)}\")\r\n",
        "frutas.insert(3,\"Limon\")\r\n",
        "print(f\"tamaño de la lista = { len(frutas)}\")\r\n",
        "print(frutas)\r\n",
        "\r\n",
        "print(\"Ejemplo remove, eliminar el kiwi\")\r\n",
        "frutas.remove(\"kiwi\")\r\n",
        "print(frutas)\r\n",
        "\r\n",
        "print(\"Ejemplo con operador  del\")\r\n",
        "del frutas[2] #Operdor de listas\r\n",
        "print(frutas)\r\n",
        "\r\n",
        "\r\n",
        "frutas.clear()\r\n",
        "print(frutas)"
      ],
      "execution_count": 5,
      "outputs": [
        {
          "output_type": "stream",
          "text": [
            "['melon', 'sandia', 'kiwi', 'aguacate', 'mango', 'platano', 'Fresa']\n",
            "Ejemplo de copias\n",
            "['melon', 'sandia', 'kiwi', 'aguacate', 'mango', 'platano', 'Fresa']\n",
            "['melon', 'sandia', 'kiwi', 'aguacate', 'mango', 'platano', 'Fresa']\n",
            "['chico zapote', 'sandia', 'kiwi', 'aguacate', 'mango', 'platano', 'Fresa']\n",
            "['melon', 'sandia', 'kiwi', 'aguacate', 'mango', 'platano', 'Fresa']\n",
            "------------------\n",
            "Ejemplo de extend\n",
            "['melon', 'sandia', 'kiwi', 'aguacate', 'mango', 'platano', 'Fresa', 'rojo', 'verde', 'azul']\n",
            "Ejemplo Insert\n",
            "tamaño de la lista = 10\n",
            "tamaño de la lista = 11\n",
            "['melon', 'sandia', 'kiwi', 'Limon', 'aguacate', 'mango', 'platano', 'Fresa', 'rojo', 'verde', 'azul']\n",
            "Ejemplo remove, eliminar el kiwi\n",
            "['melon', 'sandia', 'Limon', 'aguacate', 'mango', 'platano', 'Fresa', 'rojo', 'verde', 'azul']\n",
            "Ejemplo con operador  del\n",
            "['melon', 'sandia', 'aguacate', 'mango', 'platano', 'Fresa', 'rojo', 'verde', 'azul']\n",
            "[]\n"
          ],
          "name": "stdout"
        }
      ]
    },
    {
      "cell_type": "code",
      "metadata": {
        "colab": {
          "base_uri": "https://localhost:8080/"
        },
        "id": "6V1q-vGh_mYf",
        "outputId": "a880513b-8fec-4612-af53-ad9215571e72"
      },
      "source": [
        "help(frutas)\r\n",
        "dir(frutas)"
      ],
      "execution_count": 6,
      "outputs": [
        {
          "output_type": "stream",
          "text": [
            "Help on list object:\n",
            "\n",
            "class list(object)\n",
            " |  list() -> new empty list\n",
            " |  list(iterable) -> new list initialized from iterable's items\n",
            " |  \n",
            " |  Methods defined here:\n",
            " |  \n",
            " |  __add__(self, value, /)\n",
            " |      Return self+value.\n",
            " |  \n",
            " |  __contains__(self, key, /)\n",
            " |      Return key in self.\n",
            " |  \n",
            " |  __delitem__(self, key, /)\n",
            " |      Delete self[key].\n",
            " |  \n",
            " |  __eq__(self, value, /)\n",
            " |      Return self==value.\n",
            " |  \n",
            " |  __ge__(self, value, /)\n",
            " |      Return self>=value.\n",
            " |  \n",
            " |  __getattribute__(self, name, /)\n",
            " |      Return getattr(self, name).\n",
            " |  \n",
            " |  __getitem__(...)\n",
            " |      x.__getitem__(y) <==> x[y]\n",
            " |  \n",
            " |  __gt__(self, value, /)\n",
            " |      Return self>value.\n",
            " |  \n",
            " |  __iadd__(self, value, /)\n",
            " |      Implement self+=value.\n",
            " |  \n",
            " |  __imul__(self, value, /)\n",
            " |      Implement self*=value.\n",
            " |  \n",
            " |  __init__(self, /, *args, **kwargs)\n",
            " |      Initialize self.  See help(type(self)) for accurate signature.\n",
            " |  \n",
            " |  __iter__(self, /)\n",
            " |      Implement iter(self).\n",
            " |  \n",
            " |  __le__(self, value, /)\n",
            " |      Return self<=value.\n",
            " |  \n",
            " |  __len__(self, /)\n",
            " |      Return len(self).\n",
            " |  \n",
            " |  __lt__(self, value, /)\n",
            " |      Return self<value.\n",
            " |  \n",
            " |  __mul__(self, value, /)\n",
            " |      Return self*value.\n",
            " |  \n",
            " |  __ne__(self, value, /)\n",
            " |      Return self!=value.\n",
            " |  \n",
            " |  __new__(*args, **kwargs) from builtins.type\n",
            " |      Create and return a new object.  See help(type) for accurate signature.\n",
            " |  \n",
            " |  __repr__(self, /)\n",
            " |      Return repr(self).\n",
            " |  \n",
            " |  __reversed__(...)\n",
            " |      L.__reversed__() -- return a reverse iterator over the list\n",
            " |  \n",
            " |  __rmul__(self, value, /)\n",
            " |      Return value*self.\n",
            " |  \n",
            " |  __setitem__(self, key, value, /)\n",
            " |      Set self[key] to value.\n",
            " |  \n",
            " |  __sizeof__(...)\n",
            " |      L.__sizeof__() -- size of L in memory, in bytes\n",
            " |  \n",
            " |  append(...)\n",
            " |      L.append(object) -> None -- append object to end\n",
            " |  \n",
            " |  clear(...)\n",
            " |      L.clear() -> None -- remove all items from L\n",
            " |  \n",
            " |  copy(...)\n",
            " |      L.copy() -> list -- a shallow copy of L\n",
            " |  \n",
            " |  count(...)\n",
            " |      L.count(value) -> integer -- return number of occurrences of value\n",
            " |  \n",
            " |  extend(...)\n",
            " |      L.extend(iterable) -> None -- extend list by appending elements from the iterable\n",
            " |  \n",
            " |  index(...)\n",
            " |      L.index(value, [start, [stop]]) -> integer -- return first index of value.\n",
            " |      Raises ValueError if the value is not present.\n",
            " |  \n",
            " |  insert(...)\n",
            " |      L.insert(index, object) -- insert object before index\n",
            " |  \n",
            " |  pop(...)\n",
            " |      L.pop([index]) -> item -- remove and return item at index (default last).\n",
            " |      Raises IndexError if list is empty or index is out of range.\n",
            " |  \n",
            " |  remove(...)\n",
            " |      L.remove(value) -> None -- remove first occurrence of value.\n",
            " |      Raises ValueError if the value is not present.\n",
            " |  \n",
            " |  reverse(...)\n",
            " |      L.reverse() -- reverse *IN PLACE*\n",
            " |  \n",
            " |  sort(...)\n",
            " |      L.sort(key=None, reverse=False) -> None -- stable sort *IN PLACE*\n",
            " |  \n",
            " |  ----------------------------------------------------------------------\n",
            " |  Data and other attributes defined here:\n",
            " |  \n",
            " |  __hash__ = None\n",
            "\n"
          ],
          "name": "stdout"
        },
        {
          "output_type": "execute_result",
          "data": {
            "text/plain": [
              "['__add__',\n",
              " '__class__',\n",
              " '__contains__',\n",
              " '__delattr__',\n",
              " '__delitem__',\n",
              " '__dir__',\n",
              " '__doc__',\n",
              " '__eq__',\n",
              " '__format__',\n",
              " '__ge__',\n",
              " '__getattribute__',\n",
              " '__getitem__',\n",
              " '__gt__',\n",
              " '__hash__',\n",
              " '__iadd__',\n",
              " '__imul__',\n",
              " '__init__',\n",
              " '__init_subclass__',\n",
              " '__iter__',\n",
              " '__le__',\n",
              " '__len__',\n",
              " '__lt__',\n",
              " '__mul__',\n",
              " '__ne__',\n",
              " '__new__',\n",
              " '__reduce__',\n",
              " '__reduce_ex__',\n",
              " '__repr__',\n",
              " '__reversed__',\n",
              " '__rmul__',\n",
              " '__setattr__',\n",
              " '__setitem__',\n",
              " '__sizeof__',\n",
              " '__str__',\n",
              " '__subclasshook__',\n",
              " 'append',\n",
              " 'clear',\n",
              " 'copy',\n",
              " 'count',\n",
              " 'extend',\n",
              " 'index',\n",
              " 'insert',\n",
              " 'pop',\n",
              " 'remove',\n",
              " 'reverse',\n",
              " 'sort']"
            ]
          },
          "metadata": {
            "tags": []
          },
          "execution_count": 6
        }
      ]
    },
    {
      "cell_type": "code",
      "metadata": {
        "colab": {
          "base_uri": "https://localhost:8080/"
        },
        "id": "0PCznNbsJJoV",
        "outputId": "6df9211e-25d2-4353-98be-058201359247"
      },
      "source": [
        "cosas = [\"jose\",True,2,3,4,5,\"pedro\",1.23]\r\n",
        "indice = 0\r\n",
        "a_eliminar=[]\r\n",
        "for elemento in cosas:\r\n",
        "    if isinstance( elemento , int ) :\r\n",
        "        print(\"entero\",elemento) # cosas.remove(elemento)\r\n",
        "        a_eliminar.append(elemento)\r\n",
        "    indice += 1\r\n",
        "\r\n",
        "print(a_eliminar)\r\n",
        "for indice in a_eliminar:\r\n",
        "    print( indice)\r\n",
        "    cosas.remove(indice)\r\n",
        "print(cosas)"
      ],
      "execution_count": 9,
      "outputs": [
        {
          "output_type": "stream",
          "text": [
            "entero True\n",
            "entero 2\n",
            "entero 3\n",
            "entero 4\n",
            "entero 5\n",
            "[True, 2, 3, 4, 5]\n",
            "True\n",
            "2\n",
            "3\n",
            "4\n",
            "5\n",
            "['jose', 'pedro', 1.23]\n"
          ],
          "name": "stdout"
        }
      ]
    },
    {
      "cell_type": "code",
      "metadata": {
        "colab": {
          "base_uri": "https://localhost:8080/"
        },
        "id": "86_JXgGXHz-z",
        "outputId": "ec5368f4-bf23-4472-9b4e-19acb5f93fab"
      },
      "source": [
        "# slicing sobre listas\r\n",
        "fruta = [\"melon\", \"sandia\", \"liwi\", \"aguacate\", \"mango\", \"platano\"]\r\n",
        "\r\n",
        "print(fruta[1:4])\r\n",
        "\r\n",
        "sistemas_operativos = [\"Windows\", \"mac OS\", \"Linux\", \"Android\"]\r\n",
        "autos = [\"Ford\", \"mazda\", \"Honda\"]\r\n",
        "\r\n",
        "cosas = [ sistemas_operativos, autos]\r\n",
        "print(cosas)\r\n",
        "print(cosas[1])\r\n",
        "print(cosas[0][2])\r\n",
        "print(cosas[0][3][2:5:1])\r\n",
        "print(cosas[1][1][-2:-5:-1])"
      ],
      "execution_count": 11,
      "outputs": [
        {
          "output_type": "stream",
          "text": [
            "['sandia', 'liwi', 'aguacate']\n",
            "[['Windows', 'mac OS', 'Linux', 'Android'], ['Ford', 'mazda', 'Honda']]\n",
            "['Ford', 'mazda', 'Honda']\n",
            "Linux\n",
            "dro\n",
            "dza\n"
          ],
          "name": "stdout"
        }
      ]
    }
  ]
}