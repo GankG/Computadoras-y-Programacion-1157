{
  "nbformat": 4,
  "nbformat_minor": 0,
  "metadata": {
    "colab": {
      "name": "Tarea 4.ipynb",
      "provenance": [],
      "authorship_tag": "ABX9TyNUHGZZb7nGXPvb0A6diM+/",
      "include_colab_link": true
    },
    "kernelspec": {
      "name": "python3",
      "display_name": "Python 3"
    }
  },
  "cells": [
    {
      "cell_type": "markdown",
      "metadata": {
        "id": "view-in-github",
        "colab_type": "text"
      },
      "source": [
        "<a href=\"https://colab.research.google.com/github/GankG/Computadoras-y-Programacion-1157/blob/google-collab/Tarea_4.ipynb\" target=\"_parent\"><img src=\"https://colab.research.google.com/assets/colab-badge.svg\" alt=\"Open In Colab\"/></a>"
      ]
    },
    {
      "cell_type": "code",
      "metadata": {
        "colab": {
          "base_uri": "https://localhost:8080/"
        },
        "id": "0FDrem6myrdR",
        "outputId": "8f3c1a43-46e4-4267-ba65-e54b1bbe6c3f"
      },
      "source": [
        "#Ejercicio 2.4\n",
        "\n",
        "def twoDecimals (a):\n",
        "  return float(\"{:.2f}\".format(a))\n",
        "\n",
        "nombre = str(input(\"Ingresa el nombre del trabajador: \"))\n",
        "sueldo = float(input(f\"Ingresa el sueldo de {nombre}: \"))\n",
        "\n",
        "if sueldo < 1000:\n",
        "  sueldo *= 1.15\n",
        "else:\n",
        "  sueldo *= 1.12\n",
        "\n",
        "print(\"El sueldo final de \",nombre,\" es: $\",twoDecimals(sueldo))"
      ],
      "execution_count": 14,
      "outputs": [
        {
          "output_type": "stream",
          "text": [
            "Ingresa el nombre del trabajador: Hugo\n",
            "Ingresa el sueldo de Hugo: 977\n",
            "El sueldo final de  Hugo  es: $ 1123.55\n"
          ],
          "name": "stdout"
        }
      ]
    },
    {
      "cell_type": "code",
      "metadata": {
        "colab": {
          "base_uri": "https://localhost:8080/"
        },
        "id": "Lho7wK_Dzapl",
        "outputId": "99164841-1137-4cfa-effb-3cda7b7598d1"
      },
      "source": [
        "#Ejercicio 2.8\n",
        "\n",
        "nombre = str(input(\"Ingresa el nombre del trabajador: \"))\n",
        "sueldo = float(input(f\"Ingresa el sueldo de {nombre}: \"))\n",
        "\n",
        "while True:\n",
        "  cat = int(input(f\"¿Cual es la categoria de trabajo de {nombre}?: \"))\n",
        "\n",
        "  if (cat == 1) or (cat == 2) or (cat == 3) or (cat == 4):\n",
        "    if cat == 1:\n",
        "      sueldo *= 1.15\n",
        "    elif cat == 2:\n",
        "      sueldo *= 1.10\n",
        "    elif cat == 3:\n",
        "      sueldo *= 1.08\n",
        "    elif cat == 4:\n",
        "      sueldo *= 1.07\n",
        "    break;\n",
        "    \n",
        "  else:\n",
        "    print(\"Esa no es una categoría válida. Debe ser del 1 al 4.\\n\")\n",
        "\n",
        "print(f\"El sueldo de {nombre} es de: ${sueldo}\")"
      ],
      "execution_count": 15,
      "outputs": [
        {
          "output_type": "stream",
          "text": [
            "Ingresa el nombre del trabajador: Juan\n",
            "Ingresa el sueldo de Juan: 1000\n",
            "¿Cual es la categoria de trabajo de Juan?: 1\n",
            "El sueldo de Juan es de: $1150.0\n"
          ],
          "name": "stdout"
        }
      ]
    },
    {
      "cell_type": "code",
      "metadata": {
        "colab": {
          "base_uri": "https://localhost:8080/"
        },
        "id": "lZ-u7mJZ8wVG",
        "outputId": "09f1e754-b12e-4da9-cf5b-0e165d749419"
      },
      "source": [
        "#Sí usted sabe como utilizar un switcher de python en una reasignación de valores para una variable, dígame pls\n",
        "switcher = {\n",
        "    1: \"Enero\",\n",
        "    2: \"Febrero\",\n",
        "    3: \"Marzo\",\n",
        "    4: \"Abril\",\n",
        "    5: \"Mayo\",\n",
        "    6: \"Junio\",\n",
        "    7: \"Julio\",\n",
        "    8: \"Agosto\",\n",
        "    9: \"Septiembre\",\n",
        "    10: \"Octubre\",\n",
        "    11: \"Noviembre\",\n",
        "    12: \"Diciembre\"}\n",
        "\n",
        "case = int(input(\"Ingresa un numero y éste te dara el mes al que corresponde.\"))\n",
        "print(switcher.get(case,\"Ese numero no corresponde a ningun mes.\"))"
      ],
      "execution_count": 17,
      "outputs": [
        {
          "output_type": "stream",
          "text": [
            "Ingresa un numero y éste te dara el mes al que corresponde.5\n",
            "Mayo\n"
          ],
          "name": "stdout"
        }
      ]
    }
  ]
}