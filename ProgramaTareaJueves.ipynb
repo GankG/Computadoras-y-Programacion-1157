{
  "nbformat": 4,
  "nbformat_minor": 0,
  "metadata": {
    "colab": {
      "name": "ProgramaTareaJueves.ipynb",
      "provenance": [],
      "authorship_tag": "ABX9TyODx5QUr93JCRXSFn+ohb9t",
      "include_colab_link": true
    },
    "kernelspec": {
      "name": "python3",
      "display_name": "Python 3"
    }
  },
  "cells": [
    {
      "cell_type": "markdown",
      "metadata": {
        "id": "view-in-github",
        "colab_type": "text"
      },
      "source": [
        "<a href=\"https://colab.research.google.com/github/GankG/Computadoras-y-Programacion-1157/blob/google-collab/ProgramaTareaJueves.ipynb\" target=\"_parent\"><img src=\"https://colab.research.google.com/assets/colab-badge.svg\" alt=\"Open In Colab\"/></a>"
      ]
    },
    {
      "cell_type": "code",
      "metadata": {
        "colab": {
          "base_uri": "https://localhost:8080/"
        },
        "id": "CvRS6eZMJSDe",
        "outputId": "ee816f15-6bf7-42f8-af57-684c1dda11cc"
      },
      "source": [
        "#Problema 4.1\r\n",
        "q = int(input(\"Ingresa cuántos números serán: \"))\r\n",
        "nums = [float(0) for x in range (q)]\r\n",
        "\r\n",
        "for i in range(0, q):\r\n",
        "  nums[i] = float(input(f\"Ingresa el {i+1}° número: \"))\r\n",
        "\r\n",
        "nums = list(dict.fromkeys(nums))\r\n",
        "print(nums)"
      ],
      "execution_count": 8,
      "outputs": [
        {
          "output_type": "stream",
          "text": [
            "Ingresa cuántos números serán: 10\n",
            "Ingresa el 1° número: 6\n",
            "Ingresa el 2° número: 6\n",
            "Ingresa el 3° número: 6\n",
            "Ingresa el 4° número: 7\n",
            "Ingresa el 5° número: 8\n",
            "Ingresa el 6° número: 7\n",
            "Ingresa el 7° número: 10\n",
            "Ingresa el 8° número: 2\n",
            "Ingresa el 9° número: 2\n",
            "Ingresa el 10° número: 3\n",
            "[6.0, 7.0, 8.0, 10.0, 2.0, 3.0]\n"
          ],
          "name": "stdout"
        }
      ]
    }
  ]
}