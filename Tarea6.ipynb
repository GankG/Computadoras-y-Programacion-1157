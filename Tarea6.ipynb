{
  "nbformat": 4,
  "nbformat_minor": 0,
  "metadata": {
    "colab": {
      "name": "Tarea6",
      "provenance": [],
      "collapsed_sections": [],
      "authorship_tag": "ABX9TyOaQRm2X5zZq2xTuzAcP9Ao",
      "include_colab_link": true
    },
    "kernelspec": {
      "name": "python3",
      "display_name": "Python 3"
    }
  },
  "cells": [
    {
      "cell_type": "markdown",
      "metadata": {
        "id": "view-in-github",
        "colab_type": "text"
      },
      "source": [
        "<a href=\"https://colab.research.google.com/github/GankG/Computadoras-y-Programacion-1157/blob/google-collab/Tarea6.ipynb\" target=\"_parent\"><img src=\"https://colab.research.google.com/assets/colab-badge.svg\" alt=\"Open In Colab\"/></a>"
      ]
    },
    {
      "cell_type": "code",
      "metadata": {
        "colab": {
          "base_uri": "https://localhost:8080/"
        },
        "id": "wMGB6CBJuy8E",
        "outputId": "f0220f33-d513-4e73-c637-fef391ede2a3"
      },
      "source": [
        "#Problema 3.3\r\n",
        "cantidad = int(input(\"Ingresa la cantidad de términos para la serie: \"))\r\n",
        "operadorChar = ''\r\n",
        "suma = 1\r\n",
        "\r\n",
        "print(\"1 -\", end = '')\r\n",
        "for i in range (2,cantidad+1):\r\n",
        "  operadorChar = '-'\r\n",
        "  if i % 2 == 0:\r\n",
        "    operadorChar = '+'\r\n",
        "    suma -= 1/i\r\n",
        "  else:\r\n",
        "    suma += 1/i\r\n",
        "  if i == cantidad:\r\n",
        "    operadorChar = ''\r\n",
        "  print(f\" 1/{i} {operadorChar}\", end = '')\r\n",
        "\r\n",
        "print(f\"\\n{suma}\")"
      ],
      "execution_count": null,
      "outputs": [
        {
          "output_type": "stream",
          "text": [
            "Ingresa la cantidad de términos para la serie: 6\n",
            "1 - 1/2 + 1/3 - 1/4 + 1/5 - 1/6 \n",
            "0.6166666666666666\n"
          ],
          "name": "stdout"
        }
      ]
    },
    {
      "cell_type": "code",
      "metadata": {
        "colab": {
          "base_uri": "https://localhost:8080/"
        },
        "id": "iYCxkNzL1Q8u",
        "outputId": "dece1436-b6a0-45e8-f653-910c5e3c0c34"
      },
      "source": [
        "#Problema 3.4\r\n",
        "empleados = int(input(\"Cuantos empleados son?: \"))\r\n",
        "sueldos = [float(0) for x in range(empleados)]\r\n",
        "\r\n",
        "for i in range (0, empleados):\r\n",
        "  sueldos[i] = float(input(f\"Ingresa el sueldo del {i+1} empleado: \"))\r\n",
        "  if sueldos[i] < 1000:\r\n",
        "    sueldos[i] += sueldos[i] * 0.15\r\n",
        "  elif sueldos[i] >= 1000:\r\n",
        "    sueldos[i] += sueldos[i] * 0.12\r\n",
        "\r\n",
        "for i in range(0, empleados):\r\n",
        "  print(f\"El sueldo del {i+1} empleado es: {sueldos[i]}\")"
      ],
      "execution_count": null,
      "outputs": [
        {
          "output_type": "stream",
          "text": [
            "Cuantos empleados son?: 4\n",
            "Ingresa el sueldo del 1 empleado: 600\n",
            "Ingresa el sueldo del 2 empleado: 800\n",
            "Ingresa el sueldo del 3 empleado: 1500\n",
            "Ingresa el sueldo del 4 empleado: 2300\n",
            "El sueldo del 1 empleado es: 690.0\n",
            "El sueldo del 2 empleado es: 920.0\n",
            "El sueldo del 3 empleado es: 1680.0\n",
            "El sueldo del 4 empleado es: 2576.0\n"
          ],
          "name": "stdout"
        }
      ]
    },
    {
      "cell_type": "code",
      "metadata": {
        "colab": {
          "base_uri": "https://localhost:8080/"
        },
        "id": "mx-uWxbr2y7G",
        "outputId": "30aa22ae-3e44-4b0e-ce28-e7d73f81ef04"
      },
      "source": [
        "#Problema 3.5\r\n",
        "cantidad = int(input(\"Cuantos números se evaluaran?: \"))\r\n",
        "numeros = [float(0) for x in range(cantidad)]\r\n",
        "mayorescero = 1\r\n",
        "menorescero = 0\r\n",
        "promediopositivos = 0\r\n",
        "promedionegativos = 0\r\n",
        "\r\n",
        "for i in range (0, cantidad):\r\n",
        "  numeros[i] = float(input(f\"Ingresa el {i+1} numero: \"))\r\n",
        "  if numeros[i] > 0:\r\n",
        "    mayorescero += 1\r\n",
        "    promediopositivos += numeros[i]\r\n",
        "  elif numeros[i] <= 0:\r\n",
        "    menorescero += 1\r\n",
        "    promedionegativos += numeros[i]\r\n",
        "promediopositivos /= mayorescero\r\n",
        "\r\n",
        "print(f\"Hubo {mayorescero} números mayores a cero.\")\r\n",
        "print(f\"El promedio de los números positivos es: {promediopositivos}\")\r\n",
        "\r\n",
        "if menorescero > 0:\r\n",
        "  promedionegativos /= menorescero\r\n",
        "  print(f\"El promedio de los números negativos es: {promedionegativos}\")\r\n",
        "else:\r\n",
        "  print(\"No hubo números negativos.\")"
      ],
      "execution_count": null,
      "outputs": [
        {
          "output_type": "stream",
          "text": [
            "Cuantos números se evaluaran?: 6\n",
            "Ingresa el 1 numero: 5\n",
            "Ingresa el 2 numero: 4\n",
            "Ingresa el 3 numero: 3\n",
            "Ingresa el 4 numero: 15\n",
            "Ingresa el 5 numero: 6\n",
            "Ingresa el 6 numero: 7\n",
            "Hubo 7 números mayores a cero.\n",
            "El promedio de los números positivos es: 5.714285714285714\n",
            "No hubo números negativos.\n"
          ],
          "name": "stdout"
        }
      ]
    },
    {
      "cell_type": "code",
      "metadata": {
        "colab": {
          "base_uri": "https://localhost:8080/"
        },
        "id": "ebus9kNi4xb0",
        "outputId": "fb85ea90-3e6f-4b7c-a6bb-83e9c52df771"
      },
      "source": [
        "#Problema 3.6\r\n",
        "cantidad = int(input(\"Cuantos números se evaluaran?: \"))\r\n",
        "numeros = [float(0) for x in range(cantidad)]\r\n",
        "mayor = 0\r\n",
        "menor = 0\r\n",
        "\r\n",
        "for i in range (0, cantidad):\r\n",
        "  numeros[i] = float(input(f\"Ingresa el {i+1} numero: \"))\r\n",
        "  if i > 0:\r\n",
        "    if numeros[i] > mayor:\r\n",
        "      mayor = numeros[i]\r\n",
        "    if numeros[i] < menor:\r\n",
        "      menor = numeros[i]\r\n",
        "  else:\r\n",
        "    mayor = numeros[i]\r\n",
        "    menor = numeros[i]\r\n",
        "\r\n",
        "print(f\"El mayor de la serie de los números ingresados es: {mayor}\\nEl menor de la serie de los números ingresados: {menor}\")"
      ],
      "execution_count": null,
      "outputs": [
        {
          "output_type": "stream",
          "text": [
            "Cuantos números se evaluaran?: 6\n",
            "Ingresa el 1 numero: 4\n",
            "Ingresa el 2 numero: 7\n",
            "Ingresa el 3 numero: 1\n",
            "Ingresa el 4 numero: 5\n",
            "Ingresa el 5 numero: 8\n",
            "Ingresa el 6 numero: 9\n",
            "El mayor de la serie de los números ingresados es: 9.0\n",
            "El menor de la serie de los números ingresados: 1.0\n"
          ],
          "name": "stdout"
        }
      ]
    },
    {
      "cell_type": "code",
      "metadata": {
        "colab": {
          "base_uri": "https://localhost:8080/"
        },
        "id": "HWHCvysi7noX",
        "outputId": "16a3c7d1-0f8f-49de-bb43-a73a319d31bb"
      },
      "source": [
        "#Problema 3.7\r\n",
        "cantidad = int(input(\"Cuantas ventas realizo el vendedor?: \"))\r\n",
        "ventas = [float(0) for x in range(cantidad)]\r\n",
        "tipo1, tipo2, tipo3 = 0, 0, 0\r\n",
        "\r\n",
        "for i in range (0, cantidad):\r\n",
        "  ventas[i] = float(input(f\"De cuanto $ fue la {i+1} venta?: \"))\r\n",
        "  if ventas[i] <= 200:\r\n",
        "    tipo1 += 1\r\n",
        "  elif ventas[i] > 200 and ventas[i] < 400:\r\n",
        "    tipo2 += 1\r\n",
        "  elif ventas[i] >= 400:\r\n",
        "    tipo3 += 1\r\n",
        "\r\n",
        "print(f\"Hubo {tipo1} ventas menores a $200.\\nHubo {tipo2} ventas mayores a $200 y menores a $400.\\nHubo {tipo3} ventas mayores o de $400.\")"
      ],
      "execution_count": null,
      "outputs": [
        {
          "output_type": "stream",
          "text": [
            "Cuantas ventas realizo el vendedor?: 5\n",
            "De cuanto $ fue la 1 venta?: 500\n",
            "De cuanto $ fue la 2 venta?: 700\n",
            "De cuanto $ fue la 3 venta?: 200\n",
            "De cuanto $ fue la 4 venta?: 150\n",
            "De cuanto $ fue la 5 venta?: 650\n",
            "Hubo 2 ventas menores a $200.\n",
            "Hubo 0 ventas mayores a $200 y menores a $400.\n",
            "Hubo 3 ventas mayores o de $400.\n"
          ],
          "name": "stdout"
        }
      ]
    },
    {
      "cell_type": "code",
      "metadata": {
        "colab": {
          "base_uri": "https://localhost:8080/"
        },
        "id": "F7tpHsH39HvT",
        "outputId": "8c0fbba9-95d3-4a2a-8649-cdf4882c0776"
      },
      "source": [
        "#Problema 3.8\r\n",
        "numero = int(input(\"Ingresa el número al que se le realizará la serie de ULAM: \"))\r\n",
        "while numero != 1:\r\n",
        "  if numero % 2 == 0:\r\n",
        "    numero = numero / 2\r\n",
        "    print(numero)\r\n",
        "  else:\r\n",
        "    numero = (numero * 3) + 1\r\n",
        "    print(numero)"
      ],
      "execution_count": null,
      "outputs": [
        {
          "output_type": "stream",
          "text": [
            "Ingresa el número al que se le realizará la serie de ULAM: 6\n",
            "3.0\n",
            "10.0\n",
            "5.0\n",
            "16.0\n",
            "8.0\n",
            "4.0\n",
            "2.0\n",
            "1.0\n"
          ],
          "name": "stdout"
        }
      ]
    },
    {
      "cell_type": "code",
      "metadata": {
        "colab": {
          "base_uri": "https://localhost:8080/"
        },
        "id": "qg580TgC-E5I",
        "outputId": "711b2e85-71d6-45d9-fb0f-0f8462ee2a99"
      },
      "source": [
        "#Problema 3.9\r\n",
        "cantidad = int(input(\"De cuantos numeros será la sucesión?: \"))\r\n",
        "sucesion = 0\r\n",
        "\r\n",
        "for i in range(0,cantidad):\r\n",
        "  sucesion += pow(i,i)\r\n",
        "\r\n",
        "print(f\"La suma de la serie es de: {sucesion-1}\")"
      ],
      "execution_count": null,
      "outputs": [
        {
          "output_type": "stream",
          "text": [
            "De cuantos numeros será la sucesión?: 4\n",
            "La suma de la serie es de: 32\n"
          ],
          "name": "stdout"
        }
      ]
    },
    {
      "cell_type": "code",
      "metadata": {
        "colab": {
          "base_uri": "https://localhost:8080/"
        },
        "id": "MvzHbmwr_Nlq",
        "outputId": "5bdfa5e3-047b-4372-9d0e-a32729f117e7"
      },
      "source": [
        "#Problema 3.10\r\n",
        "f = 0\r\n",
        "pri = 0\r\n",
        "seg = 1\r\n",
        "i = 3\r\n",
        "sig = 0\r\n",
        "f = int(input(\"Cual es la posición de la secuencia de Fibonacci que se desea conocer?: \"))\r\n",
        "while i <= f:\r\n",
        "  sig = pri + seg\r\n",
        "  pri = seg\r\n",
        "  seg = sig \r\n",
        "  i = i + 1\r\n",
        "  \r\n",
        "print(f\"La posición {f} es {sig}\")"
      ],
      "execution_count": null,
      "outputs": [
        {
          "output_type": "stream",
          "text": [
            "Cual es la posición de la secuencia de Fibonacci que se desea conocer?: 8\n",
            "La posición 8 es 13\n"
          ],
          "name": "stdout"
        }
      ]
    },
    {
      "cell_type": "code",
      "metadata": {
        "colab": {
          "base_uri": "https://localhost:8080/"
        },
        "id": "DrU6feEaAqHR",
        "outputId": "bb176629-30a5-4a16-ad8f-becb5e181e0b"
      },
      "source": [
        "#Problema 3.11\r\n",
        "qvotos = int(input(\"Cuantos votos se realizaron para los 4 candidatos?: \"))\r\n",
        "votos = [float(0) for x in range(qvotos)]\r\n",
        "tipovotos = [float(0) for x in range(4)]\r\n",
        "\r\n",
        "for i in range (0, qvotos):\r\n",
        "  while True:\r\n",
        "    votos[i] = int(input(f\"Ingresa el {i+1} voto: \"))\r\n",
        "    if votos[i] >0 and votos[i] <5:\r\n",
        "      if votos[i] == 1:\r\n",
        "        tipovotos[0] += 1\r\n",
        "      elif votos[i] == 2:\r\n",
        "        tipovotos[1] += 1\r\n",
        "      elif votos[i] == 3:\r\n",
        "        tipovotos[2] += 1\r\n",
        "      elif votos[i] == 4:\r\n",
        "        tipovotos[3] += 1\r\n",
        "      break;\r\n",
        "    else:\r\n",
        "      print(\"El número debe ser entre 1-4\")\r\n",
        "for i in range (0, 4):\r\n",
        "  print(f\"El número de votos para el {i+1} candidato es: {tipovotos[i]}\")"
      ],
      "execution_count": null,
      "outputs": [
        {
          "output_type": "stream",
          "text": [
            "Cuantos votos se realizaron para los 4 candidatos?: 9\n",
            "Ingresa el 1 voto: 4\n",
            "Ingresa el 2 voto: 4\n",
            "Ingresa el 3 voto: 1\n",
            "Ingresa el 4 voto: 2\n",
            "Ingresa el 5 voto: 1\n",
            "Ingresa el 6 voto: 3\n",
            "Ingresa el 7 voto: 2\n",
            "Ingresa el 8 voto: 4\n",
            "Ingresa el 9 voto: 4\n",
            "El número de votos para el 1 candidato es: 2.0\n",
            "El número de votos para el 2 candidato es: 2.0\n",
            "El número de votos para el 3 candidato es: 1.0\n",
            "El número de votos para el 4 candidato es: 4.0\n"
          ],
          "name": "stdout"
        }
      ]
    },
    {
      "cell_type": "code",
      "metadata": {
        "colab": {
          "base_uri": "https://localhost:8080/"
        },
        "id": "jlNABs8MEbwG",
        "outputId": "b53e5b47-f6af-4767-ca10-5ee75c43a153"
      },
      "source": [
        "#Problema 3.12\r\n",
        "qempleados = int(input(\"Ingresa la cantidad de empleados en la empresa: \"))\r\n",
        "sueldos = [float(0) for x in range(qempleados)]\r\n",
        "mayor = 0\r\n",
        "numempleado = 0\r\n",
        "\r\n",
        "for i in range (0, qempleados):\r\n",
        "  sueldos[i] = float(input(f\"Ingresa el sueldo del {i+1} empleado: \"))\r\n",
        "  if i > 0:\r\n",
        "    if sueldos[i] > mayor:\r\n",
        "      mayor = sueldos[i]\r\n",
        "      numempleado = i+1\r\n",
        "  else:\r\n",
        "    mayor = sueldos[i]\r\n",
        "\r\n",
        "print(f\"El mayor salario de la empresa lo tiene el empleado: {numempleado}, con un sueldo de: {mayor}\")"
      ],
      "execution_count": null,
      "outputs": [
        {
          "output_type": "stream",
          "text": [
            "Ingresa la cantidad de empleados en la empresa: 7\n",
            "Ingresa el sueldo del 1 empleado: 60000\n",
            "Ingresa el sueldo del 2 empleado: 50000\n",
            "Ingresa el sueldo del 3 empleado: 45000\n",
            "Ingresa el sueldo del 4 empleado: 25000\n",
            "Ingresa el sueldo del 5 empleado: 35000\n",
            "Ingresa el sueldo del 6 empleado: 15000\n",
            "Ingresa el sueldo del 7 empleado: 20000\n",
            "El mayor salario de la empresa lo tiene el empleado: 0, con un sueldo de: 60000.0\n"
          ],
          "name": "stdout"
        }
      ]
    },
    {
      "cell_type": "code",
      "metadata": {
        "colab": {
          "base_uri": "https://localhost:8080/"
        },
        "id": "cIe4KUA_G-rL",
        "outputId": "79f50418-db56-4f24-970f-c1cc6300e8fb"
      },
      "source": [
        "#Problema 3.13\r\n",
        "nortelluvias = [float(0) for x in range (12)]\r\n",
        "centrolluvias = [float(0) for x in range (12)]\r\n",
        "surlluvias = [float(0) for x in range (12)]\r\n",
        "\r\n",
        "nortepromedio = 0\r\n",
        "centropromedio = 0\r\n",
        "surpromedio = 0\r\n",
        "menor = 0\r\n",
        "mesmenor = 0\r\n",
        "regionmayor = \"\"\r\n",
        "mayor = 0\r\n",
        "\r\n",
        "meses = {\r\n",
        "    1: \"Enero\",\r\n",
        "    2: \"Febrero\",\r\n",
        "    3: \"Marzo\",\r\n",
        "    4: \"Abril\",\r\n",
        "    5: \"Mayo\",\r\n",
        "    6: \"Junio\",\r\n",
        "    7: \"Julio\",\r\n",
        "    8: \"Agosto\",\r\n",
        "    9: \"Septiembre\",\r\n",
        "    10: \"Octubre\",\r\n",
        "    11: \"Noviembre\",\r\n",
        "    12: \"Diciembre\"}\r\n",
        "\r\n",
        "for i in range (0, 12):\r\n",
        "  nortelluvias[i] = float(input(f\"{i}.- Ingresa cuantas lluvias hubo para el mes de {meses.get(i+1)} en la región del norte: \"))\r\n",
        "  centrolluvias[i] = float(input(f\"{i}.- Ingresa cuantas lluvias hubo para el mes de {meses.get(i+1)} en la región del centro: \"))\r\n",
        "  surlluvias[i] = float(input(f\"{i}.- Ingresa cuantas lluvias hubo para el mes de {meses.get(i+1)} en la región del sur: \\n\"))\r\n",
        "\r\n",
        "  nortepromedio += nortelluvias[i]\r\n",
        "  centropromedio += centrolluvias[i]\r\n",
        "  surpromedio += surlluvias[i]\r\n",
        "  if i > 0:\r\n",
        "    if surlluvias[i] < menor:\r\n",
        "        menor = surlluvias[i]\r\n",
        "        mesmenor = i+1\r\n",
        "  else:\r\n",
        "    menor = surlluvias[i]\r\n",
        "\r\n",
        "if nortepromedio > centropromedio and nortepromedio > surpromedio:\r\n",
        "  regionmayor = \"Norte\"\r\n",
        "  mayor = nortepromedio\r\n",
        "elif centropromedio > nortepromedio and centropromedio > surpromedio:\r\n",
        "  regionmayor = \"Centro\"\r\n",
        "  mayor = centropromedio\r\n",
        "elif surpromedio > nortepromedio and surpromedio > centropromedio:\r\n",
        "  regionmayor = \"Sur\"\r\n",
        "  mayor = surpromedio\r\n",
        "\r\n",
        "print(f\"\\nEl mes con el menor número de lluvias para el sur fue: {meses.get(mesmenor)} con {menor} lluvias.\")\r\n",
        "print(f\"El promedio de lluvias para el centro es de: {centropromedio/12}\")\r\n",
        "print(f\"La región con la mayor cantidad de lluvias anuales es: {regionmayor}, con {mayor} lluvias en el año.\")"
      ],
      "execution_count": null,
      "outputs": [
        {
          "output_type": "stream",
          "text": [
            "Ingresa cuantas lluvias hubo para el mes de Enero en la región del norte: 12\n",
            "Ingresa cuantas lluvias hubo para el mes de Enero en la región del centro: 5\n",
            "Ingresa cuantas lluvias hubo para el mes de Enero en la región del sur: 7\n",
            "Ingresa cuantas lluvias hubo para el mes de Febrero en la región del norte: 15\n",
            "Ingresa cuantas lluvias hubo para el mes de Febrero en la región del centro: 3\n",
            "Ingresa cuantas lluvias hubo para el mes de Febrero en la región del sur: 4\n",
            "Ingresa cuantas lluvias hubo para el mes de Marzo en la región del norte: 3\n",
            "Ingresa cuantas lluvias hubo para el mes de Marzo en la región del centro: 17\n",
            "Ingresa cuantas lluvias hubo para el mes de Marzo en la región del sur: 2\n",
            "Ingresa cuantas lluvias hubo para el mes de Abril en la región del norte: 8\n",
            "Ingresa cuantas lluvias hubo para el mes de Abril en la región del centro: 4\n",
            "Ingresa cuantas lluvias hubo para el mes de Abril en la región del sur: 6\n",
            "Ingresa cuantas lluvias hubo para el mes de Mayo en la región del norte: 7\n",
            "Ingresa cuantas lluvias hubo para el mes de Mayo en la región del centro: 5\n",
            "Ingresa cuantas lluvias hubo para el mes de Mayo en la región del sur: 13\n",
            "Ingresa cuantas lluvias hubo para el mes de Junio en la región del norte: 11\n",
            "Ingresa cuantas lluvias hubo para el mes de Junio en la región del centro: 13\n",
            "Ingresa cuantas lluvias hubo para el mes de Junio en la región del sur: 15\n",
            "Ingresa cuantas lluvias hubo para el mes de Julio en la región del norte: 18\n",
            "Ingresa cuantas lluvias hubo para el mes de Julio en la región del centro: 9\n",
            "Ingresa cuantas lluvias hubo para el mes de Julio en la región del sur: 8\n",
            "Ingresa cuantas lluvias hubo para el mes de Agosto en la región del norte: 7\n",
            "Ingresa cuantas lluvias hubo para el mes de Agosto en la región del centro: 6\n",
            "Ingresa cuantas lluvias hubo para el mes de Agosto en la región del sur: 5\n",
            "Ingresa cuantas lluvias hubo para el mes de Septiembre en la región del norte: 4\n",
            "Ingresa cuantas lluvias hubo para el mes de Septiembre en la región del centro: 6\n",
            "Ingresa cuantas lluvias hubo para el mes de Septiembre en la región del sur: 8\n",
            "Ingresa cuantas lluvias hubo para el mes de Octubre en la región del norte: 9\n",
            "Ingresa cuantas lluvias hubo para el mes de Octubre en la región del centro: 3\n",
            "Ingresa cuantas lluvias hubo para el mes de Octubre en la región del sur: 4\n",
            "Ingresa cuantas lluvias hubo para el mes de Noviembre en la región del norte: 5\n",
            "Ingresa cuantas lluvias hubo para el mes de Noviembre en la región del centro: 6\n",
            "Ingresa cuantas lluvias hubo para el mes de Noviembre en la región del sur: 7\n",
            "Ingresa cuantas lluvias hubo para el mes de Diciembre en la región del norte: 9\n",
            "Ingresa cuantas lluvias hubo para el mes de Diciembre en la región del centro: 17\n",
            "Ingresa cuantas lluvias hubo para el mes de Diciembre en la región del sur: 16\n",
            "El promedio de lluvias para el centro es de: 7.833333333333333\n",
            "El mes con el menor número de lluvias para el sur fue: Marzo con 2.0 lluvias.\n",
            "La región con la mayor cantidad de lluvias anuales es: Norte, con 108.0 lluvias en el año.\n"
          ],
          "name": "stdout"
        }
      ]
    },
    {
      "cell_type": "code",
      "metadata": {
        "colab": {
          "base_uri": "https://localhost:8080/"
        },
        "id": "AJfLMklPOk0t",
        "outputId": "4e23c7fc-4ad7-4eb6-b910-7390d5d68aa6"
      },
      "source": [
        "#Problema 3.14\r\n",
        "precios = [float(0) for x in range(5)]\r\n",
        "ventas = 0\r\n",
        "temp = 0\r\n",
        "total = 0\r\n",
        "dummy, dummy2 = \"\", \"\"\r\n",
        "\r\n",
        "for i in range (0, 5):\r\n",
        "  precios[i] = int(input(f\"Ingresa el precio de los boletos para la localidad {i+1}: \"))\r\n",
        "\r\n",
        "qventas = int(input(\"¿Cuántas ventas de boletos se realizaron en total?\"))\r\n",
        "conv = [str(0) for x in range(qventas)]\r\n",
        "\r\n",
        "for i in range (0, qventas):\r\n",
        "  while True:\r\n",
        "    temp = int(input(\"¿En que localidad se realizó ésta venta (1-5)?: \"))\r\n",
        "    if temp >0 and temp <6:\r\n",
        "      ventas = float(input(\"¿Cuántos boletos se vendieron?: \"))\r\n",
        "      conv[i] += str(ventas * precios[temp-1]) + str(int(temp))\r\n",
        "      total += ventas * precios[temp-1]\r\n",
        "      break;\r\n",
        "    else:\r\n",
        "      print(\"El número debe ser entre 1 y 5.\")\r\n",
        "k = 0\r\n",
        "for i in range (0, qventas):\r\n",
        "  dummy = conv[i]\r\n",
        "  dummy = dummy[1:]\r\n",
        "  k = 2 + dummy.find(\".\")\r\n",
        "  dummy2 = dummy[k:]\r\n",
        "  print(f\"Se realizo una venta en la localidad {dummy2} por ${dummy[:k]}\")\r\n",
        "\r\n",
        "print(f\"El estadio gano un total de: ${total}\")\r\n",
        "\r\n",
        "  "
      ],
      "execution_count": null,
      "outputs": [
        {
          "output_type": "stream",
          "text": [
            "Ingresa el precio de los boletos para la localidad 1: 60\n",
            "Ingresa el precio de los boletos para la localidad 2: 55\n",
            "Ingresa el precio de los boletos para la localidad 3: 65\n",
            "Ingresa el precio de los boletos para la localidad 4: 70\n",
            "Ingresa el precio de los boletos para la localidad 5: 90\n",
            "¿Cuántas ventas de boletos se realizaron en total?7\n",
            "¿En que localidad se realizó ésta venta (1-5)?: 5\n",
            "¿Cuántos boletos se vendieron?: 35\n",
            "¿En que localidad se realizó ésta venta (1-5)?: 4\n",
            "¿Cuántos boletos se vendieron?: 25\n",
            "¿En que localidad se realizó ésta venta (1-5)?: 1\n",
            "¿Cuántos boletos se vendieron?: 90\n",
            "¿En que localidad se realizó ésta venta (1-5)?: 2\n",
            "¿Cuántos boletos se vendieron?: 37\n",
            "¿En que localidad se realizó ésta venta (1-5)?: 3\n",
            "¿Cuántos boletos se vendieron?: 48\n",
            "¿En que localidad se realizó ésta venta (1-5)?: 4\n",
            "¿Cuántos boletos se vendieron?: 15\n",
            "¿En que localidad se realizó ésta venta (1-5)?: 2\n",
            "¿Cuántos boletos se vendieron?: 60\n",
            "Se realizo una venta en la localidad 5 por $3150.0\n",
            "Se realizo una venta en la localidad 4 por $1750.0\n",
            "Se realizo una venta en la localidad 1 por $5400.0\n",
            "Se realizo una venta en la localidad 2 por $2035.0\n",
            "Se realizo una venta en la localidad 3 por $3120.0\n",
            "Se realizo una venta en la localidad 4 por $1050.0\n",
            "Se realizo una venta en la localidad 2 por $3300.0\n",
            "El estadio gano un total de: $19805.0\n"
          ],
          "name": "stdout"
        }
      ]
    },
    {
      "cell_type": "code",
      "metadata": {
        "colab": {
          "base_uri": "https://localhost:8080/"
        },
        "id": "0ZTj2_IhmL-5",
        "outputId": "7793cb9b-e183-4639-d200-e041fe834321"
      },
      "source": [
        "#Problema 3.15\r\n",
        "k = int(input(\"¿Cuántas llamadas se realizaron en total?: \"))\r\n",
        "tipollamadas = [float(0) for x in range(k)]\r\n",
        "dur, locales, total = 0, 0, 0\r\n",
        "clocal, cinternacional, cnacional = 0, 0, 0\r\n",
        "\r\n",
        "for i in range(0,k):\r\n",
        "  while True:\r\n",
        "    tipollamadas[i] = float(input(f\"¿Qué tipo de llamada fue?:\\n1) Internacional\\n2)Nacional\\n3)Local\\n\"))\r\n",
        "    if tipollamadas[i] > 0 and tipollamadas[i] < 4:\r\n",
        "      break;\r\n",
        "    else:\r\n",
        "      print(\"\\nEl número debe ser entre 1 y 3.\")\r\n",
        "  dur = int(input(f\"¿Cuánto duró la llamada {i+1}?\"))\r\n",
        "  if tipollamadas[i] == 1:\r\n",
        "    if dur<=3:\r\n",
        "      tipollamadas[i] = 7.59\r\n",
        "    elif dur>3:\r\n",
        "      tipollamadas[i] = 7.59 + ((dur-3) * 3.03)\r\n",
        "    cinternacional += tipollamadas[i]\r\n",
        "  elif tipollamadas[i] == 2:\r\n",
        "    if dur<=3:\r\n",
        "      tipollamadas[i] = 1.20\r\n",
        "    elif dur>3:\r\n",
        "      tipollamadas[i] = 1.20 + ((dur-3) * 0.48)\r\n",
        "    cnacional += tipollamadas[i]\r\n",
        "  elif tipollamadas[i] == 3:\r\n",
        "    if locales > 50:\r\n",
        "      tipollamadas[i] = 0.60\r\n",
        "      clocal += tipollamadas[i]\r\n",
        "  print(f\"El costo de esa llamada fue de: {tipollamadas[i]}\")\r\n",
        "  total += tipollamadas[i]\r\n",
        "print(f\"Se pagará ${cinternacional} por las llamadas internacionales.\")\r\n",
        "print(f\"Se pagará ${cnacional} por las llamadas internacionales.\")\r\n",
        "print(f\"Se pagará ${clocal} por las llamadas internacionales.\")\r\n",
        "print(f\"Se debe pagar un total de {total} por las {k} llamadas realizadas.\")\r\n",
        "    \r\n"
      ],
      "execution_count": null,
      "outputs": [
        {
          "output_type": "stream",
          "text": [
            "¿Cuántas llamadas se realizaron en total?: 10\n",
            "¿Qué tipo de llamada fue?:\n",
            "1) Internacional\n",
            "2)Nacional\n",
            "3)Local\n",
            "1\n",
            "¿Cuánto duró la llamada 1?10\n",
            "¿Qué tipo de llamada fue?:\n",
            "1) Internacional\n",
            "2)Nacional\n",
            "3)Local\n",
            "2\n",
            "¿Cuánto duró la llamada 2?60\n",
            "¿Qué tipo de llamada fue?:\n",
            "1) Internacional\n",
            "2)Nacional\n",
            "3)Local\n",
            "3\n",
            "¿Cuánto duró la llamada 3?52\n",
            "¿Qué tipo de llamada fue?:\n",
            "1) Internacional\n",
            "2)Nacional\n",
            "3)Local\n",
            "2\n",
            "¿Cuánto duró la llamada 4?15\n",
            "¿Qué tipo de llamada fue?:\n",
            "1) Internacional\n",
            "2)Nacional\n",
            "3)Local\n",
            "1\n",
            "¿Cuánto duró la llamada 5?2\n",
            "¿Qué tipo de llamada fue?:\n",
            "1) Internacional\n",
            "2)Nacional\n",
            "3)Local\n",
            "2\n",
            "¿Cuánto duró la llamada 6?9\n",
            "¿Qué tipo de llamada fue?:\n",
            "1) Internacional\n",
            "2)Nacional\n",
            "3)Local\n",
            "1\n",
            "¿Cuánto duró la llamada 7?2\n",
            "¿Qué tipo de llamada fue?:\n",
            "1) Internacional\n",
            "2)Nacional\n",
            "3)Local\n",
            "3\n",
            "¿Cuánto duró la llamada 8?34\n",
            "¿Qué tipo de llamada fue?:\n",
            "1) Internacional\n",
            "2)Nacional\n",
            "3)Local\n",
            "3\n",
            "¿Cuánto duró la llamada 9?5\n",
            "¿Qué tipo de llamada fue?:\n",
            "1) Internacional\n",
            "2)Nacional\n",
            "3)Local\n",
            "2\n",
            "¿Cuánto duró la llamada 10?9\n",
            "Se debe pagar un total de 96.66 por las 10 llamadas realizadas.\n"
          ],
          "name": "stdout"
        }
      ]
    },
    {
      "cell_type": "code",
      "metadata": {
        "colab": {
          "base_uri": "https://localhost:8080/"
        },
        "id": "HB5borRzq-AN",
        "outputId": "69707c13-f589-4ee8-e283-ef16c537ae69"
      },
      "source": [
        "#Problema 3.16\r\n",
        "import numpy as np\r\n",
        "tiempo = int(input(\"¿Cuántos años de registro se tomarán en cuenta?: \"))\r\n",
        "tipos = [float(0) for x in range(5)]\r\n",
        "qtipos = [float(0) for x in range(5)]\r\n",
        "qvino = [float(0) for x in range(tiempo)]\r\n",
        "qvino2 = [float(0) for x in range(tiempo)]\r\n",
        "qvino3 = [float(0) for x in range(tiempo)]\r\n",
        "qvino4 = [float(0) for x in range(tiempo)]\r\n",
        "qvino5 = [float(0) for x in range(tiempo)]\r\n",
        "qvinotiempo = [float(0) for x in range(tiempo)]\r\n",
        "qvino2mayor = 0\r\n",
        "tiempovino2mayor = 0\r\n",
        "yearnowine = [float(0) for x in range(tiempo)]\r\n",
        "totalvinos = 0\r\n",
        "\r\n",
        "for i in range(0, 5):\r\n",
        "  tipos[i] = float(input(f\"¿De cuántos litros es el vino del Tipo {i+1}?: \"))\r\n",
        "\r\n",
        "for i in range(0, tiempo):\r\n",
        "  qvino[i] = float(input(f\"\\n¿Cuántos vinos del Tipo 1 se produjeron el año {i+1}?: \"))\r\n",
        "  qvino2[i] = float(input(f\"¿Cuántos vinos del Tipo 2 se produjeron el año {i+1}?: \"))\r\n",
        "  qvino3[i] = float(input(f\"¿Cuántos vinos del Tipo 3 se produjeron el año {i+1}?: \"))\r\n",
        "  qvino4[i] = float(input(f\"¿Cuántos vinos del Tipo 4 se produjeron el año {i+1}?: \"))\r\n",
        "  qvino5[i] = float(input(f\"¿Cuántos vinos del Tipo 5 se produjeron el año {i+1}?: \"))\r\n",
        "  qvinotiempo[i] = qvino[i] + qvino2[i] + qvino3[i] + qvino4[i] + qvino5[i]\r\n",
        "\r\n",
        "  if qvino3[i] == 0:\r\n",
        "    yearnowine[i] = i+1 \r\n",
        "\r\n",
        "  if i > 0:\r\n",
        "    if qvino2[i] > qvino2mayor:\r\n",
        "      qvino2mayor = qvino2[i]\r\n",
        "      tiempovino2mayor = i\r\n",
        "  else:\r\n",
        "    qvino2mayor = qvino2[i]\r\n",
        "\r\n",
        "  totalvinos += qvinotiempo[i]\r\n",
        "\r\n",
        "print(f\"\\nEl total de BOTELLAS de vino producidas durante los {tiempo} años fueron: {totalvinos} botellas.\")\r\n",
        "  \r\n",
        "qtipos[0] = np.sum(qvino)\r\n",
        "qtipos[1] = np.sum(qvino2)\r\n",
        "qtipos[2] = np.sum(qvino3)\r\n",
        "qtipos[3] = np.sum(qvino4)\r\n",
        "qtipos[4] = np.sum(qvino5)\r\n",
        "\r\n",
        "for i in range (0, 5):\r\n",
        "  totalvinos += totalvinos * tipos[i]\r\n",
        "  print(f\"\\nEl total de BOTELLAS de vino Tipo {i+1} producidas durante los {tiempo} fueron: {qtipos[i]}\")\r\n",
        "  print(f\"El total de LITROS de vino Tipo {i+1} producidas durante los {tiempo} fueron: {qtipos[i] * tipos[i]}\")\r\n",
        "\r\n",
        "print(f\"El total de LITROS de vino producidos durante los {tiempo} años fueron: {totalvinos}\")\r\n",
        "\r\n",
        "print(f\"El año con la mayor cantidad de LITROS producida de vino Tipo 2 fue: año {tiempovino2mayor+1} con {qvino2mayor * qtipos[1]} litros producidos.\")\r\n",
        "\r\n",
        "for i in range (0, tiempo):\r\n",
        "  if yearnowine[i] > 0:\r\n",
        "    print(f\"El año {i+1} no tuvo ninguna producción de vino 3.\")\r\n"
      ],
      "execution_count": null,
      "outputs": [
        {
          "output_type": "stream",
          "text": [
            "¿Cuántos años de registro se tomarán en cuenta?: 3\n",
            "¿De cuántos litros es el vino del Tipo 1?: 1.4\n",
            "¿De cuántos litros es el vino del Tipo 2?: 1.6\n",
            "¿De cuántos litros es el vino del Tipo 3?: 3\n",
            "¿De cuántos litros es el vino del Tipo 4?: 2.1\n",
            "¿De cuántos litros es el vino del Tipo 5?: 2.2\n",
            "\n",
            "¿Cuántos vinos del Tipo 1 se produjeron el año 1?: 20\n",
            "¿Cuántos vinos del Tipo 2 se produjeron el año 1?: 69\n",
            "¿Cuántos vinos del Tipo 3 se produjeron el año 1?: 0\n",
            "¿Cuántos vinos del Tipo 4 se produjeron el año 1?: 49\n",
            "¿Cuántos vinos del Tipo 5 se produjeron el año 1?: 21\n",
            "\n",
            "¿Cuántos vinos del Tipo 1 se produjeron el año 2?: 15\n",
            "¿Cuántos vinos del Tipo 2 se produjeron el año 2?: 16\n",
            "¿Cuántos vinos del Tipo 3 se produjeron el año 2?: 20\n",
            "¿Cuántos vinos del Tipo 4 se produjeron el año 2?: 39\n",
            "¿Cuántos vinos del Tipo 5 se produjeron el año 2?: 10\n",
            "\n",
            "¿Cuántos vinos del Tipo 1 se produjeron el año 3?: 24\n",
            "¿Cuántos vinos del Tipo 2 se produjeron el año 3?: 36\n",
            "¿Cuántos vinos del Tipo 3 se produjeron el año 3?: 69\n",
            "¿Cuántos vinos del Tipo 4 se produjeron el año 3?: 40\n",
            "¿Cuántos vinos del Tipo 5 se produjeron el año 3?: 12\n",
            "El total de BOTELLAS de vino producidas durante los 3 años fueron: 440.0 botellas.\n",
            "\n",
            "El total de BOTELLAS de vino Tipo 0 producidas durante los 3 fueron: 59.0\n",
            "El total de LITROS de vino Tipo 0 producidas durante los 3 fueron: 82.6\n",
            "\n",
            "El total de BOTELLAS de vino Tipo 1 producidas durante los 3 fueron: 121.0\n",
            "El total de LITROS de vino Tipo 1 producidas durante los 3 fueron: 193.60000000000002\n",
            "\n",
            "El total de BOTELLAS de vino Tipo 2 producidas durante los 3 fueron: 89.0\n",
            "El total de LITROS de vino Tipo 2 producidas durante los 3 fueron: 267.0\n",
            "\n",
            "El total de BOTELLAS de vino Tipo 3 producidas durante los 3 fueron: 128.0\n",
            "El total de LITROS de vino Tipo 3 producidas durante los 3 fueron: 268.8\n",
            "\n",
            "El total de BOTELLAS de vino Tipo 4 producidas durante los 3 fueron: 43.0\n",
            "El total de LITROS de vino Tipo 4 producidas durante los 3 fueron: 94.60000000000001\n",
            "El total de LITROS de vino producidos durante los 3 años fueron: 108945.40800000001\n",
            "El año con la mayor cantidad de LITROS producida de vino Tipo 2 fue: 0 con 8349.0 litros producidos.\n",
            "El año 1 no tuvo ninguna producción de vino 3.\n"
          ],
          "name": "stdout"
        }
      ]
    },
    {
      "cell_type": "code",
      "metadata": {
        "id": "L2ZrY7z33hpP",
        "colab": {
          "base_uri": "https://localhost:8080/"
        },
        "outputId": "b56023d6-97ab-4689-e125-4eff761ffe68"
      },
      "source": [
        "#Problema 3.17\r\n",
        "def primos(x):\r\n",
        "  output = \"\"\r\n",
        "  for n in range(2, x):\r\n",
        "    primo = True\r\n",
        "    for i in range(2, n):\r\n",
        "      if n % i == 0:\r\n",
        "        primo = False\r\n",
        "        break;\r\n",
        "    if primo:\r\n",
        "      output += str(n)+\"  \"\r\n",
        "  return output\r\n",
        "\r\n",
        "\r\n",
        "if __name__ == \"__main__\":\r\n",
        "  lim = 0\r\n",
        "  while True:\r\n",
        "    lim = int(input(\"Ingresa un número mayor a 1: \"))\r\n",
        "    if lim <= 1:\r\n",
        "      print(\"El número es inválido. Debe ser mayor a 1.\")\r\n",
        "    else:\r\n",
        "      break;\r\n",
        "\r\n",
        "  print(primos(lim))\r\n",
        "    \r\n",
        "\r\n",
        "\r\n"
      ],
      "execution_count": 26,
      "outputs": [
        {
          "output_type": "stream",
          "text": [
            "Ingresa un número mayor a 1: 88\n",
            "2  3  5  7  11  13  17  19  23  29  31  37  41  43  47  53  59  61  67  71  73  79  83  \n"
          ],
          "name": "stdout"
        }
      ]
    },
    {
      "cell_type": "code",
      "metadata": {
        "colab": {
          "base_uri": "https://localhost:8080/"
        },
        "id": "ekL4Bpruh79x",
        "outputId": "fc4e390d-60f3-4498-d1bc-b64338ab58aa"
      },
      "source": [
        "#Problema 3.18\r\n",
        "while True:\r\n",
        "  qfabricas = int(input(\"¿Cuántas fábricas se tomarán en cuenta?: \"))\r\n",
        "  if qfabricas > 1000:\r\n",
        "    print(\"Debe ser menor o igual a 1000.\")\r\n",
        "  else:\r\n",
        "    break\r\n",
        "meses = [\"Enero\", \"Febrero\", \"Marzo\", \"Abril\", \"Mayo\", \"Junio\", \"Julio\", \"Agosto\", \"Septiembre\", \"Octubre\", \"Noviembre\", \"Diciembre\"]\r\n",
        "claves = [str(0) for x in range(qfabricas)]\r\n",
        "ingresos = [float(0) for x in range(qfabricas)]\r\n",
        "julioIDs = [str(0) for x in range(qfabricas)]\r\n",
        "mayor = 0\r\n",
        "idHolder = 0\r\n",
        "mesHolder = 0\r\n",
        "ih = 0\r\n",
        "\r\n",
        "for i in range(0, qfabricas):\r\n",
        "  ingresos[i] = 0\r\n",
        "  claves[i] = \"ID: \"\r\n",
        "  claves[i] += str(input(f\"\\nIngresa el ID para la empresa n°{i+1}: \"))\r\n",
        "  for j in meses:\r\n",
        "    if j == \"Julio\":\r\n",
        "      mesHolder = float(input(f\"Introduce la producción para el mes de {j} de la empresa {claves[i]}: \"))\r\n",
        "      if mesHolder > 3000000:\r\n",
        "        julioIDs[ih] = claves[i]\r\n",
        "        ih = 1 + ih\r\n",
        "      ingresos[i] += mesHolder\r\n",
        "    else:\r\n",
        "      ingresos[i] += float(input(f\"Introduce la producción para el mes de {j} de la empresa {claves[i]}: \"))\r\n",
        "\r\n",
        "for i in range(0, qfabricas):\r\n",
        "  if i > 0:\r\n",
        "    if ingresos[i] > mayor:\r\n",
        "      mayor = ingresos[i]\r\n",
        "      idHolder = i\r\n",
        "  else:\r\n",
        "    mayor = ingresos[i]\r\n",
        "  print(f\"\\n{claves[i]}. Ingreso anual: ${ingresos[i]}\")\r\n",
        "print(f\"La fábrica con el mayor ingreso (${ingresos[idHolder]}) es: {claves[idHolder]}\")\r\n",
        "\r\n",
        "print(\"Las siguientes fábricas generaron más de $3,000,000 en el mes de Julio: \\n\")\r\n",
        "for i in range(0, len(julioIDs)):\r\n",
        "  print(f\"{julioIDs[i]}\")\r\n",
        "\r\n",
        "\r\n",
        "\r\n"
      ],
      "execution_count": 40,
      "outputs": [
        {
          "output_type": "stream",
          "text": [
            "¿Cuántas fábricas se tomarán en cuenta?: 3\n",
            "\n",
            "Ingresa el ID para la empresa n°1: AAA\n",
            "Introduce la producción para el mes de Enero de la empresa ID: AAA: 6000000\n",
            "Introduce la producción para el mes de Febrero de la empresa ID: AAA: 6000000\n",
            "Introduce la producción para el mes de Marzo de la empresa ID: AAA: 6000000\n",
            "Introduce la producción para el mes de Abril de la empresa ID: AAA: 6000000\n",
            "Introduce la producción para el mes de Mayo de la empresa ID: AAA: 6000000\n",
            "Introduce la producción para el mes de Junio de la empresa ID: AAA: 6000000\n",
            "Introduce la producción para el mes de Julio de la empresa ID: AAA: 6000000\n",
            "Introduce la producción para el mes de Agosto de la empresa ID: AAA: 6000000\n",
            "Introduce la producción para el mes de Septiembre de la empresa ID: AAA: 6000000\n",
            "Introduce la producción para el mes de Octubre de la empresa ID: AAA: 6000000\n",
            "Introduce la producción para el mes de Noviembre de la empresa ID: AAA: 6000000\n",
            "Introduce la producción para el mes de Diciembre de la empresa ID: AAA: 6000000\n",
            "\n",
            "Ingresa el ID para la empresa n°2: BBB\n",
            "Introduce la producción para el mes de Enero de la empresa ID: BBB: 8000000\n",
            "Introduce la producción para el mes de Febrero de la empresa ID: BBB: 8000000\n",
            "Introduce la producción para el mes de Marzo de la empresa ID: BBB: 8000000\n",
            "Introduce la producción para el mes de Abril de la empresa ID: BBB: 8000000\n",
            "Introduce la producción para el mes de Mayo de la empresa ID: BBB: 8000000\n",
            "Introduce la producción para el mes de Junio de la empresa ID: BBB: 8000000\n",
            "Introduce la producción para el mes de Julio de la empresa ID: BBB: 8000000\n",
            "Introduce la producción para el mes de Agosto de la empresa ID: BBB: 8000000\n",
            "Introduce la producción para el mes de Septiembre de la empresa ID: BBB: 8000000\n",
            "Introduce la producción para el mes de Octubre de la empresa ID: BBB: 8000000\n",
            "Introduce la producción para el mes de Noviembre de la empresa ID: BBB: 8000000\n",
            "Introduce la producción para el mes de Diciembre de la empresa ID: BBB: 8000000\n",
            "\n",
            "Ingresa el ID para la empresa n°3: CCC\n",
            "Introduce la producción para el mes de Enero de la empresa ID: CCC: 10000000\n",
            "Introduce la producción para el mes de Febrero de la empresa ID: CCC: 10000000\n",
            "Introduce la producción para el mes de Marzo de la empresa ID: CCC: 10000000\n",
            "Introduce la producción para el mes de Abril de la empresa ID: CCC: 10000000\n",
            "Introduce la producción para el mes de Mayo de la empresa ID: CCC: 10000000\n",
            "Introduce la producción para el mes de Junio de la empresa ID: CCC: 10000000\n",
            "Introduce la producción para el mes de Julio de la empresa ID: CCC: 10000000\n",
            "Introduce la producción para el mes de Agosto de la empresa ID: CCC: 10000000\n",
            "Introduce la producción para el mes de Septiembre de la empresa ID: CCC: 10000000\n",
            "Introduce la producción para el mes de Octubre de la empresa ID: CCC: 10000000\n",
            "Introduce la producción para el mes de Noviembre de la empresa ID: CCC: 10000000\n",
            "Introduce la producción para el mes de Diciembre de la empresa ID: CCC: 10000000\n",
            "\n",
            "ID: AAA. Ingreso anual: $72000000.0\n",
            "\n",
            "ID: BBB. Ingreso anual: $96000000.0\n",
            "\n",
            "ID: CCC. Ingreso anual: $120000000.0\n",
            "La fábrica con el mayor ingreso ($120000000.0) es: ID: CCC\n",
            "Las siguientes fábricas generaron más de $3,000,000 en el mes de Julio: \n",
            "\n",
            "ID: AAA\n",
            "ID: BBB\n",
            "ID: CCC\n"
          ],
          "name": "stdout"
        }
      ]
    },
    {
      "cell_type": "code",
      "metadata": {
        "colab": {
          "base_uri": "https://localhost:8080/"
        },
        "id": "2ZrsQKXivJU4",
        "outputId": "b1eb552c-cc3f-4d2f-eeae-01d03445f08a"
      },
      "source": [
        "#Problema 3.19\r\n",
        "numero = int(input(\"Ingresa un número para determinar sí es perfecto o no: \"))\r\n",
        "sum = 0\r\n",
        "for i in range(1, numero):\r\n",
        "  if numero % i == 0:\r\n",
        "    sum += i\r\n",
        "\r\n",
        "if sum == numero:\r\n",
        "  print(f\"{numero} es de hecho un número perfecto.\")\r\n",
        "else:\r\n",
        "  print(f\"{numero} no es un número perfecto.\")"
      ],
      "execution_count": 41,
      "outputs": [
        {
          "output_type": "stream",
          "text": [
            "Ingresa un número para determinar sí es perfecto o no: 6\n",
            "6 es de hecho un número perfecto.\n"
          ],
          "name": "stdout"
        }
      ]
    }
  ]
}