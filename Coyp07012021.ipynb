{
  "nbformat": 4,
  "nbformat_minor": 0,
  "metadata": {
    "colab": {
      "name": "Coyp07012021.ipynb",
      "provenance": [],
      "authorship_tag": "ABX9TyMS0JEyqHj/VZeIGVN41stg",
      "include_colab_link": true
    },
    "kernelspec": {
      "name": "python3",
      "display_name": "Python 3"
    }
  },
  "cells": [
    {
      "cell_type": "markdown",
      "metadata": {
        "id": "view-in-github",
        "colab_type": "text"
      },
      "source": [
        "<a href=\"https://colab.research.google.com/github/GankG/Computadoras-y-Programacion-1157/blob/google-collab/Coyp07012021.ipynb\" target=\"_parent\"><img src=\"https://colab.research.google.com/assets/colab-badge.svg\" alt=\"Open In Colab\"/></a>"
      ]
    },
    {
      "cell_type": "code",
      "metadata": {
        "colab": {
          "base_uri": "https://localhost:8080/"
        },
        "id": "pDrF_w7MDx0y",
        "outputId": "6b173c6d-f173-4e64-eca4-0b6216791597"
      },
      "source": [
        "Ren = 5\r\n",
        "Col = 5\r\n",
        "Vec = [[0 for x in range(Col)] for x in range(Ren)]\r\n",
        "print(Vec)\r\n",
        "Vec[1][2] = 15\r\n",
        "print(Vec)\r\n",
        "\r\n",
        "print(\"Automatizar el recorrido del arreglo\")\r\n",
        "for i in range(Ren):\r\n",
        "  for j in range(Col):\r\n",
        "    print(f\"{i},{j} = {Vec[i][j]}\")"
      ],
      "execution_count": null,
      "outputs": [
        {
          "output_type": "stream",
          "text": [
            "[[0, 0, 0, 0, 0], [0, 0, 0, 0, 0], [0, 0, 0, 0, 0], [0, 0, 0, 0, 0], [0, 0, 0, 0, 0]]\n",
            "[[0, 0, 0, 0, 0], [0, 0, 15, 0, 0], [0, 0, 0, 0, 0], [0, 0, 0, 0, 0], [0, 0, 0, 0, 0]]\n",
            "Automatizar el recorrido del arreglo\n",
            "0,0 = 0\n",
            "0,1 = 0\n",
            "0,2 = 0\n",
            "0,3 = 0\n",
            "0,4 = 0\n",
            "1,0 = 0\n",
            "1,1 = 0\n",
            "1,2 = 15\n",
            "1,3 = 0\n",
            "1,4 = 0\n",
            "2,0 = 0\n",
            "2,1 = 0\n",
            "2,2 = 0\n",
            "2,3 = 0\n",
            "2,4 = 0\n",
            "3,0 = 0\n",
            "3,1 = 0\n",
            "3,2 = 0\n",
            "3,3 = 0\n",
            "3,4 = 0\n",
            "4,0 = 0\n",
            "4,1 = 0\n",
            "4,2 = 0\n",
            "4,3 = 0\n",
            "4,4 = 0\n"
          ],
          "name": "stdout"
        }
      ]
    },
    {
      "cell_type": "code",
      "metadata": {
        "colab": {
          "base_uri": "https://localhost:8080/"
        },
        "id": "o2em83L7E1K_",
        "outputId": "32ea6be3-be50-47b7-eac0-4b19489d795d"
      },
      "source": [
        "qestados = int(input(\"¿Cuántos estados se tomarán en cuenta?: \"))\r\n",
        "nestados = [str(0) for x in range (qestados)]\r\n",
        "promestados = [float(0) for x in range (qestados)]\r\n",
        "meses = [\"Enero\", \"Febrero\", \"Marzo\", \"Abril\", \"Mayo\", \"Junio\", \"Julio\", \"Agosto\", \"Septiembre\", \"Octubre\", \"Noviembre\", \"Diciembre\"]\r\n",
        "lluviasmesestado = [[float(0) for x in range(12)] for y in range(qestados)]\r\n",
        "\r\n",
        "suma, k = 0, 0\r\n",
        "\r\n",
        "for i in range (0, qestados):\r\n",
        "  nestados[i] = str(input(f\"Ingresa el nombre del Estado n° {i+1}: \"))\r\n",
        "  k = 0\r\n",
        "  suma = 0\r\n",
        "  for j in meses:\r\n",
        "    lluviasmesestado[i][k] = int(input(f\"Ingresa cuántas lluvias hubo para {nestados[i]} en el mes de {j}: \"))\r\n",
        "    suma += lluviasmesestado[i][k]\r\n",
        "    k += 1\r\n",
        "  promestados[i] = suma/12\r\n",
        "\r\n",
        "print(lluviasmesestado)\r\n",
        "for i in range (0, qestados):\r\n",
        "  suma += (promestados[i] * 12)\r\n",
        "  print(f\"El promedio de lluvias para {nestados[i]} es de: {promestados[i]}\")\r\n",
        "\r\n",
        "print(f\"El promedio general de lluvias para los {qestados} es de: {suma/12}\")\r\n"
      ],
      "execution_count": 16,
      "outputs": [
        {
          "output_type": "stream",
          "text": [
            "¿Cuántos estados se tomarán en cuenta?: 3\n",
            "Ingresa el nombre del Estado n° 1: CDMX\n",
            "Ingresa cuántas lluvias hubo para CDMX en el mes de Enero: 1\n",
            "Ingresa cuántas lluvias hubo para CDMX en el mes de Febrero: 2\n",
            "Ingresa cuántas lluvias hubo para CDMX en el mes de Marzo: 3\n",
            "Ingresa cuántas lluvias hubo para CDMX en el mes de Abril: 4\n",
            "Ingresa cuántas lluvias hubo para CDMX en el mes de Mayo: 5\n",
            "Ingresa cuántas lluvias hubo para CDMX en el mes de Junio: 6\n",
            "Ingresa cuántas lluvias hubo para CDMX en el mes de Julio: 7\n",
            "Ingresa cuántas lluvias hubo para CDMX en el mes de Agosto: 8\n",
            "Ingresa cuántas lluvias hubo para CDMX en el mes de Septiembre: 9\n",
            "Ingresa cuántas lluvias hubo para CDMX en el mes de Octubre: 10\n",
            "Ingresa cuántas lluvias hubo para CDMX en el mes de Noviembre: 11\n",
            "Ingresa cuántas lluvias hubo para CDMX en el mes de Diciembre: 12\n",
            "Ingresa el nombre del Estado n° 2: EDOMEX\n",
            "Ingresa cuántas lluvias hubo para EDOMEX en el mes de Enero: 1\n",
            "Ingresa cuántas lluvias hubo para EDOMEX en el mes de Febrero: 2\n",
            "Ingresa cuántas lluvias hubo para EDOMEX en el mes de Marzo: 3\n",
            "Ingresa cuántas lluvias hubo para EDOMEX en el mes de Abril: 4\n",
            "Ingresa cuántas lluvias hubo para EDOMEX en el mes de Mayo: 5\n",
            "Ingresa cuántas lluvias hubo para EDOMEX en el mes de Junio: 6\n",
            "Ingresa cuántas lluvias hubo para EDOMEX en el mes de Julio: 7\n",
            "Ingresa cuántas lluvias hubo para EDOMEX en el mes de Agosto: 8\n",
            "Ingresa cuántas lluvias hubo para EDOMEX en el mes de Septiembre: 9\n",
            "Ingresa cuántas lluvias hubo para EDOMEX en el mes de Octubre: 10\n",
            "Ingresa cuántas lluvias hubo para EDOMEX en el mes de Noviembre: 11\n",
            "Ingresa cuántas lluvias hubo para EDOMEX en el mes de Diciembre: 12\n",
            "Ingresa el nombre del Estado n° 3: VERACRUZ\n",
            "Ingresa cuántas lluvias hubo para VERACRUZ en el mes de Enero: 1\n",
            "Ingresa cuántas lluvias hubo para VERACRUZ en el mes de Febrero: 2\n",
            "Ingresa cuántas lluvias hubo para VERACRUZ en el mes de Marzo: 3\n",
            "Ingresa cuántas lluvias hubo para VERACRUZ en el mes de Abril: 4\n",
            "Ingresa cuántas lluvias hubo para VERACRUZ en el mes de Mayo: 5\n",
            "Ingresa cuántas lluvias hubo para VERACRUZ en el mes de Junio: 6\n",
            "Ingresa cuántas lluvias hubo para VERACRUZ en el mes de Julio: 7\n",
            "Ingresa cuántas lluvias hubo para VERACRUZ en el mes de Agosto: 8\n",
            "Ingresa cuántas lluvias hubo para VERACRUZ en el mes de Septiembre: 9\n",
            "Ingresa cuántas lluvias hubo para VERACRUZ en el mes de Octubre: 10\n",
            "Ingresa cuántas lluvias hubo para VERACRUZ en el mes de Noviembre: 11\n",
            "Ingresa cuántas lluvias hubo para VERACRUZ en el mes de Diciembre: 12\n",
            "[[1, 2, 3, 4, 5, 6, 7, 8, 9, 10, 11, 12], [1, 2, 3, 4, 5, 6, 7, 8, 9, 10, 11, 12], [1, 2, 3, 4, 5, 6, 7, 8, 9, 10, 11, 12]]\n",
            "El promedio de lluvias para CDMX es de: 6.5\n",
            "El promedio de lluvias para EDOMEX es de: 6.5\n",
            "El promedio de lluvias para VERACRUZ es de: 6.5\n",
            "El promedio general de lluvias para los 3 es de: 26.0\n"
          ],
          "name": "stdout"
        }
      ]
    },
    {
      "cell_type": "code",
      "metadata": {
        "colab": {
          "base_uri": "https://localhost:8080/"
        },
        "id": "0zo7O1DgPTBq",
        "outputId": "01033b7f-5ba7-4f47-f276-fda8f159b421"
      },
      "source": [
        "#Problema 4.1\r\n",
        "#este problema lo entregue en la anterior pero aqui esta de nuevo\r\n",
        "q = int(input(\"Ingresa cuántos números serán: \"))\r\n",
        "nums = [float(0) for x in range (q)]\r\n",
        "\r\n",
        "for i in range(0, q):\r\n",
        "  nums[i] = float(input(f\"Ingresa el {i+1}° número: \"))\r\n",
        "\r\n",
        "nums = list(dict.fromkeys(nums))\r\n",
        "print(nums)"
      ],
      "execution_count": 17,
      "outputs": [
        {
          "output_type": "stream",
          "text": [
            "Ingresa cuántos números serán: 6\n",
            "Ingresa el 1° número: 1\n",
            "Ingresa el 2° número: 1\n",
            "Ingresa el 3° número: 1\n",
            "Ingresa el 4° número: 2\n",
            "Ingresa el 5° número: 2\n",
            "Ingresa el 6° número: 2\n",
            "[1.0, 2.0]\n"
          ],
          "name": "stdout"
        }
      ]
    }
  ]
}