{
  "nbformat": 4,
  "nbformat_minor": 0,
  "metadata": {
    "colab": {
      "name": "Coyp08122020.ipynb",
      "provenance": [],
      "authorship_tag": "ABX9TyP2wAQIeMsN0Zzab8zBXRTm",
      "include_colab_link": true
    },
    "kernelspec": {
      "name": "python3",
      "display_name": "Python 3"
    }
  },
  "cells": [
    {
      "cell_type": "markdown",
      "metadata": {
        "id": "view-in-github",
        "colab_type": "text"
      },
      "source": [
        "<a href=\"https://colab.research.google.com/github/GankG/Computadoras-y-Programacion-1157/blob/google-collab/Coyp08122020.ipynb\" target=\"_parent\"><img src=\"https://colab.research.google.com/assets/colab-badge.svg\" alt=\"Open In Colab\"/></a>"
      ]
    },
    {
      "cell_type": "code",
      "metadata": {
        "colab": {
          "base_uri": "https://localhost:8080/"
        },
        "id": "hNq9aPkEZltJ",
        "outputId": "ecf18548-4ab6-4700-84cb-f99f3903f061"
      },
      "source": [
        "#1\r\n",
        "a = int(20)\r\n",
        "while a >= 10:\r\n",
        "  print(\"A es: \",a)\r\n",
        "  a -= 1"
      ],
      "execution_count": 1,
      "outputs": [
        {
          "output_type": "stream",
          "text": [
            "A es:  20\n",
            "A es:  19\n",
            "A es:  18\n",
            "A es:  17\n",
            "A es:  16\n",
            "A es:  15\n",
            "A es:  14\n",
            "A es:  13\n",
            "A es:  12\n",
            "A es:  11\n",
            "A es:  10\n"
          ],
          "name": "stdout"
        }
      ]
    },
    {
      "cell_type": "code",
      "metadata": {
        "colab": {
          "base_uri": "https://localhost:8080/"
        },
        "id": "PC97gI7yc0L8",
        "outputId": "19ec798c-982e-4cac-b806-761f3ef01113"
      },
      "source": [
        "#ej 3.4\r\n",
        "total, gasto, acum = float(0), float(0), 0\r\n",
        "while gasto != -1:\r\n",
        "  gasto = float(input(f\"Cuanto fue del {acum+1} gasto?: \"))\r\n",
        "  if gasto != -1:\r\n",
        "    total += gasto\r\n",
        "  acum += 1\r\n",
        "print(f\"El total de los gastos es de ${total}\")\r\n"
      ],
      "execution_count": 5,
      "outputs": [
        {
          "output_type": "stream",
          "text": [
            "Cuanto fue del 1 gasto?: 60\n",
            "Cuanto fue del 2 gasto?: 50\n",
            "Cuanto fue del 3 gasto?: -1\n",
            "El total de los gastos es de $110.0\n"
          ],
          "name": "stdout"
        }
      ]
    },
    {
      "cell_type": "code",
      "metadata": {
        "colab": {
          "base_uri": "https://localhost:8080/"
        },
        "id": "e-lY1jmVd9Lt",
        "outputId": "1a7d3d74-5467-4843-a70d-63f0ca348a4f"
      },
      "source": [
        "#ej 3.5\r\n",
        "num = float(0)\r\n",
        "a = int(0)\r\n",
        "while True:\r\n",
        "  num = float(0)\r\n",
        "  num = float(input(\"Ingresa un numero para calcular su cubo: \"))\r\n",
        "  print(f\"El {a+1} numero al cubo es: {num**3}\")\r\n",
        "  while True:\r\n",
        "    yes_no = ''\r\n",
        "    yes_no = str(input(\"¿Quieres continuar? S/N: \"))\r\n",
        "    if yes_no == 's' or yes_no == 'S' or yes_no == 'n' or yes_no == 'N':\r\n",
        "      break;\r\n",
        "    else:\r\n",
        "      print(\"Debes ingresar S o N para continuar.\\n\")\r\n",
        "  if yes_no == 'n' or yes_no == 'N':\r\n",
        "    break;\r\n",
        "  elif yes_no == 's' or yes_no == 'S':\r\n",
        "    a += 1"
      ],
      "execution_count": 6,
      "outputs": [
        {
          "output_type": "stream",
          "text": [
            "Ingresa un numero para calcular su cubo: 5\n",
            "El 1 numero al cubo es: 125.0\n",
            "¿Quieres continuar? S/N: n\n"
          ],
          "name": "stdout"
        }
      ]
    },
    {
      "cell_type": "code",
      "metadata": {
        "colab": {
          "base_uri": "https://localhost:8080/"
        },
        "id": "dK6UuQ7qeuOf",
        "outputId": "696921c2-5153-44f2-ba08-e194a56dfed6"
      },
      "source": [
        "#problema 3.1\r\n",
        "#en el output se realizan 10 numeros solamente por practicidad. 270 numeros de input en google collab es un dolor de cabeza\r\n",
        "import array\r\n",
        "array.array('f')\r\n",
        "par = array.array('f',(0 for i in range(0, 2)))\r\n",
        "impar, num = int(0), int(0)\r\n",
        "\r\n",
        "for i in range(0,270):\r\n",
        "  num = int(input(f\"Ingresa el {i+1} numero: \"))\r\n",
        "  if num % 2 == 0:\r\n",
        "    par[0] += num\r\n",
        "    par[1] += 1\r\n",
        "  else:\r\n",
        "    impar += num\r\n",
        "par[0] /= par[1]\r\n",
        "print(f\"El promedio de los números pares es: {par[0]}\\nY la suma de los numeros impares: {impar}\")"
      ],
      "execution_count": 17,
      "outputs": [
        {
          "output_type": "stream",
          "text": [
            "Ingresa el 1 numero: 6\n",
            "Ingresa el 2 numero: 6\n",
            "Ingresa el 3 numero: 7\n",
            "Ingresa el 4 numero: 7\n",
            "Ingresa el 5 numero: 8\n",
            "Ingresa el 6 numero: 8\n",
            "Ingresa el 7 numero: 9\n",
            "Ingresa el 8 numero: 9\n",
            "Ingresa el 9 numero: 10\n",
            "Ingresa el 10 numero: 10\n",
            "El promedio de los números pares es: 8.0\n",
            "Y la suma de los numeros impares: 32\n"
          ],
          "name": "stdout"
        }
      ]
    },
    {
      "cell_type": "code",
      "metadata": {
        "colab": {
          "base_uri": "https://localhost:8080/"
        },
        "id": "Yhr-W1t6kZHs",
        "outputId": "3fb86f6e-fbd3-4298-b919-9d72b31e8066"
      },
      "source": [
        "#problema 3.2\r\n",
        "p = True\r\n",
        "serie, i = 0, 2\r\n",
        "\r\n",
        "while i <= 1800:\r\n",
        "  serie += i\r\n",
        "  print(i,\", \", end = \"\")\r\n",
        "  if p:\r\n",
        "    p = False\r\n",
        "    i += 3\r\n",
        "  elif not p:\r\n",
        "    p = True\r\n",
        "    i += 2\r\n",
        "\r\n",
        "print(\"\\nLa suma de la serie es \",serie)"
      ],
      "execution_count": 25,
      "outputs": [
        {
          "output_type": "stream",
          "text": [
            "2 , 5 , 7 , 10 , 12 , 15 , 17 , 20 , 22 , 25 , 27 , 30 , 32 , 35 , 37 , 40 , 42 , 45 , 47 , 50 , 52 , 55 , 57 , 60 , 62 , 65 , 67 , 70 , 72 , 75 , 77 , 80 , 82 , 85 , 87 , 90 , 92 , 95 , 97 , 100 , 102 , 105 , 107 , 110 , 112 , 115 , 117 , 120 , 122 , 125 , 127 , 130 , 132 , 135 , 137 , 140 , 142 , 145 , 147 , 150 , 152 , 155 , 157 , 160 , 162 , 165 , 167 , 170 , 172 , 175 , 177 , 180 , 182 , 185 , 187 , 190 , 192 , 195 , 197 , 200 , 202 , 205 , 207 , 210 , 212 , 215 , 217 , 220 , 222 , 225 , 227 , 230 , 232 , 235 , 237 , 240 , 242 , 245 , 247 , 250 , 252 , 255 , 257 , 260 , 262 , 265 , 267 , 270 , 272 , 275 , 277 , 280 , 282 , 285 , 287 , 290 , 292 , 295 , 297 , 300 , 302 , 305 , 307 , 310 , 312 , 315 , 317 , 320 , 322 , 325 , 327 , 330 , 332 , 335 , 337 , 340 , 342 , 345 , 347 , 350 , 352 , 355 , 357 , 360 , 362 , 365 , 367 , 370 , 372 , 375 , 377 , 380 , 382 , 385 , 387 , 390 , 392 , 395 , 397 , 400 , 402 , 405 , 407 , 410 , 412 , 415 , 417 , 420 , 422 , 425 , 427 , 430 , 432 , 435 , 437 , 440 , 442 , 445 , 447 , 450 , 452 , 455 , 457 , 460 , 462 , 465 , 467 , 470 , 472 , 475 , 477 , 480 , 482 , 485 , 487 , 490 , 492 , 495 , 497 , 500 , 502 , 505 , 507 , 510 , 512 , 515 , 517 , 520 , 522 , 525 , 527 , 530 , 532 , 535 , 537 , 540 , 542 , 545 , 547 , 550 , 552 , 555 , 557 , 560 , 562 , 565 , 567 , 570 , 572 , 575 , 577 , 580 , 582 , 585 , 587 , 590 , 592 , 595 , 597 , 600 , 602 , 605 , 607 , 610 , 612 , 615 , 617 , 620 , 622 , 625 , 627 , 630 , 632 , 635 , 637 , 640 , 642 , 645 , 647 , 650 , 652 , 655 , 657 , 660 , 662 , 665 , 667 , 670 , 672 , 675 , 677 , 680 , 682 , 685 , 687 , 690 , 692 , 695 , 697 , 700 , 702 , 705 , 707 , 710 , 712 , 715 , 717 , 720 , 722 , 725 , 727 , 730 , 732 , 735 , 737 , 740 , 742 , 745 , 747 , 750 , 752 , 755 , 757 , 760 , 762 , 765 , 767 , 770 , 772 , 775 , 777 , 780 , 782 , 785 , 787 , 790 , 792 , 795 , 797 , 800 , 802 , 805 , 807 , 810 , 812 , 815 , 817 , 820 , 822 , 825 , 827 , 830 , 832 , 835 , 837 , 840 , 842 , 845 , 847 , 850 , 852 , 855 , 857 , 860 , 862 , 865 , 867 , 870 , 872 , 875 , 877 , 880 , 882 , 885 , 887 , 890 , 892 , 895 , 897 , 900 , 902 , 905 , 907 , 910 , 912 , 915 , 917 , 920 , 922 , 925 , 927 , 930 , 932 , 935 , 937 , 940 , 942 , 945 , 947 , 950 , 952 , 955 , 957 , 960 , 962 , 965 , 967 , 970 , 972 , 975 , 977 , 980 , 982 , 985 , 987 , 990 , 992 , 995 , 997 , 1000 , 1002 , 1005 , 1007 , 1010 , 1012 , 1015 , 1017 , 1020 , 1022 , 1025 , 1027 , 1030 , 1032 , 1035 , 1037 , 1040 , 1042 , 1045 , 1047 , 1050 , 1052 , 1055 , 1057 , 1060 , 1062 , 1065 , 1067 , 1070 , 1072 , 1075 , 1077 , 1080 , 1082 , 1085 , 1087 , 1090 , 1092 , 1095 , 1097 , 1100 , 1102 , 1105 , 1107 , 1110 , 1112 , 1115 , 1117 , 1120 , 1122 , 1125 , 1127 , 1130 , 1132 , 1135 , 1137 , 1140 , 1142 , 1145 , 1147 , 1150 , 1152 , 1155 , 1157 , 1160 , 1162 , 1165 , 1167 , 1170 , 1172 , 1175 , 1177 , 1180 , 1182 , 1185 , 1187 , 1190 , 1192 , 1195 , 1197 , 1200 , 1202 , 1205 , 1207 , 1210 , 1212 , 1215 , 1217 , 1220 , 1222 , 1225 , 1227 , 1230 , 1232 , 1235 , 1237 , 1240 , 1242 , 1245 , 1247 , 1250 , 1252 , 1255 , 1257 , 1260 , 1262 , 1265 , 1267 , 1270 , 1272 , 1275 , 1277 , 1280 , 1282 , 1285 , 1287 , 1290 , 1292 , 1295 , 1297 , 1300 , 1302 , 1305 , 1307 , 1310 , 1312 , 1315 , 1317 , 1320 , 1322 , 1325 , 1327 , 1330 , 1332 , 1335 , 1337 , 1340 , 1342 , 1345 , 1347 , 1350 , 1352 , 1355 , 1357 , 1360 , 1362 , 1365 , 1367 , 1370 , 1372 , 1375 , 1377 , 1380 , 1382 , 1385 , 1387 , 1390 , 1392 , 1395 , 1397 , 1400 , 1402 , 1405 , 1407 , 1410 , 1412 , 1415 , 1417 , 1420 , 1422 , 1425 , 1427 , 1430 , 1432 , 1435 , 1437 , 1440 , 1442 , 1445 , 1447 , 1450 , 1452 , 1455 , 1457 , 1460 , 1462 , 1465 , 1467 , 1470 , 1472 , 1475 , 1477 , 1480 , 1482 , 1485 , 1487 , 1490 , 1492 , 1495 , 1497 , 1500 , 1502 , 1505 , 1507 , 1510 , 1512 , 1515 , 1517 , 1520 , 1522 , 1525 , 1527 , 1530 , 1532 , 1535 , 1537 , 1540 , 1542 , 1545 , 1547 , 1550 , 1552 , 1555 , 1557 , 1560 , 1562 , 1565 , 1567 , 1570 , 1572 , 1575 , 1577 , 1580 , 1582 , 1585 , 1587 , 1590 , 1592 , 1595 , 1597 , 1600 , 1602 , 1605 , 1607 , 1610 , 1612 , 1615 , 1617 , 1620 , 1622 , 1625 , 1627 , 1630 , 1632 , 1635 , 1637 , 1640 , 1642 , 1645 , 1647 , 1650 , 1652 , 1655 , 1657 , 1660 , 1662 , 1665 , 1667 , 1670 , 1672 , 1675 , 1677 , 1680 , 1682 , 1685 , 1687 , 1690 , 1692 , 1695 , 1697 , 1700 , 1702 , 1705 , 1707 , 1710 , 1712 , 1715 , 1717 , 1720 , 1722 , 1725 , 1727 , 1730 , 1732 , 1735 , 1737 , 1740 , 1742 , 1745 , 1747 , 1750 , 1752 , 1755 , 1757 , 1760 , 1762 , 1765 , 1767 , 1770 , 1772 , 1775 , 1777 , 1780 , 1782 , 1785 , 1787 , 1790 , 1792 , 1795 , 1797 , 1800 , \n",
            "La suma de la serie es  648720\n"
          ],
          "name": "stdout"
        }
      ]
    },
    {
      "cell_type": "code",
      "metadata": {
        "colab": {
          "base_uri": "https://localhost:8080/"
        },
        "id": "OE0z-EAcrZae",
        "outputId": "9cd77326-f69b-4b52-f7b6-d0483e948627"
      },
      "source": [
        "s1 = float(input(\"Ingresa un sueldo: \"))\r\n",
        "s2 = float(input(\"Ingresa un sueldo: \"))\r\n",
        "s2 = float(input(\"Ingresa un sueldo: \"))\r\n",
        "#.\r\n",
        "#.\r\n",
        "#.\r\n",
        "s70 = float(input(\"Ingresa el 70 sueldo: \"))"
      ],
      "execution_count": 27,
      "outputs": [
        {
          "output_type": "stream",
          "text": [
            "Ingresa un sueldo: 5\n",
            "Ingresa un sueldo: 6\n",
            "Ingresa un sueldo: 7\n",
            "Ingresa el 70 sueldo: 8\n"
          ],
          "name": "stdout"
        }
      ]
    },
    {
      "cell_type": "code",
      "metadata": {
        "colab": {
          "base_uri": "https://localhost:8080/"
        },
        "id": "gZLNALAqrmlj",
        "outputId": "acafcbab-eb46-4132-d555-19929c94963f"
      },
      "source": [
        "#No puse los ejemplos anteriores porque se me hizo innecesario considerando que está lo mismo todo en éste\r\n",
        "#Ejemplo 4.1\r\n",
        "sueldos = [float(0) for x in range(7)]\r\n",
        "promedio = float(0)\r\n",
        "\r\n",
        "for i in range (0,7):\r\n",
        "  sueldos[i] = float(input(f\"Ingresa el {i+1} sueldo: \"))\r\n",
        "  promedio += sueldos[i]\r\n",
        "\r\n",
        "total = promedio\r\n",
        "promedio /= 7\r\n",
        "mas_promedio = int(0)\r\n",
        "\r\n",
        "for i in range (0,7):\r\n",
        "  if sueldos[i] >= promedio:\r\n",
        "    mas_promedio += 1\r\n",
        "\r\n",
        "print(f\"El total de la nomina es de: {total}\\nEl promedio de los sueldos es de: {promedio}\\nY la cantidad de sueldos que rebasan el promedio es de: {mas_promedio}\")\r\n"
      ],
      "execution_count": 33,
      "outputs": [
        {
          "output_type": "stream",
          "text": [
            "Ingresa el 1 sueldo: 666\n",
            "Ingresa el 2 sueldo: 777\n",
            "Ingresa el 3 sueldo: 888\n",
            "Ingresa el 4 sueldo: 999\n",
            "Ingresa el 5 sueldo: 1111\n",
            "Ingresa el 6 sueldo: 1222\n",
            "Ingresa el 7 sueldo: 1333\n",
            "El total de la nomina es de: 6996.0\n",
            "El promedio de los sueldos es de: 999.4285714285714\n",
            "Y la cantidad de sueldos que rebasan el promedio es de: 3\n"
          ],
          "name": "stdout"
        }
      ]
    }
  ]
}