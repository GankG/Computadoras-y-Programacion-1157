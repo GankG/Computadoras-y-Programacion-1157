{
  "nbformat": 4,
  "nbformat_minor": 0,
  "metadata": {
    "colab": {
      "name": "Tarea8.ipynb",
      "provenance": [],
      "authorship_tag": "ABX9TyNKL2RhhFYzj+DZevLHABrX",
      "include_colab_link": true
    },
    "kernelspec": {
      "name": "python3",
      "display_name": "Python 3"
    }
  },
  "cells": [
    {
      "cell_type": "markdown",
      "metadata": {
        "id": "view-in-github",
        "colab_type": "text"
      },
      "source": [
        "<a href=\"https://colab.research.google.com/github/GankG/Computadoras-y-Programacion-1157/blob/google-collab/Tarea8.ipynb\" target=\"_parent\"><img src=\"https://colab.research.google.com/assets/colab-badge.svg\" alt=\"Open In Colab\"/></a>"
      ]
    },
    {
      "cell_type": "code",
      "metadata": {
        "id": "DFzb3N861C8i",
        "colab": {
          "base_uri": "https://localhost:8080/"
        },
        "outputId": "1d94dbbb-62b6-48c1-ffa4-956877483b40"
      },
      "source": [
        "space = \" \"\r\n",
        "test =\"\"\r\n",
        "name = \"\\u233E\"\r\n",
        "for i in range(41):\r\n",
        "  if i % 2 == 0:\r\n",
        "    print(\"\\u2341\",end=\"\")\r\n",
        "  else:\r\n",
        "    print(\"\\u2342\",end=\"\")\r\n",
        "\r\n",
        "print(f\"\\n\\u2341{(7*space)+(6*name)+(8*space)+(name)+(5*space)+(name)+(8*space)+(name)+(6*space)+name+(8*space)+(name)+(7*space)}\",end=\"\\u2341\")\r\n",
        "print(f\"\\n\\u2342{(7*space)+(name)+(7*space)+(name)+(9*space)+(name)+(3*space)+(name)+(8*space)+(2*name)+(5*space)+(2*name)+(6*space)+(name)+(7*space)}\",end=\"\\u2342\")\r\n",
        "print(f\"\\n\\u2341{(7*space)+(name)+(7*space)+(name)+(10*space)+(name)+(space)+(name)+(8*space)+(name)+(2*space)+(name)+(4*space)+(name)+(space)+(name)+(5*space)+(name)+(7*space)}\",end=\"\\u2341\")\r\n",
        "print(f\"\\n\\u2342{(7*space)+(6*name)+(11*space)+(name)+(9*space)+(name)+(3*space)+(name)+(4*space)+(name)+(2*space)+(name)+(4*space)+(name)+(7*space)}\",end=\"\\u2342\")\r\n",
        "print(f\"\\n\\u2341{(7*space)+(name)+(4*space)+(name)+(14*space)+(name)+(8*space)+(5*name)+(3*space)+(name)+(3*space)+(name)+(3*space)+(name)+(7*space)}\",end=\"\\u2341\")\r\n",
        "print(f\"\\n\\u2342{(7*space)+(name)+(5*space)+(name)+(13*space)+(name)+(8*space)+(name)+(5*space)+(name)+(3*space)+(name)+(4*space)+(name)+(2*space)+(name)+(7*space)}\",end=\"\\u2342\")\r\n",
        "print(f\"\\n\\u2341{(7*space)+(name)+(6*space)+(name)+(12*space)+(name)+(8*space)+(name)+(5*space)+(name)+(3*space)+(name)+(5*space)+(name)+(space)+(name)+(7*space)}\",end=\"\\u2341\")\r\n",
        "print(f\"\\n\\u2342{(7*space)+(name)+(7*space)+(name)+(11*space)+(name)+(8*space)+(name)+(5*space)+(name)+(3*space)+(name)+(6*space)+(2*name)+(7*space)}\\u2342\",end=\"\\n\")\r\n",
        "for i in range(41):\r\n",
        "  if i % 2 == 0:\r\n",
        "    print(\"\\u2341\",end=\"\")\r\n",
        "  else:\r\n",
        "    print(\"\\u2342\",end=\"\")"
      ],
      "execution_count": 161,
      "outputs": [
        {
          "output_type": "stream",
          "text": [
            "⍁⍂⍁⍂⍁⍂⍁⍂⍁⍂⍁⍂⍁⍂⍁⍂⍁⍂⍁⍂⍁⍂⍁⍂⍁⍂⍁⍂⍁⍂⍁⍂⍁⍂⍁⍂⍁⍂⍁⍂⍁\n",
            "⍁       ⌾⌾⌾⌾⌾⌾        ⌾     ⌾        ⌾      ⌾        ⌾       ⍁\n",
            "⍂       ⌾       ⌾         ⌾   ⌾        ⌾⌾     ⌾⌾      ⌾       ⍂\n",
            "⍁       ⌾       ⌾          ⌾ ⌾        ⌾  ⌾    ⌾ ⌾     ⌾       ⍁\n",
            "⍂       ⌾⌾⌾⌾⌾⌾           ⌾         ⌾   ⌾    ⌾  ⌾    ⌾       ⍂\n",
            "⍁       ⌾    ⌾              ⌾        ⌾⌾⌾⌾⌾   ⌾   ⌾   ⌾       ⍁\n",
            "⍂       ⌾     ⌾             ⌾        ⌾     ⌾   ⌾    ⌾  ⌾       ⍂\n",
            "⍁       ⌾      ⌾            ⌾        ⌾     ⌾   ⌾     ⌾ ⌾       ⍁\n",
            "⍂       ⌾       ⌾           ⌾        ⌾     ⌾   ⌾      ⌾⌾       ⍂\n",
            "⍁⍂⍁⍂⍁⍂⍁⍂⍁⍂⍁⍂⍁⍂⍁⍂⍁⍂⍁⍂⍁⍂⍁⍂⍁⍂⍁⍂⍁⍂⍁⍂⍁⍂⍁⍂⍁⍂⍁⍂⍁"
          ],
          "name": "stdout"
        }
      ]
    }
  ]
}