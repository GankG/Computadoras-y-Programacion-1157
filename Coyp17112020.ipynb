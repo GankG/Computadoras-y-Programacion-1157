{
  "nbformat": 4,
  "nbformat_minor": 0,
  "metadata": {
    "colab": {
      "name": "Coyp17112020",
      "provenance": [],
      "authorship_tag": "ABX9TyOrOMm7CtZiTGCczv16vtzQ",
      "include_colab_link": true
    },
    "kernelspec": {
      "name": "python3",
      "display_name": "Python 3"
    }
  },
  "cells": [
    {
      "cell_type": "markdown",
      "metadata": {
        "id": "view-in-github",
        "colab_type": "text"
      },
      "source": [
        "<a href=\"https://colab.research.google.com/github/GankG/Computadoras-y-Programacion-1157/blob/google-collab/Coyp17112020.ipynb\" target=\"_parent\"><img src=\"https://colab.research.google.com/assets/colab-badge.svg\" alt=\"Open In Colab\"/></a>"
      ]
    },
    {
      "cell_type": "code",
      "metadata": {
        "id": "qJZbEmcW_PBl"
      },
      "source": [
        "#1\n",
        "edad = 15\n",
        "estatura = 1.67\n",
        "a = 10\n",
        "b = 3\n",
        "c = 2 ** b + 2 + 3 + 4\n",
        "print(c)\n",
        "\n",
        "e = estatura * 2.0\n",
        "print(e)\n",
        "\n",
        "f = a/b #py da el calculo exacto\n",
        "print(f) #\n",
        "\n",
        "#se puede forzar la division entero\n",
        "g = a//b\n",
        "print(\"g =\",g)\n",
        "\n",
        "h = a % b\n",
        "print(\"h = \",h)\n",
        "\n",
        "num = 11\n",
        "print(\"Es par num\", (num % 2) == 0)"
      ],
      "execution_count": null,
      "outputs": []
    },
    {
      "cell_type": "code",
      "metadata": {
        "id": "AQmPSQ49_WXS"
      },
      "source": [
        "#2\n",
        "ecuacion= 9 + 7 * 8 - 36/5 # 9 + 56 - 7.2 --> 65 - 7.2 = 57.8\n",
        "print(ecuacion)\n",
        "\n",
        "ecuacion= 0\n",
        "ecuacion = (9 + 7) * 8 - 36/5 # 128 - 7.2\n",
        "print(ecuacion)\n",
        "\n",
        "ecuacion= 0\n",
        "ecuacion= 9 + 7 * (8 - 36)/5 \n",
        "print(ecuacion)"
      ],
      "execution_count": null,
      "outputs": []
    },
    {
      "cell_type": "code",
      "metadata": {
        "id": "gQBSLCPR_Zcg"
      },
      "source": [
        "#operadores logicos --> True o False\n",
        "x= 5\n",
        "y= 4\n",
        "valor = (x == y) #Son iguales? --> False\n",
        "print(valor)\n",
        "\n",
        "valor = (x != y) #Son diferentes? --> True\n",
        "print(valor)\n",
        "\n",
        "valor= (x < y) #x es menor que y? --> False\n",
        "print(valor)\n",
        "\n",
        "valor= (x > y) #x es mayor que y? --> True\n",
        "print(valor)\n",
        "\n",
        "y= 5\n",
        "valor= (x <= y) #x es menor o igual que y? --> True\n",
        "print(valor)\n",
        "\n",
        "valor= (x >= y) #x es mayor o igual que y? --> True\n",
        "print(valor)"
      ],
      "execution_count": null,
      "outputs": []
    },
    {
      "cell_type": "code",
      "metadata": {
        "id": "iy7CNOz3_aHo"
      },
      "source": [
        "#cheetos\n",
        "costo_chetos= 7\n",
        "tienda_abierta= True\n",
        "capital_en_bolsa= 10\n",
        "\n",
        "se_compra= (costo_chetos < capital_en_bolsa) and (tienda_abierta == True)\n",
        "print(se_compra)\n",
        "True"
      ],
      "execution_count": null,
      "outputs": []
    }
  ]
}