{
  "nbformat": 4,
  "nbformat_minor": 0,
  "metadata": {
    "colab": {
      "name": "CoyP19112020.ipynb",
      "provenance": [],
      "authorship_tag": "ABX9TyOYV9MzH//nlt5z4BhvsBTo",
      "include_colab_link": true
    },
    "kernelspec": {
      "name": "python3",
      "display_name": "Python 3"
    }
  },
  "cells": [
    {
      "cell_type": "markdown",
      "metadata": {
        "id": "view-in-github",
        "colab_type": "text"
      },
      "source": [
        "<a href=\"https://colab.research.google.com/github/GankG/Computadoras-y-Programacion-1157/blob/google-collab/CoyP19112020.ipynb\" target=\"_parent\"><img src=\"https://colab.research.google.com/assets/colab-badge.svg\" alt=\"Open In Colab\"/></a>"
      ]
    },
    {
      "cell_type": "code",
      "metadata": {
        "colab": {
          "base_uri": "https://localhost:8080/"
        },
        "id": "7ZfsuUHRg560",
        "outputId": "9f3b3462-8126-4fb0-a174-d0d09937c368"
      },
      "source": [
        "#1\n",
        "# concepto de asignación\n",
        "\n",
        "i = 0\n",
        "i += 1\n",
        "print(f\"El valor de i es: {i+1}\")\n",
        "\n",
        "j = (5 ** 2) / 3\n",
        "print(f\"El valor de j es: {j}\")"
      ],
      "execution_count": null,
      "outputs": [
        {
          "output_type": "stream",
          "text": [
            "El valor de i es: 2\n",
            "El valor de j es: 8.333333333333334\n"
          ],
          "name": "stdout"
        }
      ]
    },
    {
      "cell_type": "code",
      "metadata": {
        "colab": {
          "base_uri": "https://localhost:8080/"
        },
        "id": "9tSWc_9Mmszw",
        "outputId": "6edd5527-681e-4322-c91d-8f30816c1a5f"
      },
      "source": [
        "#2\n",
        "#declaración de variables (con reservación de memoria)\n",
        "\n",
        "import array\n",
        "array.array('i')\n",
        "a = array.array('i',(0 for i in range(0, 4)))\n",
        "\n",
        "for i in range (0, 4):\n",
        " a[i] = int(input(\"Ingresa un valor entero: \"))\n",
        "for i in range (0, 4):\n",
        "  print(f\"El {4-i}° valor es: {a[3-i]}\")\n",
        "\n",
        "#a, b, c, d = 0, 0, 0, 0\n",
        "#a = int(input(\"Ingresa un numero entero: \"))\n",
        "#b = int(input(\"Ingresa un numero entero: \"))\n",
        "#c = int(input(\"Ingresa un numero entero: \"))\n",
        "#d = int(input(\"Ingresa un numero entero: \"))\n",
        "\n",
        "#print(d, c, b, a)\n",
        "\n"
      ],
      "execution_count": 27,
      "outputs": [
        {
          "output_type": "stream",
          "text": [
            "Ingresa un valor entero: 5\n",
            "Ingresa un valor entero: 4\n",
            "Ingresa un valor entero: 3\n",
            "Ingresa un valor entero: 2\n",
            "El 4° valor es: 2\n",
            "El 3° valor es: 3\n",
            "El 2° valor es: 4\n",
            "El 1° valor es: 5\n"
          ],
          "name": "stdout"
        }
      ]
    },
    {
      "cell_type": "code",
      "metadata": {
        "id": "eDGwN5W2soOM"
      },
      "source": [
        "#Ejemplo 1.7\n",
        "a, b, res = 0, 0, 0\n",
        "a = int(input(\"Dame un entero:\\n\"))\n",
        "b = int(input(\"Dame un entero:\\n\"))\n",
        "\n",
        "res=(a+b)**2 /3\n",
        "print(res)"
      ],
      "execution_count": null,
      "outputs": []
    },
    {
      "cell_type": "code",
      "metadata": {
        "id": "3TssAWLbuX8N"
      },
      "source": [
        "#ej 1.8\n",
        "import array\n",
        "\n",
        "def numCheck(msg):\n",
        "  while True:\n",
        "    try:\n",
        "        test = int(input(\"Ingresa tu matricula (UNICAMENTE numeros): \"))       \n",
        "    except ValueError:\n",
        "        print(\"Lo que usted ingreso no es un numero.\")\n",
        "        continue\n",
        "    else:\n",
        "        return test \n",
        "        break \n",
        "\n",
        "array.array('f')\n",
        "a = array.array('f',(0 for i in range(0, 5)))\n",
        "prom = float(0)\n",
        "mat = int(0)\n",
        "\n",
        "mat = numCheck(\"Ingresa tu matricula: \")\n",
        "for i in range (0, 5):\n",
        "  a[i] = float(input(f\"Ingresa tu {i+1}° calificacion: \"))  \n",
        "  prom += a[i]\n",
        "prom /= 5\n",
        "\n",
        "print(f\"El promedio de la matricula {mat} es de: {prom}\")"
      ],
      "execution_count": null,
      "outputs": []
    },
    {
      "cell_type": "code",
      "metadata": {
        "id": "CYUuDHItyD4f"
      },
      "source": [
        "#ej 1.9\n",
        "\n",
        "num = 0\n",
        "\n",
        "num = int(input(\"Ingresa un numero entero: \"))\n",
        "print(f\"El cuadrado es: {(num*num)}. \\n Y el cubo es: {num*num*num}.\")"
      ],
      "execution_count": null,
      "outputs": []
    },
    {
      "cell_type": "code",
      "metadata": {
        "colab": {
          "base_uri": "https://localhost:8080/"
        },
        "id": "Uhd651Fc0fcK",
        "outputId": "a1a27a98-5c87-4163-b3e4-089f798ffd91"
      },
      "source": [
        "#ej 1.10\n",
        "\n",
        "h, b = 0, 0\n",
        "\n",
        "h = int(input(\"Ingresa la altura: \"))\n",
        "b = int(input(\"Ingresa la base: \"))\n",
        "\n",
        "print(f\"El area del rectangulo es: {b*h}\")\n",
        "print(f\"El perimetro del rectangulo es: {(b*2)+(h*2)}\")\n"
      ],
      "execution_count": 59,
      "outputs": [
        {
          "output_type": "stream",
          "text": [
            "Ingresa la altura: 5\n",
            "Ingresa la base: 4\n",
            "El area del rectangulo es: 20\n",
            "El perimetro del rectangulo es: 18\n"
          ],
          "name": "stdout"
        }
      ]
    }
  ]
}