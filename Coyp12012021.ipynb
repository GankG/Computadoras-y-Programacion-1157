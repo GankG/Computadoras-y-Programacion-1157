{
  "nbformat": 4,
  "nbformat_minor": 0,
  "metadata": {
    "colab": {
      "name": "Coyp12012021.ipynb",
      "provenance": [],
      "authorship_tag": "ABX9TyO3tu+op7PCx9XQnAGX/myB",
      "include_colab_link": true
    },
    "kernelspec": {
      "name": "python3",
      "display_name": "Python 3"
    }
  },
  "cells": [
    {
      "cell_type": "markdown",
      "metadata": {
        "id": "view-in-github",
        "colab_type": "text"
      },
      "source": [
        "<a href=\"https://colab.research.google.com/github/GankG/Computadoras-y-Programacion-1157/blob/google-collab/Coyp12012021.ipynb\" target=\"_parent\"><img src=\"https://colab.research.google.com/assets/colab-badge.svg\" alt=\"Open In Colab\"/></a>"
      ]
    },
    {
      "cell_type": "markdown",
      "metadata": {
        "id": "OoWdl7Rl7xws"
      },
      "source": [
        "# Introduccion\r\n",
        "\r\n",
        "\r\n",
        "\r\n",
        "\r\n",
        "*   Creado en los 90´s por Guido Van R.\r\n",
        "*   En el 2000 python mejora y tiene nuevas caracteristicas.\r\n",
        "*   En 2020 deja de ser la version oficial 2.7 y solo se le dara soporte a partir de la version 3 en adelante.\r\n",
        "\r\n",
        "\r\n",
        "\r\n",
        "\r\n",
        "\r\n",
        "\r\n",
        "# Caracteristicas de Python\r\n",
        ".\r\n",
        "\r\n",
        "1.   Lenguaje de proposito General.\r\n",
        "2.   Interpretado y no-Compilado.\r\n",
        "3.   Tipos de datos dinámicos (Cadena, Númericos, Booleanos, entre otros).\r\n",
        "4.   Multiplataforma.\r\n",
        "5.   Lenguaje de Multi-Paradigma(Imperativa, POO, y Funcional).\r\n",
        "6.   Código Estructurado por identación"
      ]
    },
    {
      "cell_type": "code",
      "metadata": {
        "id": "AuOMRGkR8rF3"
      },
      "source": [
        "if a > 10:\r\n",
        "    print(\"Hola\")\r\n",
        "print (\"hola dos\")"
      ],
      "execution_count": null,
      "outputs": []
    },
    {
      "cell_type": "markdown",
      "metadata": {
        "id": "EjUymITJ8r62"
      },
      "source": [
        "## Principios Zen de Python\r\n",
        "Son las características que guían el diseño del lenguaje de programación Python."
      ]
    },
    {
      "cell_type": "code",
      "metadata": {
        "id": "VrrFIYro85Mt"
      },
      "source": [
        "# Primer programa en Python 3\r\n",
        "\r\n",
        "nombre = \"Jose\"\r\n",
        "edad = 18\r\n",
        "print(\"hola\", nombre, edad)"
      ],
      "execution_count": null,
      "outputs": []
    },
    {
      "cell_type": "markdown",
      "metadata": {
        "id": "vzDtrnOO858d"
      },
      "source": [
        "# La funcion print()\r\n",
        "Es una de las funciones más empleadas en la programación y busca enviar datos a la salida estándar de usuario (monitor).\r\n",
        "\r\n",
        "## Formas de uso\r\n",
        "1. Con Comas.\r\n",
        "2. Con signos +.\r\n",
        "3. Con .format().\r\n",
        "4. El operador f\".\r\n",
        "\r\n",
        "### Con comas\r\n",
        "Concantena los argumentos enviados a print y les agrega un espacio.\r\n",
        "\r\n",
        "### Con signo +\r\n",
        "Concantena los valores ain espacio y sin hacer conversion de tipos.\r\n",
        "\r\n",
        "### Con la funcion format()\r\n",
        "Permite darle formato a la salida de la impresion de variables. Emplea la funcion format del tipo de dato String .\r\n",
        "\r\n",
        "\r\n",
        "```\r\n",
        "Cadena {} a {} form{}tear\".format(v1,v2,vn)\r\n",
        "```\r\n",
        "### Con el operador f\"\"\r\n",
        "Es una variante de la forma amterior pero enmascarando la funcion format().\r\n",
        "\r\n",
        "```\r\n",
        "print(f\" adadas {var} adadas {var2} adadas {varn}\")\r\n",
        "```\r\n",
        "\r\n",
        "\r\n"
      ]
    },
    {
      "cell_type": "code",
      "metadata": {
        "colab": {
          "base_uri": "https://localhost:8080/"
        },
        "id": "nlos4CFW-nqO",
        "outputId": "2f6d9554-35be-4d85-f50c-9e5566f42cd8"
      },
      "source": [
        "nombre = \"Ryan\"\r\n",
        "edad = 22\r\n",
        "\r\n",
        "print(\"Hola\", nombre, edad)\r\n",
        "print(\"Hola \"+ nombre + \" \"+ str(edad) )\r\n",
        "\r\n",
        "#Nombre: Jose con una edad de: 18 años\r\n",
        "print(\"Nombre:\", nombre,\"Con una edad de:\", edad)\r\n",
        "print(\"Nombre:\"+ \" \" + nombre + \" \" + \"Con una edad de:\" + str(edad))\r\n",
        "\r\n",
        "#Con format()\r\n",
        "print(\"Nombre: {}, con una edad de: {} años.\".format(nombre,edad))\r\n",
        "\r\n",
        "#Con el operador f\"\"\r\n",
        "print(f\"Nombre: {nombre} con una edad de {edad} años.\")"
      ],
      "execution_count": null,
      "outputs": [
        {
          "output_type": "stream",
          "text": [
            "Hola Ryan 22\n",
            "Hola Ryan 22\n",
            "Nombre: Ryan Con una edad de: 22\n",
            "Nombre: Ryan Con una edad de:22\n",
            "Nombre: Ryan, con una edad de: 22 años.\n",
            "Nombre: Ryan con una edad de 22 años.\n"
          ],
          "name": "stdout"
        }
      ]
    },
    {
      "cell_type": "markdown",
      "metadata": {
        "id": "yu0QsfQQ-6nj"
      },
      "source": [
        "#Funcion print() y sus caracteres de escape\r\n",
        "\r\n",
        "\r\n",
        "*   \\n Salto de línea.\r\n",
        "*   \\t Tabulación.\r\n",
        "*   \\ imprimir el carácter de diagonal invertida.\r\n",
        "*   'y\"\r\n",
        "*   \\uxxxx \\uxxxxxx\r\n"
      ]
    },
    {
      "cell_type": "code",
      "metadata": {
        "colab": {
          "base_uri": "https://localhost:8080/"
        },
        "id": "EDOlMLtB_R0x",
        "outputId": "d6f18a7f-8de3-4220-832d-5eab02ec4fca"
      },
      "source": [
        "print(' \"')\r\n",
        "print(\"\\\"\")\r\n",
        "print(\"Nombre: Ryan\\n\\tcon una edad \\\\de: 22 años\")\r\n",
        "#Caracteresd Unicode\r\n",
        "\r\n",
        "print(\"Hola \\u2661\")\r\n",
        "print(\"Hola \\u2618\")"
      ],
      "execution_count": null,
      "outputs": [
        {
          "output_type": "stream",
          "text": [
            " \"\n",
            "\"\n",
            "Nombre: Ryan\n",
            "\tcon una edad \\de: 22 años\n",
            "Hola ♡\n",
            "Hola ☘\n"
          ],
          "name": "stdout"
        }
      ]
    },
    {
      "cell_type": "markdown",
      "metadata": {
        "id": "LHzvqGBa_XUS"
      },
      "source": [
        "#Print y salto de linea en el argumento\r\n",
        "```\r\n",
        "print([lista de variables],end=\"\\n\")\r\n",
        "```"
      ]
    },
    {
      "cell_type": "code",
      "metadata": {
        "id": "pgEyns1Z_gVB",
        "colab": {
          "base_uri": "https://localhost:8080/"
        },
        "outputId": "ae043f69-4f80-4c5d-c4a4-801a59bba14e"
      },
      "source": [
        "print(\"Hola \" ,  end=\"\\u13CD\")\r\n",
        "print(\"Mundo  \" , end=\"++++\")\r\n",
        "print(\"Fin\" , end=\"\\n\")"
      ],
      "execution_count": 7,
      "outputs": [
        {
          "output_type": "stream",
          "text": [
            "Hola ᏍMundo  ++++Fin\n"
          ],
          "name": "stdout"
        }
      ]
    },
    {
      "cell_type": "markdown",
      "metadata": {
        "id": "U29umfb8_-2q"
      },
      "source": [
        "#Comentarios en Python.\r\n",
        "Un comentario en programación, es un texto especial que es ignorado por el interprete o compilador (Según dea el caso) y es empleado para que el programador documente sus algoritmos.\r\n",
        "\r\n",
        "Existen de dos tipos: De línea simple y múltiple línea.\r\n",
        "\r\n",
        "###En Python.\r\n",
        "\r\n",
        "* Línea simple emplea #\r\n",
        "* Línea múltiple\r\n",
        "\r\n",
        "\r\n",
        "```\r\n",
        "\"\"\"\r\n",
        "Esto\r\n",
        "es un comentario de \r\n",
        "linea\r\n",
        "multiple.\r\n",
        "\"\"\"\r\n",
        "```\r\n",
        "\r\n",
        "\r\n"
      ]
    },
    {
      "cell_type": "code",
      "metadata": {
        "colab": {
          "base_uri": "https://localhost:8080/"
        },
        "id": "r3FeosRFArFG",
        "outputId": "397f13ce-904e-450f-81c1-4b556fbfbe71"
      },
      "source": [
        "print(\"Hola\")\r\n",
        "# print (\"Hola\")\r\n",
        "# cualquier cosa \r\n",
        "print(\"Hola\")\r\n",
        "print(\"Hola\") # esta liínea imprime hola\r\n",
        "print(\"Hola\")\r\n",
        "print(\"Hola\")\r\n",
        "\"\"\"\r\n",
        "esto es\r\n",
        "un comentario de múltiple lunea. Ideal\r\n",
        "para cuando se desea explicar algo a fondo que requiera mayor detales.\r\n",
        "\r\n",
        "\"\"\"\r\n",
        "\r\n",
        "print(\"Hola\")\r\n",
        "print(\"Hola\")\r\n",
        "print(\"Hola\")\r\n",
        "print(\"Hola\")"
      ],
      "execution_count": 8,
      "outputs": [
        {
          "output_type": "stream",
          "text": [
            "Hola\n",
            "Hola\n",
            "Hola\n",
            "Hola\n",
            "Hola\n",
            "Hola\n",
            "Hola\n",
            "Hola\n",
            "Hola\n"
          ],
          "name": "stdout"
        }
      ]
    }
  ]
}