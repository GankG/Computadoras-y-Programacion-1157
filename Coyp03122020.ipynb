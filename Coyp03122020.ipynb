{
  "nbformat": 4,
  "nbformat_minor": 0,
  "metadata": {
    "colab": {
      "name": "Coyp03122020.ipynb",
      "provenance": [],
      "authorship_tag": "ABX9TyNVoyAMRkDZB4txfV4ZyS6p",
      "include_colab_link": true
    },
    "kernelspec": {
      "name": "python3",
      "display_name": "Python 3"
    }
  },
  "cells": [
    {
      "cell_type": "markdown",
      "metadata": {
        "id": "view-in-github",
        "colab_type": "text"
      },
      "source": [
        "<a href=\"https://colab.research.google.com/github/GankG/Computadoras-y-Programacion-1157/blob/google-collab/Coyp03122020.ipynb\" target=\"_parent\"><img src=\"https://colab.research.google.com/assets/colab-badge.svg\" alt=\"Open In Colab\"/></a>"
      ]
    },
    {
      "cell_type": "code",
      "metadata": {
        "colab": {
          "base_uri": "https://localhost:8080/"
        },
        "id": "1V3FDrSrEcCK",
        "outputId": "20f6edd5-b2ec-40be-c1d1-d8c2eda416a4"
      },
      "source": [
        "#Ejemplo 1\n",
        "\n",
        "for i in[1,2,3,4,5]:\n",
        "  print(f\"El elemento {i}\")"
      ],
      "execution_count": 1,
      "outputs": [
        {
          "output_type": "stream",
          "text": [
            "El elemento 1\n",
            "El elemento 2\n",
            "El elemento 3\n",
            "El elemento 4\n",
            "El elemento 5\n"
          ],
          "name": "stdout"
        }
      ]
    },
    {
      "cell_type": "code",
      "metadata": {
        "colab": {
          "base_uri": "https://localhost:8080/"
        },
        "id": "LqR_YoubEhxP",
        "outputId": "83593f12-5a43-491a-c464-f155ad347ccc"
      },
      "source": [
        "coleccion=[1,2,3,4,5]\n",
        "for i in coleccion:\n",
        "  print(f\"El elemento: {i}\")"
      ],
      "execution_count": 2,
      "outputs": [
        {
          "output_type": "stream",
          "text": [
            "El elemento: 1\n",
            "El elemento: 2\n",
            "El elemento: 3\n",
            "El elemento: 4\n",
            "El elemento: 5\n"
          ],
          "name": "stdout"
        }
      ]
    },
    {
      "cell_type": "code",
      "metadata": {
        "colab": {
          "base_uri": "https://localhost:8080/"
        },
        "id": "Vf6xKKGhEjPm",
        "outputId": "afbc3035-89a0-4c34-adb8-dcb2038933b9"
      },
      "source": [
        "#Ejemplo 2\n",
        "\n",
        "coleccion={\"Mario\":20, \"Mariana\":19, \"Yessica\":14, \"Luis\":18}\n",
        "\n",
        "for i in coleccion:\n",
        "  print(f\"Elemento{i}\")"
      ],
      "execution_count": 3,
      "outputs": [
        {
          "output_type": "stream",
          "text": [
            "ElementoMario\n",
            "ElementoMariana\n",
            "ElementoYessica\n",
            "ElementoLuis\n"
          ],
          "name": "stdout"
        }
      ]
    },
    {
      "cell_type": "code",
      "metadata": {
        "colab": {
          "base_uri": "https://localhost:8080/"
        },
        "id": "bWcGNK6aFEh9",
        "outputId": "211e10ba-8e70-4105-90cd-f6bbbc3d01b9"
      },
      "source": [
        "coleccion={\"Mario\":20, \"Mariana\":19, \"Yessica\":14, \"Luis\":18}\n",
        "\n",
        "for i in coleccion:\n",
        "  print(f\"{coleccion [i]}\")"
      ],
      "execution_count": 4,
      "outputs": [
        {
          "output_type": "stream",
          "text": [
            "20\n",
            "19\n",
            "14\n",
            "18\n"
          ],
          "name": "stdout"
        }
      ]
    },
    {
      "cell_type": "code",
      "metadata": {
        "colab": {
          "base_uri": "https://localhost:8080/"
        },
        "id": "k48p60yMFGfk",
        "outputId": "03bf8ab4-bfea-4bcf-abba-fc7a2bbc8cbe"
      },
      "source": [
        "coleccion={\"Mario\":20, \"Mariana\":19, \"Yessica\":14, \"Luis\":18}\n",
        "\n",
        "for i in coleccion:\n",
        "  print(f\"{i}->{coleccion[i]}\")"
      ],
      "execution_count": 5,
      "outputs": [
        {
          "output_type": "stream",
          "text": [
            "Mario->20\n",
            "Mariana->19\n",
            "Yessica->14\n",
            "Luis->18\n"
          ],
          "name": "stdout"
        }
      ]
    },
    {
      "cell_type": "code",
      "metadata": {
        "colab": {
          "base_uri": "https://localhost:8080/"
        },
        "id": "i5jKzH8NFJo7",
        "outputId": "359189b3-9dec-47aa-9ab8-64976ad0f495"
      },
      "source": [
        "coleccion={\"Mario\":20, \"Mariana\":19, \"Yessica\":14, \"Luis\":18}\n",
        "\n",
        "for clave, valor in coleccion.items():\n",
        "  print(f\"{clave}->{valor}\")"
      ],
      "execution_count": 6,
      "outputs": [
        {
          "output_type": "stream",
          "text": [
            "Mario->20\n",
            "Mariana->19\n",
            "Yessica->14\n",
            "Luis->18\n"
          ],
          "name": "stdout"
        }
      ]
    },
    {
      "cell_type": "code",
      "metadata": {
        "colab": {
          "base_uri": "https://localhost:8080/"
        },
        "id": "zqMsOEEqFLMD",
        "outputId": "accd35fe-547b-4ac7-8b13-d94816e13a93"
      },
      "source": [
        "\n",
        "#Ejemplo 3\n",
        "\n",
        "email=False\n",
        "for i in\"Ariel@unam.com\":\n",
        "  if(i==\"@\"):\n",
        "    email=True\n",
        "if email== True:\n",
        "     print(\"el email es correcto\")\n",
        "\n",
        "else:\n",
        "     print(\"el email es falso\")"
      ],
      "execution_count": 7,
      "outputs": [
        {
          "output_type": "stream",
          "text": [
            "el email es correcto\n"
          ],
          "name": "stdout"
        }
      ]
    },
    {
      "cell_type": "code",
      "metadata": {
        "colab": {
          "base_uri": "https://localhost:8080/"
        },
        "id": "B7Y0_yZ5FNp8",
        "outputId": "08e086f9-ff44-4e35-ea74-084a6b95ddae"
      },
      "source": [
        "\n",
        "email=False\n",
        "miemail=input(\"Dame tu correo:\")\n",
        "for i in miemail:\n",
        "\n",
        "  if(i==\"@\"):\n",
        "    email=True\n",
        "    \n",
        "if email== True:\n",
        "     print(\"el email es correcto\")\n",
        "\n",
        "else:\n",
        "     print(\"el email es falso\")"
      ],
      "execution_count": 8,
      "outputs": [
        {
          "output_type": "stream",
          "text": [
            "Dame tu correo:@\n",
            "el email es correcto\n"
          ],
          "name": "stdout"
        }
      ]
    },
    {
      "cell_type": "code",
      "metadata": {
        "colab": {
          "base_uri": "https://localhost:8080/"
        },
        "id": "7ylKihBqFT0j",
        "outputId": "b78f68c0-f55d-4e86-9104-21837b47eeb1"
      },
      "source": [
        "#for- range\n",
        "\n",
        "for i in range (5):\n",
        "  print(\"wenas\")"
      ],
      "execution_count": 9,
      "outputs": [
        {
          "output_type": "stream",
          "text": [
            "wenas\n",
            "wenas\n",
            "wenas\n",
            "wenas\n",
            "wenas\n"
          ],
          "name": "stdout"
        }
      ]
    },
    {
      "cell_type": "code",
      "metadata": {
        "colab": {
          "base_uri": "https://localhost:8080/"
        },
        "id": "9dFbT0SHFXa5",
        "outputId": "77b8683c-71d6-4348-91d2-89c7e173755f"
      },
      "source": [
        "for i in range (5):\n",
        "  print(i)"
      ],
      "execution_count": 10,
      "outputs": [
        {
          "output_type": "stream",
          "text": [
            "0\n",
            "1\n",
            "2\n",
            "3\n",
            "4\n"
          ],
          "name": "stdout"
        }
      ]
    },
    {
      "cell_type": "code",
      "metadata": {
        "colab": {
          "base_uri": "https://localhost:8080/"
        },
        "id": "7GH9SPmcFaIy",
        "outputId": "25cd809e-030c-48a1-bb94-8630a6cf91ad"
      },
      "source": [
        "for i in range (10):\n",
        "  print(f\"valor de la variable {i}\")"
      ],
      "execution_count": 11,
      "outputs": [
        {
          "output_type": "stream",
          "text": [
            "valor de la variable 0\n",
            "valor de la variable 1\n",
            "valor de la variable 2\n",
            "valor de la variable 3\n",
            "valor de la variable 4\n",
            "valor de la variable 5\n",
            "valor de la variable 6\n",
            "valor de la variable 7\n",
            "valor de la variable 8\n",
            "valor de la variable 9\n"
          ],
          "name": "stdout"
        }
      ]
    },
    {
      "cell_type": "code",
      "metadata": {
        "colab": {
          "base_uri": "https://localhost:8080/"
        },
        "id": "dNem4OTYFcjC",
        "outputId": "838e7970-c68f-40db-ce77-07f81e9dd6e2"
      },
      "source": [
        "for i in range (20):\n",
        "  print(f\"valor de la variable {i}\")"
      ],
      "execution_count": 12,
      "outputs": [
        {
          "output_type": "stream",
          "text": [
            "valor de la variable 0\n",
            "valor de la variable 1\n",
            "valor de la variable 2\n",
            "valor de la variable 3\n",
            "valor de la variable 4\n",
            "valor de la variable 5\n",
            "valor de la variable 6\n",
            "valor de la variable 7\n",
            "valor de la variable 8\n",
            "valor de la variable 9\n",
            "valor de la variable 10\n",
            "valor de la variable 11\n",
            "valor de la variable 12\n",
            "valor de la variable 13\n",
            "valor de la variable 14\n",
            "valor de la variable 15\n",
            "valor de la variable 16\n",
            "valor de la variable 17\n",
            "valor de la variable 18\n",
            "valor de la variable 19\n"
          ],
          "name": "stdout"
        }
      ]
    },
    {
      "cell_type": "code",
      "metadata": {
        "colab": {
          "base_uri": "https://localhost:8080/"
        },
        "id": "cCpJWRZoFegZ",
        "outputId": "9c9c0a22-2cb7-42d9-9207-8faea4dff7d7"
      },
      "source": [
        "#While\n",
        "edad=int(input(\"Intoduce tu edad:\"))\n",
        "while edad <0:\n",
        "  print(\"has intriducido una edad negativa.Intentalo de nuevo\")\n",
        "  edad=int(input(\"Introduce tu edad:\"))\n",
        "print(\"Gracias por participar, puedes pasar\")\n",
        "print(\"Edad del concursante \"+str(edad))"
      ],
      "execution_count": 13,
      "outputs": [
        {
          "output_type": "stream",
          "text": [
            "Intoduce tu edad:22\n",
            "Gracias por participar, puedes pasar\n",
            "Edad del concursante 22\n"
          ],
          "name": "stdout"
        }
      ]
    }
  ]
}