{
  "nbformat": 4,
  "nbformat_minor": 0,
  "metadata": {
    "colab": {
      "name": "Coyp14012021.ipynb",
      "provenance": [],
      "authorship_tag": "ABX9TyPpLTcsrBuZiMhO7jLYlTiP",
      "include_colab_link": true
    },
    "kernelspec": {
      "name": "python3",
      "display_name": "Python 3"
    }
  },
  "cells": [
    {
      "cell_type": "markdown",
      "metadata": {
        "id": "view-in-github",
        "colab_type": "text"
      },
      "source": [
        "<a href=\"https://colab.research.google.com/github/GankG/Computadoras-y-Programacion-1157/blob/google-collab/Coyp14012021.ipynb\" target=\"_parent\"><img src=\"https://colab.research.google.com/assets/colab-badge.svg\" alt=\"Open In Colab\"/></a>"
      ]
    },
    {
      "cell_type": "markdown",
      "metadata": {
        "id": "2AATOFtiO1Ui"
      },
      "source": [
        "# Palabras Reservadas Python 3"
      ]
    },
    {
      "cell_type": "code",
      "metadata": {
        "colab": {
          "base_uri": "https://localhost:8080/"
        },
        "id": "wFjY7FeDO6FA",
        "outputId": "80c86ff5-5805-4aac-bc13-1e30ff821e81"
      },
      "source": [
        "import keyword\r\n",
        "pr = keyword.kwlist\r\n",
        "print( len(pr))\r\n",
        "for palabra in pr :\r\n",
        "  print(palabra , end=\",\")"
      ],
      "execution_count": null,
      "outputs": [
        {
          "output_type": "stream",
          "text": [
            "33\n",
            "False,None,True,and,as,assert,break,class,continue,def,del,elif,else,except,finally,for,from,global,if,import,in,is,lambda,nonlocal,not,or,pass,raise,return,try,while,with,yield,"
          ],
          "name": "stdout"
        }
      ]
    },
    {
      "cell_type": "code",
      "metadata": {
        "colab": {
          "base_uri": "https://localhost:8080/"
        },
        "id": "4fwnKzN3O_zI",
        "outputId": "bbc8f718-47db-4d77-ccc6-404266fbbb50"
      },
      "source": [
        "import keyword\r\n",
        "pr = keyword.kwlist\r\n",
        "print( len(pr))\r\n",
        "for palabra in pr :\r\n",
        "  print(\"1.\", palabra , end=\",\")"
      ],
      "execution_count": null,
      "outputs": [
        {
          "output_type": "stream",
          "text": [
            "33\n",
            "1. False,1. None,1. True,1. and,1. as,1. assert,1. break,1. class,1. continue,1. def,1. del,1. elif,1. else,1. except,1. finally,1. for,1. from,1. global,1. if,1. import,1. in,1. is,1. lambda,1. nonlocal,1. not,1. or,1. pass,1. raise,1. return,1. try,1. while,1. with,1. yield,"
          ],
          "name": "stdout"
        }
      ]
    },
    {
      "cell_type": "markdown",
      "metadata": {
        "id": "Ewt9ngHVPDVQ"
      },
      "source": [
        "## Variable\r\n",
        "Es un espacio de memoria de la computadora para almacenar valores que cambian a lo largo de la ejecucion del programa. Este espacio de memoria esta referenciado por un identidicardor, el cual tienen ciertas reglas de nombrado\r\n",
        "\r\n",
        "* No puede iniciar con numero\r\n",
        "* No debe ser igual a alguna de las palabras reservadas\r\n",
        "* Evitar nombres de variables largos\r\n",
        "* Evitar muy cortos, por ejemplo : x, y, i\r\n",
        "* Usar notacion snake_case"
      ]
    },
    {
      "cell_type": "code",
      "metadata": {
        "colab": {
          "base_uri": "https://localhost:8080/"
        },
        "id": "m2sqlfBTPW3G",
        "outputId": "3a4e78be-9a57-445b-9516-b37f865c247f"
      },
      "source": [
        "_2edad = 12\r\n",
        "print(_2edad)\r\n",
        "\r\n",
        "\"\"\"\r\n",
        "No se puede usar una palabra reservada como identificador de variable\r\n",
        "for = 12\r\n",
        "print(for)\r\n",
        "\r\n",
        "\"\"\"\r\n",
        "_2edad"
      ],
      "execution_count": null,
      "outputs": [
        {
          "output_type": "stream",
          "text": [
            "12\n"
          ],
          "name": "stdout"
        },
        {
          "output_type": "execute_result",
          "data": {
            "text/plain": [
              "12"
            ]
          },
          "metadata": {
            "tags": []
          },
          "execution_count": 3
        }
      ]
    },
    {
      "cell_type": "code",
      "metadata": {
        "id": "3UezcCPOPejY"
      },
      "source": [
        "\"\"\"\r\n",
        "\r\n",
        "La notacion snake case consta de formar el identificador de variable\r\n",
        "separando las palabras del mismo con un guion bajo.\r\n",
        "\r\n",
        "Se recomienda que los identificadores se escriban en minusculas para las variables\r\n",
        "y en mayusculas para las constantes.\r\n",
        "\r\n",
        "es decir si tenemos una variable para los dias de la semana se escribiria, asi\r\n",
        "\r\n",
        "dias_de_la_semana = 7\r\n",
        "dias_mes = 31\r\n",
        "limite_maximo = 100\r\n",
        "\r\n",
        "\"\"\""
      ],
      "execution_count": null,
      "outputs": []
    },
    {
      "cell_type": "markdown",
      "metadata": {
        "id": "8QY8vuHRPgl2"
      },
      "source": [
        "#Tipos de datos\r\n",
        "* Númericos\r\n",
        " * int 4 bytes ( 1, 2, 23454, etc. )\r\n",
        " * float\r\n",
        " * long\r\n",
        " * complex 3 +2j (Raices negativas )\r\n",
        "* Boolean: True o False\r\n",
        "* String cadenas de caracteres (\"cad\" , 'cad' o \"\"\"cad\"\"\")\r\n",
        "* listas ( [1,2,3,4] , [a,b,1,2.3])\r\n",
        "* tuplas ( (edad,23),(3,4))\r\n",
        "* Conjuntos\r\n",
        "* Diccionarios ({\"nombre\":\"Ryan\"})"
      ]
    },
    {
      "cell_type": "markdown",
      "metadata": {
        "id": "lMEcHKFFP1PQ"
      },
      "source": [
        "#Tipo de dato String\r\n",
        "Este tipo de dato permite almacenar cadenas de caracteres, como por ejemplo: ''' nombre = 'Jesus' lugar_nacimiento = \"Mexico D.F., Tacuba\" frase_favorita = \"\"\" El conocimiento me persigue, pero... yo soy mas rapido!!! :) \"\"\"\" '''"
      ]
    },
    {
      "cell_type": "code",
      "metadata": {
        "colab": {
          "base_uri": "https://localhost:8080/"
        },
        "id": "y96wP_CaQFjb",
        "outputId": "1b7b7a63-5ed1-4e6a-d1d3-6aa89b21a651"
      },
      "source": [
        "nombre = 'Ryan'\r\n",
        "lugar_nacimiento = \"Mexico, Ciudad de México\"\r\n",
        "frase_favorita = \"Ignorance is power for those who know a little bit more.\"\r\n",
        "\r\n",
        "print(nombre)\r\n",
        "print(lugar_nacimiento)\r\n",
        "print(frase_favorita)"
      ],
      "execution_count": null,
      "outputs": [
        {
          "output_type": "stream",
          "text": [
            "Ryan\n",
            "Mexico, Ciudad de México\n",
            "Ignorance is power for those who know a little bit more.\n"
          ],
          "name": "stdout"
        }
      ]
    },
    {
      "cell_type": "markdown",
      "metadata": {
        "id": "RxNh6TswQfSp"
      },
      "source": [
        "#Strings como arreglo\r\n",
        "Un string en Python es almacenado como el tipo de dato (estructura de datos) arreglo.\r\n",
        "\r\n",
        "Por ejemplo la declaracion\r\n",
        "\r\n",
        "\r\n",
        "```\r\n",
        "nombre = ryan\r\n",
        "```\r\n",
        "El elemento 'J' es almacenado en la posicion 0. La 'e' en la 1 y asi sucesivamente.\r\n",
        "\r\n",
        "##Selector\r\n",
        "la notacion para seleccionar un elemto del arreglo es:\r\n",
        "\r\n",
        "```\r\n",
        "[1]\r\n",
        "```\r\n",
        "Donde el valor interno debe ser un valor numerico entero:\r\n",
        "\r\n"
      ]
    },
    {
      "cell_type": "code",
      "metadata": {
        "colab": {
          "base_uri": "https://localhost:8080/"
        },
        "id": "dhbi2qhAQw8k",
        "outputId": "5bb7d191-ca6b-4e0d-c28c-d8e8450fb78c"
      },
      "source": [
        "nombre = 'Ryan'\r\n",
        "print(nombre)\r\n",
        "print( nombre[0])\r\n",
        "print( nombre[3])\r\n"
      ],
      "execution_count": null,
      "outputs": [
        {
          "output_type": "stream",
          "text": [
            "Ryan\n",
            "R\n",
            "n\n"
          ],
          "name": "stdout"
        }
      ]
    },
    {
      "cell_type": "markdown",
      "metadata": {
        "id": "ndxLRCKAQ1V4"
      },
      "source": [
        "#Iterar sobre un String\r\n",
        "Se puede iterar sobre un String con un for de la forma:\r\n",
        "\r\n",
        "\r\n",
        "```\r\n",
        "for letra in range) len(nombre) ):\r\n",
        "  print( letra )\r\n",
        "```\r\n",
        "\r\n"
      ]
    },
    {
      "cell_type": "code",
      "metadata": {
        "id": "ocJTEGN7Q7gu"
      },
      "source": [
        "for indice in range( len(nombre) ): #0, 1, 2, 3, 4\r\n",
        "  print( indice, end = \" \" )\r\n",
        "  print(nombre [indice] )"
      ],
      "execution_count": null,
      "outputs": []
    },
    {
      "cell_type": "markdown",
      "metadata": {
        "id": "kfI5Bd_gQ9lA"
      },
      "source": [
        "#Funcion range(inicio, stop,incremento) \r\n",
        "El inicio es opcional y por defecto tiene el valor 0\r\n",
        "\r\n",
        "El incremento tambien es opcional y por defecto es 1"
      ]
    },
    {
      "cell_type": "code",
      "metadata": {
        "colab": {
          "base_uri": "https://localhost:8080/"
        },
        "id": "ZlX1g6FeRDx-",
        "outputId": "4a6c58bf-3a79-43f6-906a-9311eb3a6312"
      },
      "source": [
        "for indice in range(1, len(nombre) , 1) :\r\n",
        "  print(nombre[indice])"
      ],
      "execution_count": null,
      "outputs": [
        {
          "output_type": "stream",
          "text": [
            "y\n",
            "a\n",
            "n\n"
          ],
          "name": "stdout"
        }
      ]
    },
    {
      "cell_type": "code",
      "metadata": {
        "colab": {
          "base_uri": "https://localhost:8080/"
        },
        "id": "QNWX1O1URG9W",
        "outputId": "a3918271-21d4-46ab-b2c2-9a36a99501a8"
      },
      "source": [
        "for indice in range(3, -1 , -1) :\r\n",
        "  print(nombre[indice])"
      ],
      "execution_count": null,
      "outputs": [
        {
          "output_type": "stream",
          "text": [
            "n\n",
            "a\n",
            "y\n",
            "R\n"
          ],
          "name": "stdout"
        }
      ]
    },
    {
      "cell_type": "markdown",
      "metadata": {
        "id": "-hn-HKdpRchW"
      },
      "source": [
        "#Strings e indexado negativo\r\n",
        "En python 3 se agrega una nueva caracteristicas a los arreglos de las cadenas de caracteres, esta consta de la capacidad de indexar de forma negativa. La logica es la siguiente.\r\n",
        "\r\n",
        "El ultimo elemento se le considera como indice (ALTERNATIVO) -1, con lo cual se podria referenciar el final de la cadena sin la necesidad de saber el tamaño de la misma.\r\n",
        "\r\n",
        "\r\n",
        "```\r\n",
        " nombre = 'Ryan'\r\n",
        " \r\n",
        " \r\n",
        " Indice normal:       0  1  2  3 \r\n",
        "                      R  y  a  n\r\n",
        " Indice Alternativo:  -3 -2 -1 0\r\n",
        "```\r\n",
        "\r\n"
      ]
    },
    {
      "cell_type": "code",
      "metadata": {
        "colab": {
          "base_uri": "https://localhost:8080/"
        },
        "id": "Mi9I2N_ERolx",
        "outputId": "5159288d-fdd5-4410-d11c-6f36478ca5fa"
      },
      "source": [
        "nombre = \"Ryan\"\r\n",
        "print( nombre[3] ) #Indexado Normal\r\n",
        "print( nombre[-1] ) #Indexado alternativo ( Negativo )\r\n",
        "print(\"\")\r\n",
        "for indice_alter in range(-1, -5 , -1):\r\n",
        "  print( nombre[indice_alter] )"
      ],
      "execution_count": null,
      "outputs": [
        {
          "output_type": "stream",
          "text": [
            "n\n",
            "n\n",
            "\n",
            "n\n",
            "a\n",
            "y\n",
            "R\n"
          ],
          "name": "stdout"
        }
      ]
    },
    {
      "cell_type": "markdown",
      "metadata": {
        "id": "M_v2OuhyRugT"
      },
      "source": [
        "#Slicing de cadenas de caracteres.\r\n",
        "Esta caracteristica permite sacar secciones de una cadena con la siguiente sintaxis:\r\n",
        "\r\n",
        "```\r\n",
        "[ inicio : stop : incremento ]\r\n",
        "```\r\n",
        "\r\n"
      ]
    },
    {
      "cell_type": "code",
      "metadata": {
        "colab": {
          "base_uri": "https://localhost:8080/"
        },
        "id": "0-V5057uRw48",
        "outputId": "af8e50cc-028c-4dda-854f-3dcb618fcc90"
      },
      "source": [
        "facultad = \"Facultad de Estudios Superiores Aragon (La mejor)\"\r\n",
        "\r\n",
        "print(facultad)\r\n",
        "for indice in range(12, 20, 1):\r\n",
        "  print(facultad[indice] , end =\"\")\r\n",
        "\r\n",
        "  #Hacer esto mismo con la caracteristica Slicing se logra asi:\r\n",
        "print(\"\\nCon Slicing\")\r\n",
        "print(facultad[12:20:1])\r\n",
        "\r\n",
        "  #La palabra 'de' con slicing.\r\n",
        "\r\n",
        "print(facultad[9:11:1])\r\n",
        "\r\n",
        "#La frase 'La mejor' con indexing negativo y slicing:\r\n",
        "\r\n",
        "print(facultad[-9:-1])"
      ],
      "execution_count": null,
      "outputs": [
        {
          "output_type": "stream",
          "text": [
            "Facultad de Estudios Superiores Aragon (La mejor)\n",
            "Estudios\n",
            "Con Slicing\n",
            "Estudios\n",
            "de\n",
            "La mejor\n"
          ],
          "name": "stdout"
        }
      ]
    }
  ]
}