{
  "nbformat": 4,
  "nbformat_minor": 0,
  "metadata": {
    "colab": {
      "name": "CoyP12112020.ipynb",
      "provenance": [],
      "authorship_tag": "ABX9TyNkQJfwJUe5aZOH3A4DKRBC",
      "include_colab_link": true
    },
    "kernelspec": {
      "name": "python3",
      "display_name": "Python 3"
    }
  },
  "cells": [
    {
      "cell_type": "markdown",
      "metadata": {
        "id": "view-in-github",
        "colab_type": "text"
      },
      "source": [
        "<a href=\"https://colab.research.google.com/github/GankG/Computadoras-y-Programacion-1157/blob/google-collab/CoyP12112020.ipynb\" target=\"_parent\"><img src=\"https://colab.research.google.com/assets/colab-badge.svg\" alt=\"Open In Colab\"/></a>"
      ]
    },
    {
      "cell_type": "code",
      "metadata": {
        "id": "dSiI0K5Ns7T1"
      },
      "source": [
        "#Ejemplo 1\n",
        "num = int (input(\"Introduce un numero: \"))\n",
        "if num > 0:\n",
        "  print(\"El numero es positivo.\")"
      ],
      "execution_count": null,
      "outputs": []
    },
    {
      "cell_type": "code",
      "metadata": {
        "id": "MdIlcLSntRo8"
      },
      "source": [
        "#Ejemplo 2\n",
        "num = int (input(\"Introduce un numero: \"))\n",
        "if num > 0:\n",
        "  print(\"El numero es positivo.\")\n",
        "else:\n",
        "  print(\"El numero es negativo.\")"
      ],
      "execution_count": null,
      "outputs": []
    },
    {
      "cell_type": "code",
      "metadata": {
        "id": "01dYuOQCtemX"
      },
      "source": [
        "#Ejemplo 3\n",
        "num = int (input(\"Introduce un numero: \"))\n",
        "if num > 0:\n",
        "  print (\"El numero es positivo.\")\n",
        "elif num == 0:\n",
        "  print (\"El numero es 0.\")\n",
        "else:\n",
        "  print (\"El numero es negativo.\")"
      ],
      "execution_count": null,
      "outputs": []
    }
  ]
}