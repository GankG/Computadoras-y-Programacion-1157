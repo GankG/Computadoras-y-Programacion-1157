{
  "nbformat": 4,
  "nbformat_minor": 0,
  "metadata": {
    "colab": {
      "name": "Tarea 3.ipynb",
      "provenance": [],
      "authorship_tag": "ABX9TyMi0JCPkGyMTKhpCfXCNIot",
      "include_colab_link": true
    },
    "kernelspec": {
      "name": "python3",
      "display_name": "Python 3"
    }
  },
  "cells": [
    {
      "cell_type": "markdown",
      "metadata": {
        "id": "view-in-github",
        "colab_type": "text"
      },
      "source": [
        "<a href=\"https://colab.research.google.com/github/GankG/Computadoras-y-Programacion-1157/blob/google-collab/Tarea_3.ipynb\" target=\"_parent\"><img src=\"https://colab.research.google.com/assets/colab-badge.svg\" alt=\"Open In Colab\"/></a>"
      ]
    },
    {
      "cell_type": "code",
      "metadata": {
        "colab": {
          "base_uri": "https://localhost:8080/"
        },
        "id": "VTVW2Jzd2_Rb",
        "outputId": "a1bccce5-d1ce-4c87-d914-f89677646f80"
      },
      "source": [
        "#Problema 1.1\n",
        "precio, pago = 0, 0\n",
        "while True:\n",
        "  precio = float(input(\"¿Cuanto cuesta el producto a pagar?: $\"))\n",
        "  pago = float(input(\"¿Cuanto pagara el cliente?: $\"))\n",
        "\n",
        "  if precio>pago:\n",
        "    print(\"El cliente no puede comprar ese producto!\")\n",
        "  else:\n",
        "    break\n",
        "\n",
        "if precio==pago:\n",
        "  print(\"El monto de pago fue igual al costo del producto, no hay cambio a otorgar. ($0)\")\n",
        "else:\n",
        "  print(f\"El cambio del cliente es de: ${pago-precio}\")\n"
      ],
      "execution_count": 34,
      "outputs": [
        {
          "output_type": "stream",
          "text": [
            "¿Cuanto cuesta el producto a pagar?: $250\n",
            "¿Cuanto pagara el cliente?: $500\n",
            "El cambio del cliente es de: $250.0\n"
          ],
          "name": "stdout"
        }
      ]
    },
    {
      "cell_type": "code",
      "metadata": {
        "colab": {
          "base_uri": "https://localhost:8080/"
        },
        "id": "tb1xjk_743ZD",
        "outputId": "31b5f8b4-1f59-4456-8215-a1f73813929f"
      },
      "source": [
        "#Problema 1.2\n",
        "b, h = 0, 0\n",
        "\n",
        "print(\"Este ejemplo calculara el area de un triangulo.\")\n",
        "\n",
        "b = float(input(\"¿Cuanto mide la base del triangulo?: \"))\n",
        "h = float(input(\"¿Cuánto mide la altura del triangulo?: \"))\n",
        "\n",
        "print(f\"El area del triangulo con base de {b}u y altura de {h}u es de: {(b*h)/2}u\")"
      ],
      "execution_count": 33,
      "outputs": [
        {
          "output_type": "stream",
          "text": [
            "Este ejemplo calculara el area de un triangulo.\n",
            "¿Cuanto mide la base del triangulo?: 4\n",
            "¿Cuánto mide la altura del triangulo?: 5\n",
            "El area del triangulo con base de 4.0u y altura de 5.0u es de: 10.0u\n"
          ],
          "name": "stdout"
        }
      ]
    },
    {
      "cell_type": "code",
      "metadata": {
        "colab": {
          "base_uri": "https://localhost:8080/"
        },
        "id": "xipkJF305shf",
        "outputId": "a62599ec-9457-4215-846b-9e9331b21a84"
      },
      "source": [
        "#Problema 1.3\n",
        "nombre, peso, longitud, conv = \"\", 0, 0, 0\n",
        "\n",
        "nombre = str(input(\"¿Como se llama el dinosaurio?: \"))\n",
        "\n",
        "peso = float(input(f\"¿Cuanto pesa {nombre} en libras (lb)?: \"))\n",
        "longitud = float(input(f\"¿Cual es la longitud de {nombre} en pies (ft)?: \"))\n",
        "\n",
        "conv = peso/2.2046\n",
        "\n",
        "if conv>1000:\n",
        "  a, b = int(conv), conv - int(conv)\n",
        "  print(f\"{nombre} pesa {a} toneladas (ton) y {b} kilogramos (kg) ({a+b} ton)\")\n",
        "else:\n",
        "  print(f\"{nombre} pesa {peso} en libras (lb), por lo tanto pesa {peso/2.2046} en kilogramos (kg).\")\n",
        "print(f\"{nombre} tiene una longitud de {longitud} en pies (ft), por lo tanto mide {longitud/3.2808} en metros (m)\")"
      ],
      "execution_count": 32,
      "outputs": [
        {
          "output_type": "stream",
          "text": [
            "¿Como se llama el dinosaurio?: Rexoaurus\n",
            "¿Cuanto pesa Rexoaurus en libras (lb)?: 7500\n",
            "¿Cual es la longitud de Rexoaurus en pies (ft)?: 500\n",
            "Rexoaurus pesa 3401 toneladas (ton) y 0.9776830263990632 kilogramos (kg) (3401.977683026399 ton)\n",
            "Rexoaurus tiene una longitud de 500.0 en pies (ft), por lo tanto mide 152.40185320653498 en metros (m)\n"
          ],
          "name": "stdout"
        }
      ]
    },
    {
      "cell_type": "code",
      "metadata": {
        "colab": {
          "base_uri": "https://localhost:8080/"
        },
        "id": "lWMADSTy-aYq",
        "outputId": "127a47e1-31fc-4421-d551-c81c3af0593b"
      },
      "source": [
        "#Problema 1.4\n",
        "\n",
        "def twoDecimals (a):\n",
        "  return float(\"{:.2f}\".format(a))\n",
        "\n",
        "\n",
        "galones, precio, litros = 0, 0, 0\n",
        "precio = 8.20\n",
        "\n",
        "galones = float(input(\"¿Cuantos galones comprara el cliente?: \"))\n",
        "litros = galones/3.78541\n",
        "\n",
        "print(f\"El cliente compro {galones} galones, esto se convierte a {litros} litros.\")\n",
        "print(f\"El precio de la compra de {twoDecimals(litros)} litros, cuando cada uno cuesta $8.20, es de:\\n ${twoDecimals((litros*precio))}\")\n"
      ],
      "execution_count": 29,
      "outputs": [
        {
          "output_type": "stream",
          "text": [
            "¿Cuantos galones comprara el cliente?: 100\n",
            "El cliente compro 100.0 galones, esto se convierte a 26.417217685798896 litros.\n",
            "El precio de la compra de 26.42 litros, cuando cada uno cuesta $8.20, es de:\n",
            " $216.62\n"
          ],
          "name": "stdout"
        }
      ]
    },
    {
      "cell_type": "code",
      "metadata": {
        "colab": {
          "base_uri": "https://localhost:8080/"
        },
        "id": "MVf6kPzDB_FI",
        "outputId": "efe5e24e-b234-45d2-fafa-963a06fc189c"
      },
      "source": [
        "#Problema 1.5\n",
        "radio, altura = 0, 0\n",
        "\n",
        "print(\"Esto calculara el volumen y el area de un cilindro con base a su radio y su altura.\")\n",
        "\n",
        "radio = float(input(\"Ingresa el radio del cilindro: \"))\n",
        "altura = float(input(\"Ingresa la altura del cilindro: \"))\n",
        "\n",
        "print(f\"El volumen del cilindro es: {(3.1416*(radio**2))*altura}u\")\n",
        "print(f\"El area del cilindro es: {(2*3.1416)*radio*altura}u\")"
      ],
      "execution_count": 28,
      "outputs": [
        {
          "output_type": "stream",
          "text": [
            "Esto calculara el volumen y el area de un cilindro con base a su radio y su altura.\n",
            "Ingresa el radio del cilindro: 45.22\n",
            "Ingresa la altura del cilindro: 11.60\n",
            "El volumen del cilindro es: 74519.510507904u\n",
            "El area del cilindro es: 3295.8651264u\n"
          ],
          "name": "stdout"
        }
      ]
    },
    {
      "cell_type": "code",
      "metadata": {
        "colab": {
          "base_uri": "https://localhost:8080/"
        },
        "id": "8oRqQehjEBFt",
        "outputId": "01943b0d-5700-469d-fd3f-e371e26b9f91"
      },
      "source": [
        "#Problema 1.6\n",
        "dias, segundos = 0, 0\n",
        "\n",
        "print(\"Este programa calculara cuantos segundos hay en x dias.\\n\")\n",
        "\n",
        "dias = int(input(\"¿De cuantos dias se obtendran los segundos?: \"))\n",
        "segundos = (dias*24)*3600\n",
        "\n",
        "print(f\"Hay {segundos} segundos en {dias} dias.\")"
      ],
      "execution_count": 37,
      "outputs": [
        {
          "output_type": "stream",
          "text": [
            "Este programa calculara cuantos segundos hay en x dias.\n",
            "\n",
            "¿De cuantos dias se obtendran los segundos?: 7\n",
            "Hay 604800 segundos en 7 dias.\n"
          ],
          "name": "stdout"
        }
      ]
    },
    {
      "cell_type": "code",
      "metadata": {
        "colab": {
          "base_uri": "https://localhost:8080/"
        },
        "id": "rYHXp4jNE8PA",
        "outputId": "e06636e3-a7d1-4a37-803a-36075a2e550a"
      },
      "source": [
        "#Problema 1.7\n",
        "import array\n",
        "array.array('i')\n",
        "a = array.array('i',(0 for i in range(0, 4)))\n",
        "\n",
        "print(\"Este programa calculara el area de un triangulo con base a sus 3 lados.\")\n",
        "\n",
        "for i in range (0, 3):\n",
        " a[i] = int(input(f\"Ingresa el valor del lado {i+1}: \"))\n",
        "\n",
        "print(f\"El area del triangulo con base a sus lados ({a[0]}u, {a[1]}u, {a[2]}u) es de: \\n {(a[0]+a[1]+a[2])/2}u\")"
      ],
      "execution_count": 47,
      "outputs": [
        {
          "output_type": "stream",
          "text": [
            "Este programa calculara el area de un triangulo con base a sus 3 lados.\n",
            "Ingresa el valor del lado 1: 7\n",
            "Ingresa el valor del lado 2: 5\n",
            "Ingresa el valor del lado 3: 12\n",
            "El area del triangulo con base a sus lados (7u, 5u, 12u) es de: \n",
            " 12.0u\n"
          ],
          "name": "stdout"
        }
      ]
    },
    {
      "cell_type": "code",
      "metadata": {
        "colab": {
          "base_uri": "https://localhost:8080/"
        },
        "id": "C243Ia4wGTbB",
        "outputId": "9f76e438-d6d2-4cc7-87c8-f5bd61922edb"
      },
      "source": [
        "#Problema 1.8\n",
        "import math\n",
        "\n",
        "def twoDecimals (a):\n",
        "  return float(\"{:.2f}\".format(a))\n",
        "\n",
        "x1, y1, x2, y2, distancia = 0, 0, 0, 0, 0\n",
        "\n",
        "print(\"Este programa calculara la distancia entre dos puntos.\")\n",
        "\n",
        "x1 = float(input(\"Ingresa el valor de X para el primer punto: \"))\n",
        "y1 = float(input(\"Ingresa el valor de Y para el primer punto: \"))\n",
        "x2 = float(input(\"Ingresa el valor de X para el segundo punto: \"))\n",
        "y2 = float(input(\"Ingresa el valor de Y para el segundo punto: \"))\n",
        "\n",
        "distancia = math.sqrt((x2-x1)**2+(y2-y1)**2)\n",
        "\n",
        "print(f\"La distancia entre los puntos P1({x1,y1}) y P2({x2,y2}) es: \\n {twoDecimals(distancia)}u\")"
      ],
      "execution_count": 50,
      "outputs": [
        {
          "output_type": "stream",
          "text": [
            "Este programa calculara la distancia entre dos puntos.\n",
            "Ingresa el valor de X para el primer punto: 12.17\n",
            "Ingresa el valor de Y para el primer punto: 10.40\n",
            "Ingresa el valor de X para el segundo punto: 10.40\n",
            "Ingresa el valor de Y para el segundo punto: 29.30\n",
            "La distancia entre los puntos P1((12.17, 10.4)) y P2((10.4, 29.3)) es: \n",
            " 18.98u\n"
          ],
          "name": "stdout"
        }
      ]
    }
  ]
}