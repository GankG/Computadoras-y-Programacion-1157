{
  "nbformat": 4,
  "nbformat_minor": 0,
  "metadata": {
    "colab": {
      "name": "Tarea 5.ipynb",
      "provenance": [],
      "authorship_tag": "ABX9TyOxjDfmGe8X9NZ9Q3rvTH7S",
      "include_colab_link": true
    },
    "kernelspec": {
      "name": "python3",
      "display_name": "Python 3"
    }
  },
  "cells": [
    {
      "cell_type": "markdown",
      "metadata": {
        "id": "view-in-github",
        "colab_type": "text"
      },
      "source": [
        "<a href=\"https://colab.research.google.com/github/GankG/Computadoras-y-Programacion-1157/blob/google-collab/Tarea_5.ipynb\" target=\"_parent\"><img src=\"https://colab.research.google.com/assets/colab-badge.svg\" alt=\"Open In Colab\"/></a>"
      ]
    },
    {
      "cell_type": "code",
      "metadata": {
        "colab": {
          "base_uri": "https://localhost:8080/"
        },
        "id": "cPi1ETZmN7TJ",
        "outputId": "ec89ed16-0ab7-4d10-8cf6-06c9d4daa978"
      },
      "source": [
        "#Ejercicio 3.1\n",
        "import array\n",
        "array.array('f')\n",
        "sueldos = array.array('f',(0 for i in range(0, 10)))\n",
        "\n",
        "nomina = float(0)\n",
        "\n",
        "for i in range (0, 10):\n",
        "  sueldos[i] = int(input(f\"Ingresa el {i+1} sueldo: \"))\n",
        "  nomina += sueldos[i]\n",
        "\n",
        "print(\"La nomina de la empresa con base a los sueldos es: \", nomina)\n",
        "\n",
        "#EL LIBRO TIENE MARCADO QUE NO SE DEBE REALIZAR EL ALGORITMO CON NINGUNA ESTRUCTURA DE REPETICIÓN. SIN EMBARGO, ESE ES EL TEMA Y EL PRIMER EJEMPLO\n",
        "#DE DICHA SECCIÓN DEL LIBRO. MARCARÉ EN COMENTARIOS ÉSTE EJERCICIO SIN USAR FOR, WHILE, DO WHILE.\n",
        "\n",
        "#sueldo1 = 0, sueldo2 = 0, sueldo3 = 0, sueldo4 = 0, sueldo5 = 0, sueldo6 = 0, sueldo7 = 0, sueldo8 = 0, sueldo9 = 0, sueldo10 = 0\n",
        "#nomina = float(0)\n",
        "\n",
        "#sueldo1 = float(input(\"Ingresa el primer sueldo: \"))\n",
        "#sueldo2 = float(input(\"Ingresa el segundo sueldo: \"))\n",
        "#sueldo3 = float(input(\"Ingresa el tercer sueldo: \"))\n",
        "#sueldo4 = float(input(\"Ingresa el cuarto sueldo: \"))\n",
        "#sueldo5 = float(input(\"Ingresa el quinto sueldo: \"))\n",
        "#sueldo6 = float(input(\"Ingresa el sexto sueldo: \"))\n",
        "#sueldo7 = float(input(\"Ingresa el séptimo sueldo: \"))\n",
        "#sueldo8 = float(input(\"Ingresa el octavo sueldo: \"))\n",
        "#sueldo9 = float(input(\"Ingresa el noveno sueldo: \"))\n",
        "#sueldo10 = float(input(\"Ingresa el décimo sueldo: \"))\n",
        "\n",
        "#nomina = sueldo1 + sueldo2 + sueldo3 + sueldo4 + sueldo5 + sueldo6 + sueldo7 + sueldo8 + sueldo9 + sueldo10\n",
        "\n",
        "#print(\"La nomina de la empresa es: \",nomina)\n"
      ],
      "execution_count": 5,
      "outputs": [
        {
          "output_type": "stream",
          "text": [
            "Ingresa el 1 sueldo: 500\n",
            "Ingresa el 2 sueldo: 500\n",
            "Ingresa el 3 sueldo: 500\n",
            "Ingresa el 4 sueldo: 500\n",
            "Ingresa el 5 sueldo: 500\n",
            "Ingresa el 6 sueldo: 500\n",
            "Ingresa el 7 sueldo: 500\n",
            "Ingresa el 8 sueldo: 500\n",
            "Ingresa el 9 sueldo: 500\n",
            "Ingresa el 10 sueldo: 500\n",
            "La nomina de la empresa con base a los sueldos es:  5000.0\n"
          ],
          "name": "stdout"
        }
      ]
    },
    {
      "cell_type": "code",
      "metadata": {
        "colab": {
          "base_uri": "https://localhost:8080/"
        },
        "id": "zcWKn-D_Qkxu",
        "outputId": "b6ec88e6-9699-47eb-aaa2-3290ba69dbf9"
      },
      "source": [
        "#Ejercicio 3.4\n",
        "\n",
        "import array\n",
        "array.array('f')\n",
        "gastos = array.array('f',(0 for i in range(0, 999)))\n",
        "a = int(0)\n",
        "yes_no = ''\n",
        "total_gastos = float(0)\n",
        "\n",
        "while True:\n",
        "  gastos[a] = float(input(f\"¿De cuanto fue el {a+1} gasto?: \"))\n",
        "  total_gastos += gastos[a]\n",
        "  while True:\n",
        "    yes_no = ''\n",
        "    yes_no = str(input(\"¿Hubo algún otro gasto? S/N: \"))\n",
        "    if yes_no == 's' or yes_no == 'S' or yes_no == 'n' or yes_no == 'N':\n",
        "      break;\n",
        "    else:\n",
        "      print(\"Debes ingresar S o N para continuar.\\n\")\n",
        "  if yes_no == 'n' or yes_no == 'N':\n",
        "    break;\n",
        "  elif yes_no == 's' or yes_no == 'S':\n",
        "    a += 1\n",
        "\n",
        "print(\"\\nEl total de gastos durante el viaje es de: \",total_gastos)\n",
        "print(\"\\nLos gastos individuales son:\\n\")\n",
        "\n",
        "for i in range (0, a+1):\n",
        "  print(f\"{i+1} gasto es de: {gastos[i]}\")"
      ],
      "execution_count": 29,
      "outputs": [
        {
          "output_type": "stream",
          "text": [
            "¿De cuanto fue el 1 gasto?: 235\n",
            "¿Hubo algún otro gasto? S/N: s\n",
            "¿De cuanto fue el 2 gasto?: 655\n",
            "¿Hubo algún otro gasto? S/N: 780\n",
            "Debes ingresar S o N para continuar.\n",
            "\n",
            "¿Hubo algún otro gasto? S/N: s\n",
            "¿De cuanto fue el 3 gasto?: 780\n",
            "¿Hubo algún otro gasto? S/N: s\n",
            "¿De cuanto fue el 4 gasto?: 800\n",
            "¿Hubo algún otro gasto? S/N: s\n",
            "¿De cuanto fue el 5 gasto?: 500\n",
            "¿Hubo algún otro gasto? S/N: s\n",
            "¿De cuanto fue el 6 gasto?: 450\n",
            "¿Hubo algún otro gasto? S/N: n\n",
            "\n",
            "El total de gastos durante el viaje es de:  3420.0\n",
            "\n",
            "Los gastos individuales son:\n",
            "\n",
            "1 gasto es de: 235.0\n",
            "2 gasto es de: 655.0\n",
            "3 gasto es de: 780.0\n",
            "4 gasto es de: 800.0\n",
            "5 gasto es de: 500.0\n",
            "6 gasto es de: 450.0\n"
          ],
          "name": "stdout"
        }
      ]
    }
  ]
}